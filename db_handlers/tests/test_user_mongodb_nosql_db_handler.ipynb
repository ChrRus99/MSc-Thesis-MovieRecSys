{
 "cells": [
  {
   "cell_type": "code",
   "execution_count": 1,
   "metadata": {},
   "outputs": [],
   "source": [
    "import os\n",
    "import sys\n",
    "from pathlib import Path\n",
    "\n",
    "# Set the path to the directory containing the project\n",
    "sys.path.append('D:\\\\Internship\\\\recsys\\\\db_handlers')\n",
    "sys.path.append('D:\\\\Internship\\\\recsys\\\\movie_recommendation_system\\\\src')"
   ]
  },
  {
   "cell_type": "code",
   "execution_count": 2,
   "metadata": {},
   "outputs": [
    {
     "name": "stderr",
     "output_type": "stream",
     "text": [
      "c:\\Users\\Public\\anaconda3\\envs\\tf-gpu\\Lib\\site-packages\\airflow\\__init__.py:36: RuntimeWarning: Airflow currently can be run on POSIX-compliant Operating Systems. For development, it is regularly tested on fairly modern Linux Distros and recent versions of macOS. On Windows you can run it via WSL2 (Windows Subsystem for Linux 2) or via Linux Containers. The work to add Windows support is tracked via https://github.com/apache/airflow/issues/10388, but it is not a high priority.\n",
      "  warnings.warn(\n",
      "OSError while attempting to symlink the latest log directory\n"
     ]
    },
    {
     "name": "stdout",
     "output_type": "stream",
     "text": [
      "[LOG] Detected local environment, with Docker: [False]\n"
     ]
    }
   ],
   "source": [
    "from db_handlers.user_mongodb_nosql_db_handler import (\n",
    "    create_user_movie_ratings_collection,\n",
    "    create_user_preferences_collection,\n",
    "    store_user_movie_rating,\n",
    "    store_user_preference,\n",
    "    get_user_movie_ratings,\n",
    "    get_user_preferences,\n",
    "    get_all_last_user_movie_ratings,\n",
    "    reset_user_collections,\n",
    "    drop_user_collections\n",
    ")\n",
    "from db_handlers.utils import (\n",
    "    group_ratings_by_user\n",
    ")"
   ]
  },
  {
   "cell_type": "code",
   "execution_count": 3,
   "metadata": {},
   "outputs": [
    {
     "name": "stdout",
     "output_type": "stream",
     "text": [
      "[LOG] Collection 'user_movie_ratings' created successfully in [local] at URL: [('localhost', 27017)].\n",
      "[LOG] Collection 'user_preferences' created successfully in [local] at URL: [('localhost', 27017)].\n"
     ]
    }
   ],
   "source": [
    "# Create collections\n",
    "create_user_movie_ratings_collection()\n",
    "create_user_preferences_collection()"
   ]
  },
  {
   "cell_type": "code",
   "execution_count": 4,
   "metadata": {},
   "outputs": [
    {
     "name": "stdout",
     "output_type": "stream",
     "text": [
      "[LOG] New user rating stored successfully in 'user_movie_ratings' collection.\n",
      "[LOG] New user rating stored successfully in 'user_movie_ratings' collection.\n",
      "[LOG] New user rating stored successfully in 'user_movie_ratings' collection.\n",
      "[LOG] New user rating stored successfully in 'user_movie_ratings' collection.\n"
     ]
    }
   ],
   "source": [
    "import time\n",
    "\n",
    "# Store a user movie rating\n",
    "store_user_movie_rating('user_1', 'movie_1', 5, int(time.time()))\n",
    "store_user_movie_rating('user_1', 'movie_1', 5, int(time.time()))  # Duplicate\n",
    "store_user_movie_rating('user_1', 'movie_2', 1.5, int(time.time()))\n",
    "store_user_movie_rating('user_1', 'movie_2', 3.5, int(time.time()))  # Update"
   ]
  },
  {
   "cell_type": "code",
   "execution_count": 5,
   "metadata": {},
   "outputs": [
    {
     "name": "stdout",
     "output_type": "stream",
     "text": [
      "[LOG] New user preference stored successfully in 'user_preferences' collection.\n",
      "[LOG] New user preference stored successfully in 'user_preferences' collection.\n",
      "[LOG] New user preference stored successfully in 'user_preferences' collection.\n"
     ]
    }
   ],
   "source": [
    "# Store a user preference\n",
    "store_user_preference('user_1', 'I like action movies', int(time.time()))\n",
    "store_user_preference('user_1', 'I like action movies', int(time.time()))  # Duplicate\n",
    "store_user_preference('user_1', 'I don\\'t like Tom Hardy', int(time.time()))"
   ]
  },
  {
   "cell_type": "code",
   "execution_count": 6,
   "metadata": {},
   "outputs": [
    {
     "name": "stdout",
     "output_type": "stream",
     "text": [
      "[('user_1', 'movie_1', 5, 1744231913), ('user_1', 'movie_2', 3.5, 1744231913)]\n"
     ]
    }
   ],
   "source": [
    "# Retrieve user movie ratings\n",
    "user_ratings = get_user_movie_ratings('user_1')\n",
    "print(user_ratings)"
   ]
  },
  {
   "cell_type": "code",
   "execution_count": 7,
   "metadata": {},
   "outputs": [
    {
     "name": "stdout",
     "output_type": "stream",
     "text": [
      "[('user_1', 'I like action movies', 1744231913), ('user_1', \"I don't like Tom Hardy\", 1744231913)]\n"
     ]
    }
   ],
   "source": [
    "# Retrieve user preferences\n",
    "user_preferences = get_user_preferences('user_1')\n",
    "print(user_preferences)"
   ]
  },
  {
   "cell_type": "code",
   "execution_count": 8,
   "metadata": {},
   "outputs": [
    {
     "name": "stdout",
     "output_type": "stream",
     "text": [
      "[LOG] New user rating stored successfully in 'user_movie_ratings' collection.\n",
      "[LOG] New user rating stored successfully in 'user_movie_ratings' collection.\n",
      "[LOG] New user rating stored successfully in 'user_movie_ratings' collection.\n",
      "[LOG] New user rating stored successfully in 'user_movie_ratings' collection.\n",
      "[LOG] New user rating stored successfully in 'user_movie_ratings' collection.\n",
      "[LOG] New user rating stored successfully in 'user_movie_ratings' collection.\n",
      "[LOG] New user rating stored successfully in 'user_movie_ratings' collection.\n",
      "[LOG] New user rating stored successfully in 'user_movie_ratings' collection.\n",
      "[LOG] New user rating stored successfully in 'user_movie_ratings' collection.\n",
      "[LOG] New user rating stored successfully in 'user_movie_ratings' collection.\n"
     ]
    }
   ],
   "source": [
    "# Store 5 preferences from 1 year ago\n",
    "one_year_ago = int(time.time()) - 365 * 24 * 60 * 60\n",
    "for i in range(5):\n",
    "    store_user_movie_rating(f'user_{i}', f'movie_{i}', i, one_year_ago)\n",
    "\n",
    "# Store 5 preferences from the current time\n",
    "current_time = int(time.time())\n",
    "for i in range(5):\n",
    "    store_user_movie_rating(f'user_{i}', f'movie_{i}', i, current_time)\n"
   ]
  },
  {
   "cell_type": "code",
   "execution_count": 9,
   "metadata": {},
   "outputs": [
    {
     "name": "stdout",
     "output_type": "stream",
     "text": [
      "[('bdd62e39-8999-468b-be8a-c36277a93bdc', 744, 5, 1744228613), ('bdd62e39-8999-468b-be8a-c36277a93bdc', 597, 4.5, 1744228613), ('bdd62e39-8999-468b-be8a-c36277a93bdc', 8844, 4.5, 1744228614), ('bdd62e39-8999-468b-be8a-c36277a93bdc', 862, 3.5, 1744228614), ('bdd62e39-8999-468b-be8a-c36277a93bdc', 680, 2, 1744228614), ('user_1', 'movie_1', 1, 1744231913), ('user_1', 'movie_2', 3.5, 1744231913), ('user_0', 'movie_0', 0, 1744231913), ('user_2', 'movie_2', 2, 1744231913), ('user_3', 'movie_3', 3, 1744231913), ('user_4', 'movie_4', 4, 1744231913)]\n",
      "{'bdd62e39-8999-468b-be8a-c36277a93bdc': [('bdd62e39-8999-468b-be8a-c36277a93bdc', 744, 5, 1744228613), ('bdd62e39-8999-468b-be8a-c36277a93bdc', 597, 4.5, 1744228613), ('bdd62e39-8999-468b-be8a-c36277a93bdc', 8844, 4.5, 1744228614), ('bdd62e39-8999-468b-be8a-c36277a93bdc', 862, 3.5, 1744228614), ('bdd62e39-8999-468b-be8a-c36277a93bdc', 680, 2, 1744228614)], 'user_1': [('user_1', 'movie_1', 1, 1744231913), ('user_1', 'movie_2', 3.5, 1744231913)], 'user_0': [('user_0', 'movie_0', 0, 1744231913)], 'user_2': [('user_2', 'movie_2', 2, 1744231913)], 'user_3': [('user_3', 'movie_3', 3, 1744231913)], 'user_4': [('user_4', 'movie_4', 4, 1744231913)]}\n"
     ]
    }
   ],
   "source": [
    "# Retrieve all user preferences which are not older than 1 day ago\n",
    "user_preferences = get_all_last_user_movie_ratings(after_timestamp=current_time - 24 * 60 * 60)\n",
    "print(user_preferences)\n",
    "print(group_ratings_by_user(user_preferences))"
   ]
  },
  {
   "cell_type": "code",
   "execution_count": 10,
   "metadata": {},
   "outputs": [
    {
     "name": "stdout",
     "output_type": "stream",
     "text": [
      "[LOG] Collections 'user_movie_ratings' and 'user_preferences' reset successfully.\n"
     ]
    }
   ],
   "source": [
    "reset_user_collections()"
   ]
  },
  {
   "cell_type": "code",
   "execution_count": 11,
   "metadata": {},
   "outputs": [
    {
     "name": "stdout",
     "output_type": "stream",
     "text": [
      "[LOG] Collections 'user_movie_ratings' and 'user_preferences' dropped successfully.\n"
     ]
    }
   ],
   "source": [
    "drop_user_collections()"
   ]
  }
 ],
 "metadata": {
  "kernelspec": {
   "display_name": "tf-gpu",
   "language": "python",
   "name": "python3"
  },
  "language_info": {
   "codemirror_mode": {
    "name": "ipython",
    "version": 3
   },
   "file_extension": ".py",
   "mimetype": "text/x-python",
   "name": "python",
   "nbconvert_exporter": "python",
   "pygments_lexer": "ipython3",
   "version": "3.12.3"
  }
 },
 "nbformat": 4,
 "nbformat_minor": 2
}
