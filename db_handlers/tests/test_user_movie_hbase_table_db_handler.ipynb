{
 "cells": [
  {
   "cell_type": "code",
   "execution_count": 1,
   "metadata": {},
   "outputs": [],
   "source": [
    "import os\n",
    "import sys\n",
    "import pandas as pd\n",
    "\n",
    "# Set the path to the directory containing the project\n",
    "sys.path.append('D:\\\\Internship\\\\recsys\\\\db_handlers')"
   ]
  },
  {
   "cell_type": "code",
   "execution_count": 2,
   "metadata": {},
   "outputs": [
    {
     "name": "stdout",
     "output_type": "stream",
     "text": [
      "[LOG] Detected local environment, with Docker: [False]\n"
     ]
    }
   ],
   "source": [
    "from db_handlers.user_movie_hbase_table_db_handler import (\n",
    "    delete_all_hbase_tables,\n",
    "    create_user_movie_ratings_table,\n",
    "    drop_user_movie_ratings_table,\n",
    "    reset_user_movie_ratings_table,\n",
    "    store_user_movie_prediction,\n",
    "    store_user_movie_predictions,\n",
    "    get_user_movie_prediction,\n",
    "    get_all_user_predictions,\n",
    "    get_user_ids,\n",
    ")"
   ]
  },
  {
   "cell_type": "code",
   "execution_count": 3,
   "metadata": {},
   "outputs": [],
   "source": [
    "# # Delete all existing hbase tables\n",
    "# delete_all_hbase_tables()"
   ]
  },
  {
   "cell_type": "code",
   "execution_count": 4,
   "metadata": {},
   "outputs": [
    {
     "name": "stdout",
     "output_type": "stream",
     "text": [
      "[LOG] Table 'user_movie_ratings' created successfully in [local] at URL: [localhost].\n"
     ]
    }
   ],
   "source": [
    "# Create table\n",
    "create_user_movie_ratings_table()"
   ]
  },
  {
   "cell_type": "code",
   "execution_count": 5,
   "metadata": {},
   "outputs": [
    {
     "name": "stdout",
     "output_type": "stream",
     "text": [
      "[LOG] Stored rating 4.5 for user 123 and movie 456.\n"
     ]
    }
   ],
   "source": [
    "# Store a single user-movie prediction\n",
    "store_user_movie_prediction(user_id=123, movie_id=456, rating=4.5)"
   ]
  },
  {
   "cell_type": "code",
   "execution_count": 6,
   "metadata": {},
   "outputs": [
    {
     "name": "stdout",
     "output_type": "stream",
     "text": [
      "[LOG] Stored 3 predictions successfully.\n"
     ]
    }
   ],
   "source": [
    "# Store multiple user-movie predictions in batch\n",
    "predictions_df = pd.DataFrame([\n",
    "    (123, 789, 3.5),\n",
    "    (123, 456, 4.0),\n",
    "    (125, 123, 5.0)\n",
    "], columns=[\"userId\", \"movieId\", \"rating\"])\n",
    "store_user_movie_predictions(predictions_df)"
   ]
  },
  {
   "cell_type": "code",
   "execution_count": 7,
   "metadata": {},
   "outputs": [
    {
     "name": "stdout",
     "output_type": "stream",
     "text": [
      "Prediction: 4.0\n"
     ]
    }
   ],
   "source": [
    "# Get a single user-movie prediction\n",
    "prediction = get_user_movie_prediction(user_id=123, movie_id=456)\n",
    "print(f\"Prediction: {prediction}\")"
   ]
  },
  {
   "cell_type": "code",
   "execution_count": 8,
   "metadata": {},
   "outputs": [
    {
     "name": "stdout",
     "output_type": "stream",
     "text": [
      "Retrieved predictions for user 123 as DataFrame:\n"
     ]
    },
    {
     "data": {
      "text/html": [
       "<div>\n",
       "<style scoped>\n",
       "    .dataframe tbody tr th:only-of-type {\n",
       "        vertical-align: middle;\n",
       "    }\n",
       "\n",
       "    .dataframe tbody tr th {\n",
       "        vertical-align: top;\n",
       "    }\n",
       "\n",
       "    .dataframe thead th {\n",
       "        text-align: right;\n",
       "    }\n",
       "</style>\n",
       "<table border=\"1\" class=\"dataframe\">\n",
       "  <thead>\n",
       "    <tr style=\"text-align: right;\">\n",
       "      <th></th>\n",
       "      <th>userId</th>\n",
       "      <th>movieId</th>\n",
       "      <th>rating</th>\n",
       "    </tr>\n",
       "  </thead>\n",
       "  <tbody>\n",
       "    <tr>\n",
       "      <th>0</th>\n",
       "      <td>123</td>\n",
       "      <td>456</td>\n",
       "      <td>4.0</td>\n",
       "    </tr>\n",
       "    <tr>\n",
       "      <th>1</th>\n",
       "      <td>123</td>\n",
       "      <td>789</td>\n",
       "      <td>3.5</td>\n",
       "    </tr>\n",
       "  </tbody>\n",
       "</table>\n",
       "</div>"
      ],
      "text/plain": [
       "   userId  movieId  rating\n",
       "0     123      456     4.0\n",
       "1     123      789     3.5"
      ]
     },
     "execution_count": 8,
     "metadata": {},
     "output_type": "execute_result"
    }
   ],
   "source": [
    "# Retrieve predictions for a specific user\n",
    "user_predictions = get_all_user_predictions(user_id=123)\n",
    "print(\"Retrieved predictions for user 123 as DataFrame:\")\n",
    "user_predictions"
   ]
  },
  {
   "cell_type": "code",
   "execution_count": 9,
   "metadata": {},
   "outputs": [
    {
     "name": "stdout",
     "output_type": "stream",
     "text": [
      "Retrieved user ids: ['123', '125']\n"
     ]
    }
   ],
   "source": [
    "# Retrieve all user ids\n",
    "user_ids = get_user_ids()\n",
    "print(f\"Retrieved user ids: {user_ids}\")"
   ]
  },
  {
   "cell_type": "code",
   "execution_count": 10,
   "metadata": {},
   "outputs": [
    {
     "name": "stdout",
     "output_type": "stream",
     "text": [
      "[LOG] Table 'user_movie_ratings' dropped.\n",
      "[LOG] Table 'user_movie_ratings' created successfully in [local] at URL: [localhost].\n"
     ]
    }
   ],
   "source": [
    "# Reset the table\n",
    "reset_user_movie_ratings_table()"
   ]
  },
  {
   "cell_type": "code",
   "execution_count": 11,
   "metadata": {},
   "outputs": [
    {
     "name": "stdout",
     "output_type": "stream",
     "text": [
      "[LOG] Table 'user_movie_ratings' dropped.\n"
     ]
    }
   ],
   "source": [
    "# Drop the table\n",
    "drop_user_movie_ratings_table()"
   ]
  }
 ],
 "metadata": {
  "kernelspec": {
   "display_name": "tf-gpu",
   "language": "python",
   "name": "python3"
  },
  "language_info": {
   "codemirror_mode": {
    "name": "ipython",
    "version": 3
   },
   "file_extension": ".py",
   "mimetype": "text/x-python",
   "name": "python",
   "nbconvert_exporter": "python",
   "pygments_lexer": "ipython3",
   "version": "3.12.3"
  }
 },
 "nbformat": 4,
 "nbformat_minor": 2
}
