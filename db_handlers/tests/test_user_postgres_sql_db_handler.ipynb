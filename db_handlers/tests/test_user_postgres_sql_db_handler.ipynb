{
 "cells": [
  {
   "cell_type": "code",
   "execution_count": 1,
   "metadata": {},
   "outputs": [],
   "source": [
    "import os\n",
    "import sys\n",
    "from pathlib import Path\n",
    "\n",
    "# Set the path to the directory containing the project\n",
    "sys.path.append('D:\\\\Internship\\\\recsys\\\\db_handlers')\n",
    "sys.path.append('D:\\\\Internship\\\\recsys\\\\movie_recommendation_system\\\\src')"
   ]
  },
  {
   "cell_type": "code",
   "execution_count": 2,
   "metadata": {},
   "outputs": [
    {
     "name": "stderr",
     "output_type": "stream",
     "text": [
      "c:\\Users\\Public\\anaconda3\\envs\\tf-gpu\\Lib\\site-packages\\airflow\\__init__.py:36: RuntimeWarning: Airflow currently can be run on POSIX-compliant Operating Systems. For development, it is regularly tested on fairly modern Linux Distros and recent versions of macOS. On Windows you can run it via WSL2 (Windows Subsystem for Linux 2) or via Linux Containers. The work to add Windows support is tracked via https://github.com/apache/airflow/issues/10388, but it is not a high priority.\n",
      "  warnings.warn(\n",
      "OSError while attempting to symlink the latest log directory\n"
     ]
    },
    {
     "name": "stdout",
     "output_type": "stream",
     "text": [
      "[LOG] Detected local environment, with Docker: [False]\n"
     ]
    }
   ],
   "source": [
    "from db_handlers.user_postgres_sql_db_handler import (\n",
    "    create_user_register_table,\n",
    "    create_user_model_lookup_table,\n",
    "    reset_user_tables,\n",
    "    drop_user_tables,\n",
    "    store_new_user,\n",
    "    #store_new_user_model_id,\n",
    "    is_user_registered,\n",
    "    get_user_info,\n",
    "    get_user_model_id,\n",
    "    get_user_ids,\n",
    "    get_user_model_ids,\n",
    ")"
   ]
  },
  {
   "cell_type": "code",
   "execution_count": 3,
   "metadata": {},
   "outputs": [
    {
     "name": "stdout",
     "output_type": "stream",
     "text": [
      "[LOG] Table 'user_register' created successfully in [local] at URL: [localhost].\n"
     ]
    }
   ],
   "source": [
    "# Create user register table\n",
    "create_user_register_table()"
   ]
  },
  {
   "cell_type": "code",
   "execution_count": 4,
   "metadata": {},
   "outputs": [
    {
     "name": "stdout",
     "output_type": "stream",
     "text": [
      "[LOG] Table 'user_model_lookup' created successfully in [local] at URL: [localhost].\n"
     ]
    }
   ],
   "source": [
    "# Create user model lookup table\n",
    "create_user_model_lookup_table()"
   ]
  },
  {
   "cell_type": "code",
   "execution_count": 5,
   "metadata": {},
   "outputs": [
    {
     "name": "stdout",
     "output_type": "stream",
     "text": [
      "[LOG] Assigned new model ID 1000 to user a01ff7fc-fe5a-4b0d-be89-c795e99cb8fd in 'user_model_lookup' table.\n",
      "[LOG] New user a01ff7fc-fe5a-4b0d-be89-c795e99cb8fd stored successfully in 'user_register' table\n",
      "[LOG] User a01ff7fc-fe5a-4b0d-be89-c795e99cb8fd already has an associated model ID 1000. Skipping insertion.\n",
      "[LOG] New user a01ff7fc-fe5a-4b0d-be89-c795e99cb8fd stored successfully in 'user_register' table\n",
      "[LOG] Assigned new model ID 1001 to user 96888d1d-53c6-4794-b818-e17ebe7e9795 in 'user_model_lookup' table.\n",
      "[LOG] New user 96888d1d-53c6-4794-b818-e17ebe7e9795 stored successfully in 'user_register' table\n",
      "[LOG] User 96888d1d-53c6-4794-b818-e17ebe7e9795 already has an associated model ID 1001. Skipping insertion.\n",
      "[LOG] New user 96888d1d-53c6-4794-b818-e17ebe7e9795 stored successfully in 'user_register' table\n",
      "[LOG] User 96888d1d-53c6-4794-b818-e17ebe7e9795 already has an associated model ID 1001. Skipping insertion.\n",
      "[LOG] New user 96888d1d-53c6-4794-b818-e17ebe7e9795 stored successfully in 'user_register' table\n"
     ]
    }
   ],
   "source": [
    "import time\n",
    "import uuid\n",
    "\n",
    "# Generate new user IDs\n",
    "user_1_id = \"a01ff7fc-fe5a-4b0d-be89-c795e99cb8fd\" #str(uuid.uuid4())\n",
    "user_2_id = \"96888d1d-53c6-4794-b818-e17ebe7e9795\" #str(uuid.uuid4())\n",
    "\n",
    "# Store a new user\n",
    "store_new_user(user_1_id, 'John', 'Doe', 'john.doe@example.com', int(time.time()))\n",
    "store_new_user(user_1_id, 'John', 'Doe', 'john.doe@example.com', int(time.time()))  # Duplicate user\n",
    "store_new_user(user_2_id, 'Alex', 'Moe', 'alex.moes@example.com', int(time.time()))\n",
    "store_new_user(user_2_id, 'Alex', 'Moes', 'alex.moes@example.com', int(time.time()))  # Update\n",
    "store_new_user(user_2_id, 'Alex', 'Moes', 'new.alex.moes@example.com', int(time.time()))  # Update"
   ]
  },
  {
   "cell_type": "code",
   "execution_count": 6,
   "metadata": {},
   "outputs": [
    {
     "name": "stdout",
     "output_type": "stream",
     "text": [
      "True\n",
      "True\n",
      "False\n"
     ]
    }
   ],
   "source": [
    "# Check if users are registered\n",
    "print(is_user_registered(user_1_id))  # Should return True\n",
    "print(is_user_registered(user_2_id))  # Should return True\n",
    "\n",
    "non_existent_user_id = str(uuid.uuid4())\n",
    "print(is_user_registered(non_existent_user_id))  # Should return False"
   ]
  },
  {
   "cell_type": "code",
   "execution_count": 7,
   "metadata": {},
   "outputs": [
    {
     "name": "stdout",
     "output_type": "stream",
     "text": [
      "{'user_id': 'a01ff7fc-fe5a-4b0d-be89-c795e99cb8fd', 'first_name': 'John', 'last_name': 'Doe', 'email': 'john.doe@example.com', 'timestamp': 1744366891}\n",
      "{'user_id': '96888d1d-53c6-4794-b818-e17ebe7e9795', 'first_name': 'Alex', 'last_name': 'Moes', 'email': 'new.alex.moes@example.com', 'timestamp': 1744366891}\n"
     ]
    }
   ],
   "source": [
    "# Retrieve and print user information\n",
    "user_info = get_user_info(user_1_id)\n",
    "print(user_info)\n",
    "user_info = get_user_info(user_2_id)\n",
    "print(user_info)"
   ]
  },
  {
   "cell_type": "code",
   "execution_count": 8,
   "metadata": {},
   "outputs": [
    {
     "name": "stdout",
     "output_type": "stream",
     "text": [
      "1000\n",
      "1001\n"
     ]
    }
   ],
   "source": [
    "# Retrieve and pring user model IDs\n",
    "user_model_id = get_user_model_id(user_1_id)\n",
    "print(user_model_id)\n",
    "user_model_id = get_user_model_id(user_2_id)\n",
    "print(user_model_id)"
   ]
  },
  {
   "cell_type": "code",
   "execution_count": 9,
   "metadata": {},
   "outputs": [
    {
     "name": "stdout",
     "output_type": "stream",
     "text": [
      "['a01ff7fc-fe5a-4b0d-be89-c795e99cb8fd', '96888d1d-53c6-4794-b818-e17ebe7e9795']\n"
     ]
    }
   ],
   "source": [
    "# Retrieve and print all user IDs\n",
    "user_ids = get_user_ids()\n",
    "print(user_ids)"
   ]
  },
  {
   "cell_type": "code",
   "execution_count": 10,
   "metadata": {},
   "outputs": [
    {
     "name": "stdout",
     "output_type": "stream",
     "text": [
      "[{'user_id': 'a01ff7fc-fe5a-4b0d-be89-c795e99cb8fd', 'model_id': 1000}, {'user_id': '96888d1d-53c6-4794-b818-e17ebe7e9795', 'model_id': 1001}]\n"
     ]
    }
   ],
   "source": [
    "# Retrieve and print all user model IDs\n",
    "user_model_ids = get_user_model_ids()\n",
    "print(user_model_ids)"
   ]
  },
  {
   "cell_type": "code",
   "execution_count": 11,
   "metadata": {},
   "outputs": [
    {
     "name": "stdout",
     "output_type": "stream",
     "text": [
      "[LOG] Tables 'user_register' and 'user_model_lookup' reset successfully.\n"
     ]
    }
   ],
   "source": [
    "# Reset user tables\n",
    "reset_user_tables()"
   ]
  },
  {
   "cell_type": "code",
   "execution_count": 12,
   "metadata": {},
   "outputs": [
    {
     "name": "stdout",
     "output_type": "stream",
     "text": [
      "[LOG] Tables 'user_register' and 'user_model_lookup' dropped successfully.\n"
     ]
    }
   ],
   "source": [
    "# Drop user tables\n",
    "drop_user_tables()"
   ]
  }
 ],
 "metadata": {
  "kernelspec": {
   "display_name": "tf-gpu",
   "language": "python",
   "name": "python3"
  },
  "language_info": {
   "codemirror_mode": {
    "name": "ipython",
    "version": 3
   },
   "file_extension": ".py",
   "mimetype": "text/x-python",
   "name": "python",
   "nbconvert_exporter": "python",
   "pygments_lexer": "ipython3",
   "version": "3.12.3"
  }
 },
 "nbformat": 4,
 "nbformat_minor": 2
}
