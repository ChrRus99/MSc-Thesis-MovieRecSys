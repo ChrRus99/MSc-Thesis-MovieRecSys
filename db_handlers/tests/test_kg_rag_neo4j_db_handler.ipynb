{
 "cells": [
  {
   "cell_type": "code",
   "execution_count": 1,
   "metadata": {},
   "outputs": [],
   "source": [
    "import os\n",
    "import sys\n",
    "import numpy as np\n",
    "import pandas as pd\n",
    "from pathlib import Path\n",
    "\n",
    "# Set the path to the directory containing the project\n",
    "sys.path.append('D:\\\\Internship\\\\recsys\\\\db_handlers')\n",
    "sys.path.append('D:\\\\Internship\\\\recsys\\\\movie_recommendation_system\\\\src')"
   ]
  },
  {
   "cell_type": "code",
   "execution_count": 2,
   "metadata": {},
   "outputs": [
    {
     "name": "stderr",
     "output_type": "stream",
     "text": [
      "c:\\Users\\Public\\anaconda3\\envs\\tf-gpu\\Lib\\site-packages\\airflow\\__init__.py:36: RuntimeWarning: Airflow currently can be run on POSIX-compliant Operating Systems. For development, it is regularly tested on fairly modern Linux Distros and recent versions of macOS. On Windows you can run it via WSL2 (Windows Subsystem for Linux 2) or via Linux Containers. The work to add Windows support is tracked via https://github.com/apache/airflow/issues/10388, but it is not a high priority.\n",
      "  warnings.warn(\n",
      "OSError while attempting to symlink the latest log directory\n"
     ]
    },
    {
     "name": "stdout",
     "output_type": "stream",
     "text": [
      "[LOG] Detected local environment, with Docker: [False]\n"
     ]
    }
   ],
   "source": [
    "from db_handlers.kg_rag_neo4j_db_handler import (\n",
    "    create_knowledge_graph,\n",
    "    reset_knowledge_graph,\n",
    "    store_movie_rating,\n",
    "    #store_new_movies_cast_and_crew_nodes,\n",
    "    get_movie_cast_and_crew_information,\n",
    "    show,\n",
    ")"
   ]
  },
  {
   "cell_type": "code",
   "execution_count": 3,
   "metadata": {},
   "outputs": [
    {
     "data": {
      "text/html": [
       "<pre style=\"white-space:pre;overflow-x:auto;line-height:normal;font-family:Menlo,'DejaVu Sans Mono',consolas,'Courier New',monospace\"><span style=\"color: #808000; text-decoration-color: #808000; font-weight: bold\">D:\\Internship\\recsys\\movie_recommendation_system\\src\\movie_recommender\\data\\tabular_dataset_handler.py:</span><span style=\"color: #808000; text-decoration-color: #808000; font-weight: bold\">265</span><span style=\"color: #808000; text-decoration-color: #808000; font-weight: bold\"> DtypeWarning</span><span style=\"color: #808000; text-decoration-color: #808000\">: Columns </span><span style=\"color: #808000; text-decoration-color: #808000; font-weight: bold\">(</span><span style=\"color: #808000; text-decoration-color: #808000; font-weight: bold\">10</span><span style=\"color: #808000; text-decoration-color: #808000; font-weight: bold\">)</span><span style=\"color: #808000; text-decoration-color: #808000\"> have mixed types. Specify dtype option on import or set </span><span style=\"color: #808000; text-decoration-color: #808000\">low_memory</span><span style=\"color: #808000; text-decoration-color: #808000\">=</span><span style=\"color: #808000; text-decoration-color: #808000; font-style: italic\">False</span><span style=\"color: #808000; text-decoration-color: #808000\">.</span>\n",
       "</pre>\n"
      ],
      "text/plain": [
       "\u001b[1;33mD:\\Internship\\recsys\\movie_recommendation_system\\src\\movie_recommender\\data\\tabular_dataset_handler.py:\u001b[0m\u001b[1;33m265\u001b[0m\u001b[1;33m DtypeWarning\u001b[0m\u001b[33m: Columns \u001b[0m\u001b[1;33m(\u001b[0m\u001b[1;33m10\u001b[0m\u001b[1;33m)\u001b[0m\u001b[33m have mixed types. Specify dtype option on import or set \u001b[0m\u001b[33mlow_memory\u001b[0m\u001b[33m=\u001b[0m\u001b[3;33mFalse\u001b[0m\u001b[33m.\u001b[0m\n"
      ]
     },
     "metadata": {},
     "output_type": "display_data"
    },
    {
     "data": {
      "text/plain": [
       "<movie_recommender.data.tabular_dataset_handler.TabularDatasetHandler at 0x292aee20500>"
      ]
     },
     "execution_count": 3,
     "metadata": {},
     "output_type": "execute_result"
    }
   ],
   "source": [
    "from movie_recommender.data.tabular_dataset_handler import TabularDatasetHandler\n",
    "\n",
    "data_dir = 'D:\\\\Internship\\\\recsys\\\\data\\\\movielens'\n",
    "\n",
    "# Generate data to be stored in the tables\n",
    "tdh = TabularDatasetHandler(data_dir)\n",
    "tdh.load_datasets()\n",
    "tdh.preprocess_datasets()\n",
    "\n",
    "# data_dir = 'D:\\\\Internship\\\\recsys\\\\data\\\\movielens_processed\\\\tdh_instance.pkl'\n",
    "\n",
    "# tdh = TabularDatasetHandler.load_class_instance(filepath=data_dir)"
   ]
  },
  {
   "cell_type": "code",
   "execution_count": 4,
   "metadata": {},
   "outputs": [],
   "source": [
    "movies_df = tdh.get_movies_df_deepcopy()\n",
    "credits_df = tdh.get_credits_df_deepcopy()"
   ]
  },
  {
   "cell_type": "code",
   "execution_count": 5,
   "metadata": {},
   "outputs": [
    {
     "data": {
      "text/html": [
       "<div>\n",
       "<style scoped>\n",
       "    .dataframe tbody tr th:only-of-type {\n",
       "        vertical-align: middle;\n",
       "    }\n",
       "\n",
       "    .dataframe tbody tr th {\n",
       "        vertical-align: top;\n",
       "    }\n",
       "\n",
       "    .dataframe thead th {\n",
       "        text-align: right;\n",
       "    }\n",
       "</style>\n",
       "<table border=\"1\" class=\"dataframe\">\n",
       "  <thead>\n",
       "    <tr style=\"text-align: right;\">\n",
       "      <th></th>\n",
       "      <th>id</th>\n",
       "      <th>title</th>\n",
       "      <th>budget</th>\n",
       "      <th>genres</th>\n",
       "      <th>overview</th>\n",
       "      <th>production_companies</th>\n",
       "      <th>production_countries</th>\n",
       "      <th>release_date</th>\n",
       "      <th>revenue</th>\n",
       "      <th>runtime</th>\n",
       "      <th>spoken_languages</th>\n",
       "      <th>tagline</th>\n",
       "      <th>cast</th>\n",
       "      <th>crew</th>\n",
       "    </tr>\n",
       "  </thead>\n",
       "  <tbody>\n",
       "    <tr>\n",
       "      <th>0</th>\n",
       "      <td>862</td>\n",
       "      <td>Toy Story</td>\n",
       "      <td>30000000</td>\n",
       "      <td>[Animation, Comedy, Family]</td>\n",
       "      <td>Led by Woody, Andy's toys live happily in his ...</td>\n",
       "      <td>[Pixar Animation Studios]</td>\n",
       "      <td>[United States of America]</td>\n",
       "      <td>1995-10-30</td>\n",
       "      <td>373554033.0</td>\n",
       "      <td>81.0</td>\n",
       "      <td>[English]</td>\n",
       "      <td></td>\n",
       "      <td>[{'character': 'Woody (voice)', 'name': 'Tom H...</td>\n",
       "      <td>[{'department': 'Directing', 'job': 'Director'...</td>\n",
       "    </tr>\n",
       "    <tr>\n",
       "      <th>1</th>\n",
       "      <td>8844</td>\n",
       "      <td>Jumanji</td>\n",
       "      <td>65000000</td>\n",
       "      <td>[Adventure, Fantasy, Family]</td>\n",
       "      <td>When siblings Judy and Peter discover an encha...</td>\n",
       "      <td>[TriStar Pictures, Teitler Film, Interscope Co...</td>\n",
       "      <td>[United States of America]</td>\n",
       "      <td>1995-12-15</td>\n",
       "      <td>262797249.0</td>\n",
       "      <td>104.0</td>\n",
       "      <td>[English, Français]</td>\n",
       "      <td>Roll the dice and unleash the excitement!</td>\n",
       "      <td>[{'character': 'Alan Parrish', 'name': 'Robin ...</td>\n",
       "      <td>[{'department': 'Production', 'job': 'Executiv...</td>\n",
       "    </tr>\n",
       "  </tbody>\n",
       "</table>\n",
       "</div>"
      ],
      "text/plain": [
       "     id      title    budget                        genres  \\\n",
       "0   862  Toy Story  30000000   [Animation, Comedy, Family]   \n",
       "1  8844    Jumanji  65000000  [Adventure, Fantasy, Family]   \n",
       "\n",
       "                                            overview  \\\n",
       "0  Led by Woody, Andy's toys live happily in his ...   \n",
       "1  When siblings Judy and Peter discover an encha...   \n",
       "\n",
       "                                production_companies  \\\n",
       "0                          [Pixar Animation Studios]   \n",
       "1  [TriStar Pictures, Teitler Film, Interscope Co...   \n",
       "\n",
       "         production_countries release_date      revenue  runtime  \\\n",
       "0  [United States of America]   1995-10-30  373554033.0     81.0   \n",
       "1  [United States of America]   1995-12-15  262797249.0    104.0   \n",
       "\n",
       "      spoken_languages                                    tagline  \\\n",
       "0            [English]                                              \n",
       "1  [English, Français]  Roll the dice and unleash the excitement!   \n",
       "\n",
       "                                                cast  \\\n",
       "0  [{'character': 'Woody (voice)', 'name': 'Tom H...   \n",
       "1  [{'character': 'Alan Parrish', 'name': 'Robin ...   \n",
       "\n",
       "                                                crew  \n",
       "0  [{'department': 'Directing', 'job': 'Director'...  \n",
       "1  [{'department': 'Production', 'job': 'Executiv...  "
      ]
     },
     "execution_count": 5,
     "metadata": {},
     "output_type": "execute_result"
    }
   ],
   "source": [
    "# Merge movies and credits DataFrames\n",
    "merged_df = movies_df.merge(credits_df, on='id', how='left')\n",
    "merged_df = merged_df[[\"id\", \"title\", \"budget\", \"genres\", \"overview\", \"production_companies\", \"production_countries\", \"release_date\", \"revenue\", \"runtime\", \"spoken_languages\", \"tagline\", \"cast\", \"crew\"]]\n",
    "\n",
    "# Preprocessing\n",
    "merged_df['tagline'] = merged_df['tagline'].replace({np.nan: \"\"})\n",
    "merged_df['budget'] = merged_df['budget'].replace({np.nan: -1, 0: -1})\n",
    "merged_df['overview'] = merged_df['overview'].replace({np.nan: \"\"})\n",
    "merged_df['release_date'] = merged_df['release_date'].replace({np.nan: \"\"})\n",
    "merged_df['revenue'] = merged_df['revenue'].replace({np.nan: -1, 0: -1})\n",
    "merged_df['runtime'] = merged_df['runtime'].replace({np.nan: -1, 0: -1})\n",
    "merged_df['cast'] = merged_df['cast'].apply(\n",
    "    lambda x: list(x) if isinstance(x, (list, np.ndarray)) else []\n",
    ")\n",
    "merged_df['crew'] = merged_df['crew'].apply(\n",
    "    lambda x: list(x) if isinstance(x, (list, np.ndarray)) else []\n",
    ")\n",
    "\n",
    "merged_df.head(2)"
   ]
  },
  {
   "cell_type": "code",
   "execution_count": 6,
   "metadata": {},
   "outputs": [],
   "source": [
    "# row = merged_df.iloc[1]\n",
    "# print(row.to_dict())"
   ]
  },
  {
   "cell_type": "code",
   "execution_count": 7,
   "metadata": {},
   "outputs": [],
   "source": [
    "# rows_with_nan = merged_df[merged_df.isnull().any(axis=1)]\n",
    "\n",
    "# # Print which value is NaN in each row\n",
    "# for index, row in rows_with_nan.iterrows():\n",
    "#     nan_columns = row[row.isnull()].index.tolist()\n",
    "#     print(f\"Row {index} has NaN in columns: {nan_columns}\")\n",
    "#     print(row.to_dict())"
   ]
  },
  {
   "cell_type": "code",
   "execution_count": 8,
   "metadata": {},
   "outputs": [
    {
     "data": {
      "text/html": [
       "<pre style=\"white-space:pre;overflow-x:auto;line-height:normal;font-family:Menlo,'DejaVu Sans Mono',consolas,'Courier New',monospace\"><span style=\"color: #808000; text-decoration-color: #808000; font-weight: bold\">D:\\Internship\\recsys\\db_handlers\\db_handlers\\kg_rag_neo4j_db_handler.py:</span><span style=\"color: #808000; text-decoration-color: #808000; font-weight: bold\">51</span><span style=\"color: #808000; text-decoration-color: #808000; font-weight: bold\"> LangChainDeprecationWarning</span><span style=\"color: #808000; text-decoration-color: #808000\">: The class `Neo4jGraph` was deprecated in LangChain </span><span style=\"color: #808000; text-decoration-color: #808000; font-weight: bold\">0.3</span><span style=\"color: #808000; text-decoration-color: #808000\">.</span><span style=\"color: #808000; text-decoration-color: #808000; font-weight: bold\">8</span><span style=\"color: #808000; text-decoration-color: #808000\"> and will be removed in </span><span style=\"color: #808000; text-decoration-color: #808000; font-weight: bold\">1.0</span><span style=\"color: #808000; text-decoration-color: #808000\">. An updated version of the class exists in the :class:`~langchain-neo4j package and should be used instead. To use it run `pip install -U :class:`~langchain-neo4j` and import as `from :class:`~langchain_neo4j import Neo4jGraph``.</span>\n",
       "</pre>\n"
      ],
      "text/plain": [
       "\u001b[1;33mD:\\Internship\\recsys\\db_handlers\\db_handlers\\kg_rag_neo4j_db_handler.py:\u001b[0m\u001b[1;33m51\u001b[0m\u001b[1;33m LangChainDeprecationWarning\u001b[0m\u001b[33m: The class `Neo4jGraph` was deprecated in LangChain \u001b[0m\u001b[1;33m0.3\u001b[0m\u001b[33m.\u001b[0m\u001b[1;33m8\u001b[0m\u001b[33m and will be removed in \u001b[0m\u001b[1;33m1.0\u001b[0m\u001b[33m. An updated version of the class exists in the :class:`~langchain-neo4j package and should be used instead. To use it run `pip install -U :class:`~langchain-neo4j` and import as `from :class:`~langchain_neo4j import Neo4jGraph``.\u001b[0m\n"
      ]
     },
     "metadata": {},
     "output_type": "display_data"
    },
    {
     "name": "stdout",
     "output_type": "stream",
     "text": [
      "[\u001b[34m2025-04-25T17:17:40.885+0200\u001b[0m] {\u001b[34mresult.py:\u001b[0m332} INFO\u001b[0m - Received notification from DBMS server: {severity: INFORMATION} {code: Neo.ClientNotification.Schema.IndexOrConstraintAlreadyExists} {category: SCHEMA} {title: `CREATE CONSTRAINT IF NOT EXISTS FOR (e:Movie) REQUIRE (e.id) IS UNIQUE` has no effect.} {description: `CONSTRAINT constraint_2c627a06 FOR (e:Movie) REQUIRE (e.id) IS UNIQUE` already exists.} {position: None} for query: 'CREATE CONSTRAINT IF NOT EXISTS FOR (m:Movie) REQUIRE m.id IS UNIQUE;'\u001b[0m\n",
      "[\u001b[34m2025-04-25T17:17:40.895+0200\u001b[0m] {\u001b[34mresult.py:\u001b[0m332} INFO\u001b[0m - Received notification from DBMS server: {severity: INFORMATION} {code: Neo.ClientNotification.Schema.IndexOrConstraintAlreadyExists} {category: SCHEMA} {title: `CREATE CONSTRAINT IF NOT EXISTS FOR (e:Person) REQUIRE (e.name) IS UNIQUE` has no effect.} {description: `CONSTRAINT constraint_a831e4ce FOR (e:Person) REQUIRE (e.name) IS UNIQUE` already exists.} {position: None} for query: 'CREATE CONSTRAINT IF NOT EXISTS FOR (p:Person) REQUIRE p.name IS UNIQUE;'\u001b[0m\n",
      "[\u001b[34m2025-04-25T17:17:40.903+0200\u001b[0m] {\u001b[34mresult.py:\u001b[0m332} INFO\u001b[0m - Received notification from DBMS server: {severity: INFORMATION} {code: Neo.ClientNotification.Schema.IndexOrConstraintAlreadyExists} {category: SCHEMA} {title: `CREATE CONSTRAINT IF NOT EXISTS FOR (e:Genre) REQUIRE (e.name) IS UNIQUE` has no effect.} {description: `CONSTRAINT constraint_b3c936b8 FOR (e:Genre) REQUIRE (e.name) IS UNIQUE` already exists.} {position: None} for query: 'CREATE CONSTRAINT IF NOT EXISTS FOR (g:Genre) REQUIRE g.name IS UNIQUE;'\u001b[0m\n",
      "[\u001b[34m2025-04-25T17:17:40.909+0200\u001b[0m] {\u001b[34mresult.py:\u001b[0m332} INFO\u001b[0m - Received notification from DBMS server: {severity: INFORMATION} {code: Neo.ClientNotification.Schema.IndexOrConstraintAlreadyExists} {category: SCHEMA} {title: `CREATE CONSTRAINT IF NOT EXISTS FOR (e:ProductionCompany) REQUIRE (e.name) IS UNIQUE` has no effect.} {description: `CONSTRAINT constraint_1eb06cbe FOR (e:ProductionCompany) REQUIRE (e.name) IS UNIQUE` already exists.} {position: None} for query: 'CREATE CONSTRAINT IF NOT EXISTS FOR (pc:ProductionCompany) REQUIRE pc.name IS UNIQUE;'\u001b[0m\n",
      "[\u001b[34m2025-04-25T17:17:40.916+0200\u001b[0m] {\u001b[34mresult.py:\u001b[0m332} INFO\u001b[0m - Received notification from DBMS server: {severity: INFORMATION} {code: Neo.ClientNotification.Schema.IndexOrConstraintAlreadyExists} {category: SCHEMA} {title: `CREATE CONSTRAINT IF NOT EXISTS FOR (e:Country) REQUIRE (e.name) IS UNIQUE` has no effect.} {description: `CONSTRAINT constraint_a540be84 FOR (e:Country) REQUIRE (e.name) IS UNIQUE` already exists.} {position: None} for query: 'CREATE CONSTRAINT IF NOT EXISTS FOR (c:Country) REQUIRE c.name IS UNIQUE;'\u001b[0m\n",
      "[\u001b[34m2025-04-25T17:17:40.923+0200\u001b[0m] {\u001b[34mresult.py:\u001b[0m332} INFO\u001b[0m - Received notification from DBMS server: {severity: INFORMATION} {code: Neo.ClientNotification.Schema.IndexOrConstraintAlreadyExists} {category: SCHEMA} {title: `CREATE CONSTRAINT IF NOT EXISTS FOR (e:Language) REQUIRE (e.name) IS UNIQUE` has no effect.} {description: `CONSTRAINT constraint_77b2f083 FOR (e:Language) REQUIRE (e.name) IS UNIQUE` already exists.} {position: None} for query: 'CREATE CONSTRAINT IF NOT EXISTS FOR (l:Language) REQUIRE l.name IS UNIQUE;'\u001b[0m\n"
     ]
    },
    {
     "name": "stderr",
     "output_type": "stream",
     "text": [
      "Ingesting batches: 100%|██████████| 6/6 [00:29<00:00,  4.97s/it]"
     ]
    },
    {
     "name": "stdout",
     "output_type": "stream",
     "text": [
      "[LOG] Creating/Ensuring full-text indices...\n",
      "[\u001b[34m2025-04-25T17:18:11.096+0200\u001b[0m] {\u001b[34mresult.py:\u001b[0m332} INFO\u001b[0m - Received notification from DBMS server: {severity: INFORMATION} {code: Neo.ClientNotification.Schema.IndexOrConstraintAlreadyExists} {category: SCHEMA} {title: `CREATE FULLTEXT INDEX movie IF NOT EXISTS FOR (e:Movie) ON EACH [e.title]` has no effect.} {description: `FULLTEXT INDEX movie FOR (e:Movie) ON EACH [e.title]` already exists.} {position: None} for query: 'CREATE FULLTEXT INDEX movie IF NOT EXISTS FOR (m:Movie) ON EACH [m.title]'\u001b[0m\n",
      "[\u001b[34m2025-04-25T17:18:11.101+0200\u001b[0m] {\u001b[34mresult.py:\u001b[0m332} INFO\u001b[0m - Received notification from DBMS server: {severity: INFORMATION} {code: Neo.ClientNotification.Schema.IndexOrConstraintAlreadyExists} {category: SCHEMA} {title: `CREATE FULLTEXT INDEX person IF NOT EXISTS FOR (e:Person) ON EACH [e.name]` has no effect.} {description: `FULLTEXT INDEX person FOR (e:Person) ON EACH [e.name]` already exists.} {position: None} for query: 'CREATE FULLTEXT INDEX person IF NOT EXISTS FOR (p:Person) ON EACH [p.name]'\u001b[0m\n",
      "[LOG] Full-text indices creation commands sent.\n",
      "[LOG] Knowledge graph created successfully in [local] at URL: [Unknown URL].\n",
      "[LOG] Ingested 45477 movies into the knowledge graph.\n"
     ]
    },
    {
     "name": "stderr",
     "output_type": "stream",
     "text": [
      "\n"
     ]
    }
   ],
   "source": [
    "# Create knowledge graph\n",
    "create_knowledge_graph(movies_cast_and_crew_df=merged_df)"
   ]
  },
  {
   "cell_type": "code",
   "execution_count": 9,
   "metadata": {},
   "outputs": [
    {
     "name": "stdout",
     "output_type": "stream",
     "text": [
      "Need additional information, which of these did you mean: \n",
      "{'candidate': 'Toy Story', 'label': 'Movie', 'id': '862'}\n",
      "{'candidate': 'Toy Story 3', 'label': 'Movie', 'id': '10193'}\n",
      "{'candidate': 'Toy Story 2', 'label': 'Movie', 'id': '863'}\n",
      "Please provide the 'id' for the movie.\n"
     ]
    }
   ],
   "source": [
    "# Example: Rate 'Toy Story'. Assumes 'Toy Story' resolves to a single movie.\n",
    "# If 'Toy Story' were ambiguous, the function would print the options and return an error message.\n",
    "# The function now expects the movie title, not the ID.\n",
    "rating_response = store_movie_rating(user_id=\"test_user_1\", movie_id=\"Toy Story\", rating=5)\n",
    "print(rating_response)"
   ]
  },
  {
   "cell_type": "code",
   "execution_count": 10,
   "metadata": {},
   "outputs": [
    {
     "data": {
      "application/vnd.jupyter.widget-view+json": {
       "model_id": "d02e06735274446a8811f7e268a6abf0",
       "version_major": 2,
       "version_minor": 0
      },
      "text/plain": [
       "GraphWidget(layout=Layout(height='800px', width='100%'))"
      ]
     },
     "metadata": {},
     "output_type": "display_data"
    }
   ],
   "source": [
    "cypher_query = \"MATCH (s)-[r]->(t) RETURN s,r,t LIMIT 1000\"\n",
    "show(cypher_query)"
   ]
  },
  {
   "cell_type": "code",
   "execution_count": 11,
   "metadata": {},
   "outputs": [
    {
     "name": "stdout",
     "output_type": "stream",
     "text": [
      "--- Ambiguous Result ---\n",
      "Need additional information, which of these did you mean: \n",
      "{'candidate': 'Titanica', 'label': 'Movie', 'id': '45929'}\n",
      "{'candidate': 'Titanic', 'label': 'Movie', 'id': '597'}\n",
      "{'candidate': 'Titanic', 'label': 'Movie', 'id': '16535'}\n",
      "Please call the function again providing the 'id' for the desired entity.\n"
     ]
    }
   ],
   "source": [
    "# Initial lookup for 'Titanic' - likely ambiguous\n",
    "# We call it without the entity_id parameter first.\n",
    "movie_info_ambiguous = get_movie_cast_and_crew_information(\"Titanic\", \"movie\")\n",
    "print(\"--- Ambiguous Result ---\")\n",
    "print(movie_info_ambiguous)"
   ]
  },
  {
   "cell_type": "code",
   "execution_count": 12,
   "metadata": {},
   "outputs": [
    {
     "name": "stdout",
     "output_type": "stream",
     "text": [
      "\n",
      "--- Specific Result for ID: 597 ---\n",
      "type:Movie\n",
      "title: Titanic\n",
      "year: 1997\n",
      "IN_GENRE: Drama, Romance, Thriller\n",
      "ACTED_IN: Miguel A. Lomelin, Nicholas Cascone, Tricia O'Neil, Mark Capri, James Lancaster, Brian Baines, John Slade, Mandana Marino, James Cameron, Greg Ellis, Paul Brightwell, Charlotte Chatton, Kate Winslet, Alexandrea Owens, Kevin De La Noy, Richard Fox, Vern Urich, Shay Duffin, Kathy Bates, Olivia Rosewood, Terry Forrestal, Edmond Alan Forsyth, Edward Fletcher, Alexandra Boyd, Jason Barry, Scott Hislop, Lew Palter, Reece P. Thompson III, Kris Andersson, Rocky Taylor, Eric Braeden, Richard Graham, Leonardo DiCaprio, Meghan McLeod, Bret Aaron Knower, Michael Ensign, Bernard Fox, Ioan Gruffudd, Marc Cass, Stephen Wolfe Smith, Camilla Overbye Roos, Kevyn Currie, Anne Fletcher, Martin East, Brian Walsh, Diana Morgan, Tony Kenny, Fannie Brett, Phil Parlapiano, Van Ling, Linda Kerns, Sean Howse, David Warner, Kevin Owers, Gloria Stuart, Martin Jarvis, Amy Gaipa, Billy Zane, Stan Mazin, Erik Holland, Richard Ashton, Anatoly M. Sagalevitch, John Leonhardt, Bernard Hill, Nick Meaney, Simon Crane, Ron Donachie, Don Lynch, Suzy Amis, Paul Herbert, Gregory Cooke, Lisa Ratzin, Dan Pettersson, George Kosty Jr., James Garrett, Griffin Howell, Mark Rafael Truitt, Rebecca Klingler, John Walcutt, Oliver Page, Jari Kinnunen, Julene Renee, Rochelle Rose, Garth Wilton, Frances Fisher, Steven Quale, Lucie Zolcerova, R. Gern Trowbridge, George Kosty III, Julian Oros, Seth Adkins, Lewis Abernathy, Emmett James, Bjørn Olsen, Mike Butters, Barry Dennen, Jonathan Hyde, Chris Cragnotti, Jonny Phillips, Laramie Landis, Jenette Goldstein, Victor Garber, Sean Nepita, Scott G. Anderson, Liam Tuohy, Bill Paxton, Ryan McClurkin, Jonathan Evans-Jones, Mark Lindsay Chapman, Andie Hicks, Craig Kelly, Judy Prestininzi, Bruno Campolo, Mike O'Neal, Johnny Martin, Sean Lawlor, Romeo Francis, Rosalind Ayres, Chris Byrne, Bobbie Bates, Elsa Raven, Martin Hub, Derek Lea, Brendan Connolly, David Cronnelly, Anders Falk, Aaron James Cash, Geoffrey C. Kosty, Thomas Fiss, Gregory Charles Kosty, Ewan Stewart, Francisco Váldez, Kathleen S. Dunn, Ellie Bensinger, Danny Nucci\n",
      "DIRECTED: James Cameron\n",
      "WORKED_ON: Simon Crane, Joe E. Rand, Laura Borselli, Tony Graysmark, Russell Carpenter, Merie Weismiller Wallace, Sharon Mann, Gwendolyn Yates Whittle, Charlotte Harper, Mike Amorelli, Martin Laing, Fabiola Perez Luna, Lisa Dennis Kennedy, Emily Schweber, Rae Sanchini, Richard Quinn, Giedra Rackauskas, Chris O'Connell, Peter Lamont, Murray Lantz, Claire Sanfilippo, James Horner, Amy Arnold, Richard A. Harris, Rudy Joffroy, Michael Ford, Al Giddings, Scott MacFarlane, James Cameron, Kay Georgiou, William Les Collins, Amanda Sallybanks, Tina Earnshaw, Leigh Leverett, Jesus Ignacio Santana, David Le Vey, Adolfo Ramírez, Magui Jimenez, Sarah Touaibi, Grant Hill, John H. Arrufat, Simon Thompson, Mali Finn, Gemma Joffroy, Deborah Lynn Scott, Greg Cannom, Ismael Jardon, John Bruno, Anna Roth, Conrad Buff IV, George Fisher, Brian N. Bentley, Jon Landau, Randy Gerston, Lahly Poore, Pamela Easley, Marcis Cole, Annie Townsend\n",
      "\n"
     ]
    }
   ],
   "source": [
    "# Follow-up lookup using a specific ID\n",
    "specific_movie_id = \"597\"\n",
    "\n",
    "# Call the function again, providing the entity_id\n",
    "movie_info_specific = get_movie_cast_and_crew_information(entity=\"Titanic\", type=\"movie\", entity_id=specific_movie_id)\n",
    "print(f\"\\n--- Specific Result for ID: {specific_movie_id} ---\")\n",
    "print(movie_info_specific)"
   ]
  },
  {
   "cell_type": "code",
   "execution_count": 13,
   "metadata": {},
   "outputs": [
    {
     "name": "stdout",
     "output_type": "stream",
     "text": [
      "type:Person\n",
      "title: Tom Hanks\n",
      "year: \n",
      "ACTED_IN: The Great Buck Howard, Band of Brothers, Prohibition, Inferno, Ithaca, Bridge of Spies, A Hologram for the King, The Extraordinary Voyage, Everything Is Copy, Sully, The Circle, The Sixties, And the Oscar Goes To..., Small Fry, Hawaiian Vacation, Elvis Has Left the Building, Toy Story That Time Forgot, Partysaurus Rex, Extremely Loud & Incredibly Close, Toy Story of Terror!, The War, The Rutles 2: Can't Buy Me Lunch, Killing Lincoln, Saving Mr. Banks, The Pixar Story, Captain Phillips, Larry Crowne, Cloud Atlas, Toy Story 3, The Da Vinci Code, Who Killed the Electric Car?, The Simpsons Movie, Toy Story, Bachelor Party, You've Got Mail, Apollo 13, Saving Private Ryan, Return with Honor, Dragnet, He Knows You're Alone, Toy Story 2, The Terminal, Sleepless in Seattle, A League of Their Own, Punchline, Nothing in Common, The Green Mile, Turner & Hooch, The 'Burbs, The Ladykillers, Catch Me If You Can, Big, Road to Perdition, Philadelphia, The Bonfire of the Vanities, The Celluloid Closet, Volunteers, The Money Pit, That Thing You Do!, Radio Flyer, Joe Versus the Volcano, Splash, Cast Away, Forrest Gump, Shooting War, Charlie Wilson's War, The Polar Express, Angels & Demons, The Man with One Red Shoe, From the Earth to the Moon, Cars\n",
      "DIRECTED: That Thing You Do!, Band of Brothers, Larry Crowne\n",
      "WORKED_ON: The Great Buck Howard, Band of Brothers, Ithaca, My Big Fat Greek Wedding 2, The Sixties, The Circle, Olive Kitteridge, The Pacific, Parkland, Larry Crowne, City of Ember, Where the Wild Things Are, Cast Away, My Big Fat Greek Wedding, That Thing You Do!, Evan Almighty, The Polar Express, The Ant Bully, We Stand Alone Together, Neil Young: Heart of Gold, Charlie Wilson's War, Mamma Mia!\n",
      "\n"
     ]
    }
   ],
   "source": [
    "person_info = get_movie_cast_and_crew_information(\"Tom Hanks\", \"person\")\n",
    "print(person_info)"
   ]
  },
  {
   "cell_type": "code",
   "execution_count": null,
   "metadata": {},
   "outputs": [
    {
     "name": "stdout",
     "output_type": "stream",
     "text": [
      "[LOG] Starting knowledge graph reset...\n",
      "[LOG] Dropping known full-text indices (if they exist)...\n",
      "[LOG]   - Attempted to drop index 'movie'.\n",
      "[LOG]   - Attempted to drop index 'person'.\n",
      "[\u001b[34m2025-04-09T22:50:27.418+0200\u001b[0m] {\u001b[34mresult.py:\u001b[0m332} INFO\u001b[0m - Received notification from DBMS server: {severity: INFORMATION} {code: Neo.ClientNotification.Schema.IndexOrConstraintDoesNotExist} {category: SCHEMA} {title: `DROP INDEX index_87a50586 IF EXISTS` has no effect.} {description: `index_87a50586` does not exist.} {position: None} for query: 'DROP INDEX index_87a50586 IF EXISTS;'\u001b[0m\n",
      "[LOG]   - Attempted to drop index 'index_87a50586'.\n",
      "[\u001b[34m2025-04-09T22:50:27.440+0200\u001b[0m] {\u001b[34mresult.py:\u001b[0m332} INFO\u001b[0m - Received notification from DBMS server: {severity: INFORMATION} {code: Neo.ClientNotification.Schema.IndexOrConstraintDoesNotExist} {category: SCHEMA} {title: `DROP INDEX index_45eed07a IF EXISTS` has no effect.} {description: `index_45eed07a` does not exist.} {position: None} for query: 'DROP INDEX index_45eed07a IF EXISTS;'\u001b[0m\n",
      "[LOG]   - Attempted to drop index 'index_45eed07a'.\n",
      "[LOG] Finished attempting to drop indices.\n",
      "[LOG] Deleting all nodes and relationships...\n",
      "[LOG] Node and relationship deletion completed.\n",
      "[LOG] Knowledge graph reset finished successfully.\n"
     ]
    }
   ],
   "source": [
    "reset_knowledge_graph()"
   ]
  }
 ],
 "metadata": {
  "kernelspec": {
   "display_name": "tf-gpu",
   "language": "python",
   "name": "python3"
  },
  "language_info": {
   "codemirror_mode": {
    "name": "ipython",
    "version": 3
   },
   "file_extension": ".py",
   "mimetype": "text/x-python",
   "name": "python",
   "nbconvert_exporter": "python",
   "pygments_lexer": "ipython3",
   "version": "3.12.3"
  }
 },
 "nbformat": 4,
 "nbformat_minor": 2
}
