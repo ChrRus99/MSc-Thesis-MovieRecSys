{
 "cells": [
  {
   "cell_type": "code",
   "execution_count": 1,
   "metadata": {},
   "outputs": [],
   "source": [
    "import os\n",
    "import sys\n",
    "import tempfile\n",
    "from pathlib import Path\n",
    "\n",
    "# Set the path to the directory containing the project\n",
    "sys.path.append('D:\\\\Internship\\\\recsys\\\\db_handlers')\n",
    "sys.path.append('D:\\\\Internship\\\\recsys\\\\movie_recommendation_system\\\\src')"
   ]
  },
  {
   "cell_type": "code",
   "execution_count": 2,
   "metadata": {},
   "outputs": [
    {
     "name": "stdout",
     "output_type": "stream",
     "text": [
      "[LOG] Detected local environment, with Docker: [False]\n"
     ]
    }
   ],
   "source": [
    "from db_handlers.trained_models_minio_storage_db_handler import (\n",
    "    create_initial_model_bucket,\n",
    "    create_offline_updated_models_bucket,\n",
    "    create_online_updated_user_models_bucket,\n",
    "    drop_buckets,\n",
    "    reset_buckets,\n",
    "    upload_initial_model,\n",
    "    upload_offline_updated_model,\n",
    "    upload_online_user_model,\n",
    "    download_initial_model,\n",
    "    download_offline_updated_model,\n",
    "    download_last_offline_updated_model,\n",
    "    download_online_user_model\n",
    ")"
   ]
  },
  {
   "cell_type": "code",
   "execution_count": 3,
   "metadata": {},
   "outputs": [
    {
     "name": "stdout",
     "output_type": "stream",
     "text": [
      "[LOG] Bucket 'initial-model' already exists.\n",
      "[LOG] Bucket 'initial-model' created successfully in [local] at URL: 192.168.1.29:9500\n",
      "[LOG] Bucket 'offline-updated-models' created.\n",
      "[LOG] Bucket 'offline-updated-models' created successfully in [local] at URL: 192.168.1.29:9500\n",
      "[LOG] Bucket 'online-updated-user-models' created.\n",
      "[LOG] Bucket 'online-updated-user-models' created successfully in [local] at URL: 192.168.1.29:9500\n"
     ]
    }
   ],
   "source": [
    "# Create buckets\n",
    "create_initial_model_bucket()\n",
    "create_offline_updated_models_bucket()\n",
    "create_online_updated_user_models_bucket()"
   ]
  },
  {
   "cell_type": "code",
   "execution_count": 4,
   "metadata": {},
   "outputs": [
    {
     "name": "stdout",
     "output_type": "stream",
     "text": [
      "[LOG] Initial pre-trained model 'init_model.pth' uploaded.\n",
      "[LOG] Offline updated model '2023-10-10_offline_model.pth' uploaded.\n",
      "[LOG] Offline updated model '2023-10-11_offline_model.pth' uploaded.\n",
      "[LOG] Old model '2023-10-10_offline_model.pth' removed.\n",
      "[LOG] Online user model for user 'sample_user' uploaded.\n"
     ]
    }
   ],
   "source": [
    "trained_models_dir = 'D:\\\\Internship\\\\trained_models'\n",
    "sample_model_filepath = os.path.join(trained_models_dir, 'GraphSAGE_based_model.pth')\n",
    "download_folder = os.path.join(trained_models_dir, \"downloaded\")\n",
    "\n",
    "# Test storing sample model\n",
    "upload_initial_model(model_filepath=sample_model_filepath)\n",
    "upload_offline_updated_model(model_filepath=sample_model_filepath, date=\"2023-10-10\", drop_old=False)\n",
    "upload_offline_updated_model(model_filepath=sample_model_filepath, date=\"2023-10-11\", drop_old=True)\n",
    "upload_online_user_model(model_filepath=sample_model_filepath, user_id=\"sample_user\")"
   ]
  },
  {
   "cell_type": "code",
   "execution_count": 5,
   "metadata": {},
   "outputs": [
    {
     "name": "stdout",
     "output_type": "stream",
     "text": [
      "[LOG] Initial model 'init_model.pth' downloaded as 'init_model.pth'.\n",
      "Downloaded sample model to D:\\Internship\\trained_models\\downloaded\n",
      "\n",
      "[ERROR] Failed to download initial model: S3 operation failed; code: NoSuchKey, message: Object does not exist, resource: /offline-updated-models/2023-10-10_offline_model.pth, request_id: 1834C2150C80836B, host_id: dd9025bab4ad464b049177c95eb6ebf374d3b3fd1af9251148b658df7ac2e3e8, bucket_name: offline-updated-models, object_name: 2023-10-10_offline_model.pth\n",
      "\n",
      "[LOG] Offline updated model '2023-10-11_offline_model.pth' downloaded as '2023-10-11_offline_model.pth'.\n",
      "Downloaded offline updated sample model to D:\\Internship\\trained_models\\downloaded\n",
      "\n",
      "[LOG] Latest offline updated model '2023-10-11_offline_model.pth' downloaded as '2023-10-11_offline_model.pth'.\n",
      "Downloaded last offline updated sample model to D:\\Internship\\trained_models\\downloaded\n",
      "\n",
      "[LOG] Online user model for user 'sample_user' downloaded as 'sample_user_online_model.pth'.\n",
      "Downloaded online user sample model to D:\\Internship\\trained_models\\downloaded\n"
     ]
    }
   ],
   "source": [
    "# Test retrieving sample model\n",
    "download_initial_model(download_path=download_folder)\n",
    "print(f\"Downloaded sample model to {download_folder}\\n\")\n",
    "\n",
    "try:\n",
    "    download_offline_updated_model(download_path=download_folder, date=\"2023-10-10\")\n",
    "    print(f\"Downloaded offline updated sample model to {download_folder}\\n\")\n",
    "except Exception as e:\n",
    "    print(f\"[ERROR] Failed to download initial model: {e}\\n\")\n",
    "\n",
    "download_offline_updated_model(download_path=download_folder, date=\"2023-10-11\")\n",
    "print(f\"Downloaded offline updated sample model to {download_folder}\\n\")\n",
    "\n",
    "download_last_offline_updated_model(download_path=download_folder)\n",
    "print(f\"Downloaded last offline updated sample model to {download_folder}\\n\")\n",
    "\n",
    "download_online_user_model(download_path=download_folder, user_id=\"sample_user\")\n",
    "print(f\"Downloaded online user sample model to {download_folder}\")"
   ]
  },
  {
   "cell_type": "code",
   "execution_count": 6,
   "metadata": {},
   "outputs": [],
   "source": [
    "from movie_recommender.models.gnn_train_eval_pred import GNNModelHandler\n",
    "\n",
    "# Test whether the downloaded model was serialized correctly and works as expected\n",
    "sample_model = GNNModelHandler.load_pretrained_model(sample_model_filepath)\n",
    "gdh = sample_model._gdh"
   ]
  },
  {
   "cell_type": "code",
   "execution_count": 7,
   "metadata": {},
   "outputs": [
    {
     "name": "stdout",
     "output_type": "stream",
     "text": [
      "Movie: The Empire Strikes Back, Pred rating: 2.6529, Ground truth rating: 2.5000\n"
     ]
    }
   ],
   "source": [
    "# Sample prediction\n",
    "user_id = 672\n",
    "movie_id = 1891\n",
    "pred_rating, gt_rating = sample_model.predict(user_id, movie_id)\n",
    "\n",
    "# Extract movie titles as a list\n",
    "movie_titles = gdh.movies_df.loc[gdh.movies_df['id'] == movie_id, 'title'].tolist()\n",
    "\n",
    "# Check if any titles were found\n",
    "if movie_titles:\n",
    "    movie_title = movie_titles[0]   # Display the first title\n",
    "    print(f\"Movie: {movie_title}, Pred rating: {pred_rating:.4f}, Ground truth rating: {gt_rating:.4f}\")\n",
    "else:\n",
    "    print(f\"No movie found with id {movie_id}\")"
   ]
  },
  {
   "cell_type": "code",
   "execution_count": 8,
   "metadata": {},
   "outputs": [
    {
     "name": "stdout",
     "output_type": "stream",
     "text": [
      "[LOG] Bucket 'initial-model' has been emptied.\n",
      "[LOG] Bucket 'offline-updated-models' has been emptied.\n",
      "[LOG] Bucket 'online-updated-user-models' has been emptied.\n"
     ]
    }
   ],
   "source": [
    "# Reset buckets\n",
    "reset_buckets()"
   ]
  },
  {
   "cell_type": "code",
   "execution_count": 9,
   "metadata": {},
   "outputs": [
    {
     "name": "stdout",
     "output_type": "stream",
     "text": [
      "[LOG] Bucket 'initial-model' and its contents deleted.\n",
      "[LOG] Bucket 'offline-updated-models' and its contents deleted.\n",
      "[LOG] Bucket 'online-updated-user-models' and its contents deleted.\n"
     ]
    }
   ],
   "source": [
    "# Drop buckets\n",
    "drop_buckets()"
   ]
  }
 ],
 "metadata": {
  "kernelspec": {
   "display_name": "tf-gpu",
   "language": "python",
   "name": "python3"
  },
  "language_info": {
   "codemirror_mode": {
    "name": "ipython",
    "version": 3
   },
   "file_extension": ".py",
   "mimetype": "text/x-python",
   "name": "python",
   "nbconvert_exporter": "python",
   "pygments_lexer": "ipython3",
   "version": "3.12.3"
  }
 },
 "nbformat": 4,
 "nbformat_minor": 2
}
