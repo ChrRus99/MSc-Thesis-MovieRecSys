{
 "cells": [
  {
   "cell_type": "markdown",
   "metadata": {},
   "source": [
    "# Test for the Updated Online Pipeline\n",
    "This notebook re-implements the tests from scratch for the updated `online_pipeline.py`."
   ]
  },
  {
   "cell_type": "code",
   "execution_count": 1,
   "metadata": {},
   "outputs": [
    {
     "name": "stderr",
     "output_type": "stream",
     "text": [
      "c:\\Users\\Public\\anaconda3\\envs\\tf-gpu\\Lib\\site-packages\\airflow\\__init__.py:36: RuntimeWarning: Airflow currently can be run on POSIX-compliant Operating Systems. For development, it is regularly tested on fairly modern Linux Distros and recent versions of macOS. On Windows you can run it via WSL2 (Windows Subsystem for Linux 2) or via Linux Containers. The work to add Windows support is tracked via https://github.com/apache/airflow/issues/10388, but it is not a high priority.\n",
      "  warnings.warn(\n",
      "OSError while attempting to symlink the latest log directory\n"
     ]
    },
    {
     "name": "stdout",
     "output_type": "stream",
     "text": [
      "[LOG] Detected local environment, with Docker: [False]\n",
      "[LOG] Detected local environment, with Docker: [False]\n",
      "[INFO] Running locally\n",
      "[LOG] Detected local environment, with Docker: [False]\n",
      "[LOG] Detected local environment, with Docker: [False]\n"
     ]
    }
   ],
   "source": [
    "import random\n",
    "import sys\n",
    "import os\n",
    "from pathlib import Path\n",
    "sys.path.append('D:\\\\Internship\\\\recsys\\\\data_pipelines')\n",
    "sys.path.append('D:\\\\Internship\\\\recsys\\\\data_pipelines\\\\dags')\n",
    "sys.path.append('D:\\\\Internship\\\\recsys\\\\movie_recommendation_system\\\\src')\n",
    "sys.path.append('D:\\\\Internship\\\\recsys\\\\db_handlers')\n",
    "sys.path.append('D:\\\\Internship\\\\recsys\\\\data')\n",
    "\n",
    "from db_handlers.user_postgres_sql_db_handler import store_new_user\n",
    "from db_handlers.user_mongodb_nosql_db_handler import store_user_movie_rating\n",
    "from movie_recommender.data.tabular_dataset_handler import TabularDatasetHandler\n",
    "from online_pipeline import (\n",
    "    load_last_user_ratings,\n",
    "    load_user_online_gnn_model,\n",
    "    online_train_gnn_model,\n",
    "    deploy_model,\n",
    "    pre_compute_user_movie_ratings,\n",
    "    deploy_pre_computed_user_movie_ratings,\n",
    "    cleanup_temp_files,\n",
    ")"
   ]
  },
  {
   "cell_type": "markdown",
   "metadata": {},
   "source": [
    "## Simulate new ratings generation for a test user"
   ]
  },
  {
   "cell_type": "code",
   "execution_count": 2,
   "metadata": {},
   "outputs": [
    {
     "name": "stdout",
     "output_type": "stream",
     "text": [
      "[LOG] User bdd62e39-8999-468b-be8a-c36277a93bdc already has an associated model ID 1000. Skipping insertion.\n",
      "[LOG] New user bdd62e39-8999-468b-be8a-c36277a93bdc stored successfully in 'user_register' table\n"
     ]
    }
   ],
   "source": [
    "import uuid\n",
    "\n",
    "# Create a new test user\n",
    "test_user_id = \"bdd62e39-8999-468b-be8a-c36277a93bdc\" #str(uuid.uuid4())\n",
    "user_name = \"Christian Francesco\"\n",
    "user_surname = \"Russo\"\n",
    "user_email = \"rus.chr.20499@gmail.com\"\n",
    "\n",
    "# Store the new user in the PostgreSQL database\n",
    "store_new_user(test_user_id, user_name, user_surname, user_email) "
   ]
  },
  {
   "cell_type": "code",
   "execution_count": 3,
   "metadata": {},
   "outputs": [
    {
     "name": "stdout",
     "output_type": "stream",
     "text": [
      "Movie 'We Are from the Future 2' => rating 3.2\n",
      "[LOG] New user rating stored successfully in 'user_movie_ratings' collection.\n",
      "Movie 'Gangster Squad' => rating 1.1\n",
      "[LOG] New user rating stored successfully in 'user_movie_ratings' collection.\n",
      "Movie 'Mickey's House of Villains' => rating 3.3\n",
      "[LOG] New user rating stored successfully in 'user_movie_ratings' collection.\n",
      "Movie 'Wonderful Days' => rating 4.9\n",
      "[LOG] New user rating stored successfully in 'user_movie_ratings' collection.\n",
      "Movie 'Hacksaw Ridge' => rating 2.8\n",
      "[LOG] New user rating stored successfully in 'user_movie_ratings' collection.\n"
     ]
    }
   ],
   "source": [
    "# Load movies DataFrame\n",
    "tdh_filepath = \"D:\\\\Internship\\\\recsys\\\\data\\\\movielens_processed\\\\tdh_instance.pkl\"\n",
    "tdh = TabularDatasetHandler.load_class_instance(tdh_filepath)\n",
    "movies_df = tdh.get_movies_df_deepcopy()\n",
    "test_user_id = \"bdd62e39-8999-468b-be8a-c36277a93bdc\"\n",
    "\n",
    "# Sample 5 movies and store synthetic new ratings\n",
    "sampled_movies = movies_df.sample(5)\n",
    "for _, row in sampled_movies.iterrows():\n",
    "    rating_value = round(random.uniform(1.0, 5.0), 1)\n",
    "    print(f\"Movie '{row['title']}' => rating {rating_value}\")\n",
    "    store_user_movie_rating(\n",
    "        user_id=test_user_id,\n",
    "        movie_id=int(row['id']),\n",
    "        rating=rating_value\n",
    "    )"
   ]
  },
  {
   "cell_type": "markdown",
   "metadata": {},
   "source": [
    "## Define Test Parameters"
   ]
  },
  {
   "cell_type": "code",
   "execution_count": 4,
   "metadata": {},
   "outputs": [
    {
     "name": "stdout",
     "output_type": "stream",
     "text": [
      "Testing user bdd62e39-8999-468b-be8a-c36277a93bdc with 5 new ratings.\n"
     ]
    }
   ],
   "source": [
    "test_user_id = \"bdd62e39-8999-468b-be8a-c36277a93bdc\"\n",
    "test_num_new_ratings = 5\n",
    "print(f\"Testing user {test_user_id} with {test_num_new_ratings} new ratings.\")"
   ]
  },
  {
   "cell_type": "markdown",
   "metadata": {},
   "source": [
    "## Test: Load Last User Ratings"
   ]
  },
  {
   "cell_type": "code",
   "execution_count": 5,
   "metadata": {},
   "outputs": [
    {
     "name": "stdout",
     "output_type": "stream",
     "text": [
      "[LOG] Loading the last 5 user-movie ratings for user bdd62e39-8999-468b-be8a-c36277a93bdc\n",
      "[LOG] Saved ratings for user bdd62e39-8999-468b-be8a-c36277a93bdc to D:\\Internship\\recsys\\data\\temp\\online\\user_bdd62e39-8999-468b-be8a-c36277a93bdc_ratings.csv\n",
      "Loaded ratings for bdd62e39-8999-468b-be8a-c36277a93bdc => D:\\Internship\\recsys\\data\\temp\\online\\user_bdd62e39-8999-468b-be8a-c36277a93bdc_ratings.csv\n"
     ]
    }
   ],
   "source": [
    "last_user_ratings_filepath = load_last_user_ratings.__wrapped__(\n",
    "    user_id=test_user_id,\n",
    "    num_new_ratings=test_num_new_ratings\n",
    ")\n",
    "print(\"Loaded ratings for\", test_user_id, \"=>\", last_user_ratings_filepath)"
   ]
  },
  {
   "cell_type": "markdown",
   "metadata": {},
   "source": [
    "## Test: Load Online GNN Model"
   ]
  },
  {
   "cell_type": "code",
   "execution_count": 6,
   "metadata": {},
   "outputs": [
    {
     "name": "stdout",
     "output_type": "stream",
     "text": [
      "[LOG] Loading user bdd62e39-8999-468b-be8a-c36277a93bdc online GNN model\n",
      "[LOG] Attempting to download model 'old_GNN_model_user_bdd62e39-8999-468b-be8a-c36277a93bdc' for user bdd62e39-8999-468b-be8a-c36277a93bdc to D:\\Internship\\recsys\\data\\temp\\online\n",
      "[LOG] Online user model for user 'bdd62e39-8999-468b-be8a-c36277a93bdc' downloaded as 'old_GNN_model_user_bdd62e39-8999-468b-be8a-c36277a93bdc.pth'.\n",
      "[LOG] Successfully downloaded existing model for user bdd62e39-8999-468b-be8a-c36277a93bdc\n",
      "Loaded model for bdd62e39-8999-468b-be8a-c36277a93bdc => D:\\Internship\\recsys\\data\\temp\\online\\old_GNN_model_user_bdd62e39-8999-468b-be8a-c36277a93bdc.pth\n"
     ]
    }
   ],
   "source": [
    "old_model_filepath = load_user_online_gnn_model.__wrapped__(\n",
    "    user_id=test_user_id\n",
    ")\n",
    "print(\"Loaded model for\", test_user_id, \"=>\", old_model_filepath)"
   ]
  },
  {
   "cell_type": "markdown",
   "metadata": {},
   "source": [
    "## Test: Online Train GNN Model"
   ]
  },
  {
   "cell_type": "code",
   "execution_count": 7,
   "metadata": {},
   "outputs": [
    {
     "name": "stdout",
     "output_type": "stream",
     "text": [
      "[LOG] Online training GNN model for user bdd62e39-8999-468b-be8a-c36277a93bdc, using ratings file: D:\\Internship\\recsys\\data\\temp\\online\\user_bdd62e39-8999-468b-be8a-c36277a93bdc_ratings.csv and base model file: D:\\Internship\\recsys\\data\\temp\\online\\old_GNN_model_user_bdd62e39-8999-468b-be8a-c36277a93bdc.pth\n",
      "[LOG] Running script: D:\\Internship\\recsys\\data_pipelines\\scripts\\online\\train_online_user_gnn_script.py with args: ['--user_id', 'bdd62e39-8999-468b-be8a-c36277a93bdc', '--new_user_ratings_df_filepath', 'D:\\\\Internship\\\\recsys\\\\data\\\\temp\\\\online\\\\user_bdd62e39-8999-468b-be8a-c36277a93bdc_ratings.csv', '--old_user_online_model_filepath', 'D:\\\\Internship\\\\recsys\\\\data\\\\temp\\\\online\\\\old_GNN_model_user_bdd62e39-8999-468b-be8a-c36277a93bdc.pth', '--new_user_online_model_name', 'online_updated_GNN_user_bdd62e39-8999-468b-be8a-c36277a93bdc']\n",
      "[INFO] Running CUDA script [train_online_user_gnn_script.py] as a subprocess\n",
      "[SUCCESS] Script executed successfully as subprocess: D:\\Internship\\recsys\\data_pipelines\\scripts\\online\\train_online_user_gnn_script.py\n",
      "[INFO] Running locally\n",
      "Found 5 new ratings to add to 'users_ratings_df'\n",
      "No new users to add. Users [1000] are already present in 'users_ratings_df'.\n",
      "Device: 'cuda'\n",
      "Adaptive patience set to 20 epochs based on num_epochs=15.\n",
      "Epoch: 001, Loss: 3.3386, Train RMSE: 1.7309, Train MAE: 1.4358, Val RMSE: 1.0184, Val MAE: 0.7740\n",
      "Epoch: 002, Loss: 2.9961, Train RMSE: 1.6541, Train MAE: 1.3195, Val RMSE: 0.9744, Val MAE: 0.7401\n",
      "Epoch: 003, Loss: 2.7360, Train RMSE: 1.5983, Train MAE: 1.2076, Val RMSE: 0.9420, Val MAE: 0.7167\n",
      "Epoch: 004, Loss: 2.5545, Train RMSE: 1.5636, Train MAE: 1.1123, Val RMSE: 0.9218, Val MAE: 0.7039\n",
      "Epoch: 005, Loss: 2.4450, Train RMSE: 1.5480, Train MAE: 1.0783, Val RMSE: 0.9137, Val MAE: 0.7015\n",
      "Epoch: 006, Loss: 2.3963, Train RMSE: 1.5472, Train MAE: 1.0482, Val RMSE: 0.9154, Val MAE: 0.7084\n",
      "Epoch: 007, Loss: 2.3937, Train RMSE: 1.5554, Train MAE: 1.0926, Val RMSE: 0.9234, Val MAE: 0.7201\n",
      "Epoch: 008, Loss: 2.4193, Train RMSE: 1.5670, Train MAE: 1.1441, Val RMSE: 0.9341, Val MAE: 0.7334\n",
      "Epoch: 009, Loss: 2.4556, Train RMSE: 1.5775, Train MAE: 1.1796, Val RMSE: 0.9442, Val MAE: 0.7454\n",
      "Epoch: 010, Loss: 2.4885, Train RMSE: 1.5840, Train MAE: 1.1998, Val RMSE: 0.9519, Val MAE: 0.7539\n",
      "Epoch: 011, Loss: 2.5091, Train RMSE: 1.5855, Train MAE: 1.2062, Val RMSE: 0.9561, Val MAE: 0.7586\n",
      "Epoch: 012, Loss: 2.5138, Train RMSE: 1.5822, Train MAE: 1.2005, Val RMSE: 0.9568, Val MAE: 0.7595\n",
      "Epoch: 013, Loss: 2.5032, Train RMSE: 1.5750, Train MAE: 1.1848, Val RMSE: 0.9544, Val MAE: 0.7571\n",
      "Epoch: 014, Loss: 2.4807, Train RMSE: 1.5655, Train MAE: 1.1610, Val RMSE: 0.9497, Val MAE: 0.7523\n",
      "Epoch: 015, Loss: 2.4509, Train RMSE: 1.5552, Train MAE: 1.1310, Val RMSE: 0.9436, Val MAE: 0.7457\n",
      "Best model with lowest validation RMSE restored from epoch 8.\n",
      "\n",
      "Trained model online_updated_GNN_user_bdd62e39-8999-468b-be8a-c36277a93bdc saved at path: D:\\Internship\\recsys\\data\\temp\\online\n",
      "\n",
      "[LOG] Finished training for user bdd62e39-8999-468b-be8a-c36277a93bdc. New model should be at: D:\\Internship\\recsys\\data\\temp\\online\\online_updated_GNN_user_bdd62e39-8999-468b-be8a-c36277a93bdc.pth\n",
      "Trained new model for bdd62e39-8999-468b-be8a-c36277a93bdc => D:\\Internship\\recsys\\data\\temp\\online\\online_updated_GNN_user_bdd62e39-8999-468b-be8a-c36277a93bdc.pth\n"
     ]
    }
   ],
   "source": [
    "new_model_filepath = online_train_gnn_model.__wrapped__(\n",
    "    user_id=test_user_id,\n",
    "    new_user_ratings_df_filepath=last_user_ratings_filepath,\n",
    "    old_user_online_model_filepath=old_model_filepath\n",
    ")\n",
    "print(\"Trained new model for\", test_user_id, \"=>\", new_model_filepath)"
   ]
  },
  {
   "cell_type": "markdown",
   "metadata": {},
   "source": [
    "## Test: Deploy Model"
   ]
  },
  {
   "cell_type": "code",
   "execution_count": 8,
   "metadata": {},
   "outputs": [
    {
     "name": "stdout",
     "output_type": "stream",
     "text": [
      "[LOG] Deploying the updated GNN model for user bdd62e39-8999-468b-be8a-c36277a93bdc from D:\\Internship\\recsys\\data\\temp\\online\\online_updated_GNN_user_bdd62e39-8999-468b-be8a-c36277a93bdc.pth\n",
      "[LOG] Online user model for user 'bdd62e39-8999-468b-be8a-c36277a93bdc' uploaded.\n",
      "[LOG] Successfully deployed model for user bdd62e39-8999-468b-be8a-c36277a93bdc\n",
      "Deployed new model for bdd62e39-8999-468b-be8a-c36277a93bdc\n"
     ]
    }
   ],
   "source": [
    "deploy_model.__wrapped__(\n",
    "    user_id=test_user_id,\n",
    "    new_user_online_model_filepath=new_model_filepath\n",
    ")\n",
    "print(\"Deployed new model for\", test_user_id)"
   ]
  },
  {
   "cell_type": "markdown",
   "metadata": {},
   "source": [
    "## Test: Pre-compute Ratings"
   ]
  },
  {
   "cell_type": "code",
   "execution_count": 9,
   "metadata": {},
   "outputs": [
    {
     "name": "stdout",
     "output_type": "stream",
     "text": [
      "[LOG] Pre-computing user-movie ratings for user bdd62e39-8999-468b-be8a-c36277a93bdc using model D:\\Internship\\recsys\\data\\temp\\online\\online_updated_GNN_user_bdd62e39-8999-468b-be8a-c36277a93bdc.pth\n",
      "[LOG] Running script: D:\\Internship\\recsys\\data_pipelines\\scripts\\online\\pre_compute_user_movie_ratings_script.py with args: ['--user_id', 'bdd62e39-8999-468b-be8a-c36277a93bdc', '--model_id', '1000', '--new_user_online_model_filepath', 'D:\\\\Internship\\\\recsys\\\\data\\\\temp\\\\online\\\\online_updated_GNN_user_bdd62e39-8999-468b-be8a-c36277a93bdc.pth', '--precomputed_ratings_filepath', 'D:\\\\Internship\\\\recsys\\\\data\\\\temp\\\\online\\\\precomputed_ratings_user_bdd62e39-8999-468b-be8a-c36277a93bdc.csv']\n",
      "[INFO] Running CUDA script [pre_compute_user_movie_ratings_script.py] as a subprocess\n",
      "[SUCCESS] Script executed successfully as subprocess: D:\\Internship\\recsys\\data_pipelines\\scripts\\online\\pre_compute_user_movie_ratings_script.py\n",
      "[INFO] Running locally\n",
      "\n",
      "[LOG] Finished pre-computing ratings for user bdd62e39-8999-468b-be8a-c36277a93bdc. Output should be at: D:\\Internship\\recsys\\data\\temp\\online\\precomputed_ratings_user_bdd62e39-8999-468b-be8a-c36277a93bdc.csv\n",
      "Pre-computed ratings for bdd62e39-8999-468b-be8a-c36277a93bdc => D:\\Internship\\recsys\\data\\temp\\online\\precomputed_ratings_user_bdd62e39-8999-468b-be8a-c36277a93bdc.csv\n"
     ]
    }
   ],
   "source": [
    "precomputed_filepath = pre_compute_user_movie_ratings.__wrapped__(\n",
    "    user_id=test_user_id,\n",
    "    new_user_online_model_filepath=new_model_filepath\n",
    ")\n",
    "print(\"Pre-computed ratings for\", test_user_id, \"=>\", precomputed_filepath)"
   ]
  },
  {
   "cell_type": "markdown",
   "metadata": {},
   "source": [
    "## Test: Deploy Pre-computed Ratings"
   ]
  },
  {
   "cell_type": "code",
   "execution_count": 10,
   "metadata": {},
   "outputs": [
    {
     "name": "stdout",
     "output_type": "stream",
     "text": [
      "[LOG] Deploying pre-computed ratings for user bdd62e39-8999-468b-be8a-c36277a93bdc from D:\\Internship\\recsys\\data\\temp\\online\\precomputed_ratings_user_bdd62e39-8999-468b-be8a-c36277a93bdc.csv\n",
      "[LOG] Storing 45433 predictions for user bdd62e39-8999-468b-be8a-c36277a93bdc.\n",
      "[LOG] Stored 45433 predictions successfully.\n",
      "[LOG] Successfully deployed pre-computed ratings for user bdd62e39-8999-468b-be8a-c36277a93bdc\n",
      "Deployed pre-computed ratings for bdd62e39-8999-468b-be8a-c36277a93bdc\n"
     ]
    }
   ],
   "source": [
    "deploy_pre_computed_user_movie_ratings.__wrapped__(\n",
    "    user_id=test_user_id,\n",
    "    precomputed_ratings_filepath=precomputed_filepath,\n",
    ")\n",
    "print(\"Deployed pre-computed ratings for\", test_user_id)"
   ]
  },
  {
   "cell_type": "markdown",
   "metadata": {},
   "source": [
    "## Test: Cleanup Temporary Files"
   ]
  },
  {
   "cell_type": "code",
   "execution_count": 12,
   "metadata": {},
   "outputs": [
    {
     "name": "stdout",
     "output_type": "stream",
     "text": [
      "[LOG] Cleaning up temporary files.\n",
      "[LOG] Removed temporary ratings file: D:\\Internship\\recsys\\data\\temp\\online\\user_bdd62e39-8999-468b-be8a-c36277a93bdc_ratings.csv\n",
      "[LOG] Removed temporary old model file: D:\\Internship\\recsys\\data\\temp\\online\\old_GNN_model_user_bdd62e39-8999-468b-be8a-c36277a93bdc.pth\n",
      "[LOG] Removed temporary model file: D:\\Internship\\recsys\\data\\temp\\online\\online_updated_GNN_user_bdd62e39-8999-468b-be8a-c36277a93bdc.pth\n",
      "[LOG] Removed temporary pre-computed ratings file: D:\\Internship\\recsys\\data\\temp\\online\\precomputed_ratings_user_bdd62e39-8999-468b-be8a-c36277a93bdc.csv\n",
      "Cleaned up temporary files for bdd62e39-8999-468b-be8a-c36277a93bdc\n"
     ]
    }
   ],
   "source": [
    "cleanup_temp_files = cleanup_temp_files.__wrapped__(\n",
    "    new_user_ratings_df_filepath=last_user_ratings_filepath,\n",
    "    old_user_online_model_filepath=old_model_filepath,\n",
    "    new_user_online_model_filepath=new_model_filepath,\n",
    "    precomputed_ratings_filepath=precomputed_filepath\n",
    ")\n",
    "print(\"Cleaned up temporary files for\", test_user_id)"
   ]
  }
 ],
 "metadata": {
  "kernelspec": {
   "display_name": "tf-gpu",
   "language": "python",
   "name": "python3"
  },
  "language_info": {
   "codemirror_mode": {
    "name": "ipython",
    "version": 3
   },
   "file_extension": ".py",
   "mimetype": "text/x-python",
   "name": "python",
   "nbconvert_exporter": "python",
   "pygments_lexer": "ipython3",
   "version": "3.12.3"
  }
 },
 "nbformat": 4,
 "nbformat_minor": 2
}
