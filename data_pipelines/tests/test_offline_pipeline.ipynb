{
 "cells": [
  {
   "cell_type": "code",
   "execution_count": 1,
   "metadata": {},
   "outputs": [],
   "source": [
    "import os\n",
    "import random\n",
    "import sys\n",
    "from pathlib import Path\n",
    "\n",
    "# Set the path to the directory containing the project\n",
    "sys.path.append('D:\\\\Internship\\\\recsys\\\\data_pipelines')\n",
    "sys.path.append('D:\\\\Internship\\\\recsys\\\\data_pipelines\\\\dags')\n",
    "sys.path.append('D:\\\\Internship\\\\recsys\\\\movie_recommendation_system\\\\src')\n",
    "sys.path.append('D:\\\\Internship\\\\recsys\\\\db_handlers')\n",
    "sys.path.append('D:\\\\Internship\\\\recsys\\\\data')"
   ]
  },
  {
   "cell_type": "code",
   "execution_count": 2,
   "metadata": {},
   "outputs": [
    {
     "name": "stderr",
     "output_type": "stream",
     "text": [
      "c:\\Users\\Public\\anaconda3\\envs\\tf-gpu\\Lib\\site-packages\\airflow\\__init__.py:36: RuntimeWarning: Airflow currently can be run on POSIX-compliant Operating Systems. For development, it is regularly tested on fairly modern Linux Distros and recent versions of macOS. On Windows you can run it via WSL2 (Windows Subsystem for Linux 2) or via Linux Containers. The work to add Windows support is tracked via https://github.com/apache/airflow/issues/10388, but it is not a high priority.\n",
      "  warnings.warn(\n",
      "OSError while attempting to symlink the latest log directory\n"
     ]
    },
    {
     "name": "stdout",
     "output_type": "stream",
     "text": [
      "[LOG] Detected local environment, with Docker: [False]\n",
      "[LOG] Detected local environment, with Docker: [False]\n",
      "[INFO] Running locally\n",
      "[LOG] Detected local environment, with Docker: [False]\n",
      "[LOG] Detected local environment, with Docker: [False]\n"
     ]
    }
   ],
   "source": [
    "from db_handlers.user_postgres_sql_db_handler import store_new_user\n",
    "from db_handlers.user_mongodb_nosql_db_handler import store_user_movie_rating\n",
    "from movie_recommender.data.tabular_dataset_handler import TabularDatasetHandler\n",
    "from offline_pipeline import (\n",
    "    load_last_ratings,\n",
    "    load_last_offline_gnn_model,\n",
    "    offline_train_gnn_model,\n",
    "    deploy_model,\n",
    ")"
   ]
  },
  {
   "cell_type": "code",
   "execution_count": 3,
   "metadata": {},
   "outputs": [
    {
     "name": "stdout",
     "output_type": "stream",
     "text": [
      "[LOG] Assigned new model ID 1002 to user bdd62e39-8999-468b-be8a-c36277a93bdc in 'user_model_lookup' table.\n",
      "[LOG] New user bdd62e39-8999-468b-be8a-c36277a93bdc stored successfully in 'user_register' table\n"
     ]
    }
   ],
   "source": [
    "import uuid\n",
    "\n",
    "# Create a new test user\n",
    "test_user_id = \"bdd62e39-8999-468b-be8a-c36277a93bdc\" #str(uuid.uuid4())\n",
    "user_name = \"Christian Francesco\"\n",
    "user_surname = \"Russo\"\n",
    "user_email = \"rus.chr.20499@gmail.com\"\n",
    "\n",
    "# Store the new user in the PostgreSQL database\n",
    "store_new_user(test_user_id, user_name, user_surname, user_email) "
   ]
  },
  {
   "cell_type": "code",
   "execution_count": 4,
   "metadata": {},
   "outputs": [
    {
     "name": "stdout",
     "output_type": "stream",
     "text": [
      "Movie 'For Elise' => rating 4.9\n",
      "[LOG] New user rating stored successfully in 'user_movie_ratings' collection.\n",
      "Movie 'Cottage to Let' => rating 3.8\n",
      "[LOG] New user rating stored successfully in 'user_movie_ratings' collection.\n",
      "Movie 'Lenny Bruce: Swear to Tell the Truth' => rating 3.3\n",
      "[LOG] New user rating stored successfully in 'user_movie_ratings' collection.\n",
      "Movie 'Valley Girl' => rating 2.2\n",
      "[LOG] New user rating stored successfully in 'user_movie_ratings' collection.\n",
      "Movie 'The Adventures of Sherlock Holmes and Doctor Watson: King of Blackmailers' => rating 4.1\n",
      "[LOG] New user rating stored successfully in 'user_movie_ratings' collection.\n"
     ]
    }
   ],
   "source": [
    "# Load movies DataFrame\n",
    "tdh_filepath = \"D:\\\\Internship\\\\recsys\\\\data\\\\movielens_processed\\\\tdh_instance.pkl\"\n",
    "tdh = TabularDatasetHandler.load_class_instance(tdh_filepath)\n",
    "movies_df = tdh.get_movies_df_deepcopy()\n",
    "\n",
    "# Sample 5 movies and store synthetic new ratings\n",
    "sampled_movies = movies_df.sample(5)\n",
    "for _, row in sampled_movies.iterrows():\n",
    "    rating_value = round(random.uniform(1.0, 5.0), 1)\n",
    "    print(f\"Movie '{row['title']}' => rating {rating_value}\")\n",
    "    store_user_movie_rating(\n",
    "        user_id=test_user_id,\n",
    "        movie_id=int(row['id']),\n",
    "        rating=rating_value\n",
    "    )"
   ]
  },
  {
   "cell_type": "code",
   "execution_count": 5,
   "metadata": {},
   "outputs": [
    {
     "name": "stdout",
     "output_type": "stream",
     "text": [
      "Testing user bdd62e39-8999-468b-be8a-c36277a93bdc with 5 new ratings.\n"
     ]
    }
   ],
   "source": [
    "test_user_id = \"bdd62e39-8999-468b-be8a-c36277a93bdc\"\n",
    "test_num_new_ratings = 5\n",
    "print(f\"Testing user {test_user_id} with {test_num_new_ratings} new ratings.\")"
   ]
  },
  {
   "cell_type": "code",
   "execution_count": 6,
   "metadata": {},
   "outputs": [
    {
     "name": "stdout",
     "output_type": "stream",
     "text": [
      "[LOG] Loading the last user-movie ratings\n"
     ]
    },
    {
     "data": {
      "text/plain": [
       "'load_last_offline_gnn_model'"
      ]
     },
     "execution_count": 6,
     "metadata": {},
     "output_type": "execute_result"
    }
   ],
   "source": [
    "load_last_ratings()"
   ]
  },
  {
   "cell_type": "code",
   "execution_count": 7,
   "metadata": {},
   "outputs": [
    {
     "name": "stdout",
     "output_type": "stream",
     "text": [
      "[LOG] Loading the last offline GNN model\n",
      "[LOG] Latest offline updated model '2025-04-08_offline_model.pth' downloaded as 'old_GNN_model.pth'.\n"
     ]
    }
   ],
   "source": [
    "load_last_offline_gnn_model()"
   ]
  },
  {
   "cell_type": "code",
   "execution_count": 8,
   "metadata": {},
   "outputs": [
    {
     "name": "stdout",
     "output_type": "stream",
     "text": [
      "[LOG] Offline training GNN model with new user-movie ratings\n",
      "[INFO] Running CUDA script [train_offline_gnn_script.py] as a subprocess\n",
      "[ERROR] Failed to execute script as subprocess: D:\\Internship\\recsys\\data_pipelines\\scripts\\offline\\train_offline_gnn_script.py\n",
      "Traceback (most recent call last):\n",
      "  File \"D:\\Internship\\recsys\\data_pipelines\\scripts\\offline\\train_offline_gnn_script.py\", line 88, in <module>\n",
      "    main()\n",
      "  File \"D:\\Internship\\recsys\\data_pipelines\\scripts\\offline\\train_offline_gnn_script.py\", line 79, in main\n",
      "    GraphSAGE_model.incremental_train(\n",
      "  File \"D:\\Internship\\recsys\\movie_recommendation_system\\src\\movie_recommender\\models\\gnn_retrain_strategies.py\", line 297, in incremental_train\n",
      "    raise ValueError(\n",
      "ValueError: Impossible to re-train the model: no new edges to add to the training set. Current subgraph structure: HeteroData(\n",
      "  movie={\n",
      "    node_id=[45433],\n",
      "    x=[45433, 405],\n",
      "  },\n",
      "  (user, rating, movie)={}\n",
      ")\n",
      "\n"
     ]
    }
   ],
   "source": [
    "offline_train_gnn_model()"
   ]
  },
  {
   "cell_type": "code",
   "execution_count": 9,
   "metadata": {},
   "outputs": [
    {
     "name": "stdout",
     "output_type": "stream",
     "text": [
      "[LOG] Deploying the updated offline GNN model\n",
      "[LOG] Offline updated model '2025-04-08_offline_model.pth' uploaded.\n"
     ]
    }
   ],
   "source": [
    "deploy_model()"
   ]
  }
 ],
 "metadata": {
  "kernelspec": {
   "display_name": "tf-gpu",
   "language": "python",
   "name": "python3"
  },
  "language_info": {
   "codemirror_mode": {
    "name": "ipython",
    "version": 3
   },
   "file_extension": ".py",
   "mimetype": "text/x-python",
   "name": "python",
   "nbconvert_exporter": "python",
   "pygments_lexer": "ipython3",
   "version": "3.12.3"
  }
 },
 "nbformat": 4,
 "nbformat_minor": 2
}
