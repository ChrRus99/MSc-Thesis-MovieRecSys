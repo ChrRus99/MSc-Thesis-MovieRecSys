{
 "cells": [
  {
   "cell_type": "markdown",
   "metadata": {
    "collapsed": false
   },
   "source": [
    "# Movie Recommendation System"
   ]
  },
  {
   "cell_type": "markdown",
   "metadata": {
    "collapsed": false
   },
   "source": [
    "## Environment settings"
   ]
  },
  {
   "cell_type": "code",
   "execution_count": 1,
   "metadata": {
    "ExecuteTime": {
     "end_time": "2024-01-14T18:43:22.885648400Z",
     "start_time": "2024-01-14T18:43:17.315384900Z"
    },
    "collapsed": false
   },
   "outputs": [],
   "source": [
    "import os\n",
    "import sys\n",
    "\n",
    "# Add the path to the root directory of the project to the system path\n",
    "ROOT_PATH = \"D:\\\\Internship\"\n",
    "sys.path.append(os.path.join(ROOT_PATH, \"recsys\\\\movie_recommendation_system\\\\src\"))\n",
    "\n",
    "# Dependencies\n",
    "import pandas as pd\n",
    "import torch\n",
    "\n",
    "# My scripts\n",
    "from movie_recommender.data.tabular_dataset_handler import TabularDatasetHandler\n",
    "from movie_recommender.data.graph_dataset_handler import HeterogeneousGraphDatasetHandler\n",
    "from movie_recommender.models.gnn_model import GCNEncoder, GraphSAGEEncoder, GATEncoder\n",
    "from movie_recommender.models.gnn_train_eval_pred import GNNModelHandler\n",
    "from movie_recommender.recommenders.collaborative_filtering import CollaborativeFiltering\n",
    "from movie_recommender.recommenders.hybrid_filtering import HybridFiltering\n",
    "\n",
    "# Remove warnings\n",
    "import warnings; warnings.simplefilter('ignore')\n",
    "\n",
    "# Data and trained models paths\n",
    "data_path = os.path.join(ROOT_PATH, \"resources\", \"movielens\")\n",
    "processed_data_path = os.path.join(ROOT_PATH, \"resources\", \"movielens_processed\")\n",
    "trained_models_path = os.path.join(ROOT_PATH, \"trained_models\")\n",
    "\n",
    "tdh_filepath = os.path.join(processed_data_path, \"tdh_instance.pkl\")\n",
    "gdh_filepath = os.path.join(processed_data_path, \"gdh_instance.pkl\")"
   ]
  },
  {
   "cell_type": "code",
   "execution_count": 2,
   "metadata": {
    "ExecuteTime": {
     "end_time": "2024-01-14T18:43:22.939545900Z",
     "start_time": "2024-01-14T18:43:22.888640600Z"
    },
    "collapsed": false
   },
   "outputs": [
    {
     "name": "stdout",
     "output_type": "stream",
     "text": [
      "CUDA is available.\n",
      "Number of GPUs available: 1\n",
      "GPU 0: NVIDIA GeForce GTX 970, Compute Capability: 5.2\n",
      "Currently selected GPU number: 0\n"
     ]
    }
   ],
   "source": [
    "# Check if CUDA is available:\n",
    "if torch.cuda.is_available():\n",
    "    print(\"CUDA is available.\")\n",
    "    \n",
    "    # Get the number of available GPUs:\n",
    "    num_gpus = torch.cuda.device_count()\n",
    "    print(f\"Number of GPUs available: {num_gpus}\")\n",
    "    \n",
    "    # Get information about each GPU:\n",
    "    for i in range(torch.cuda.device_count()):\n",
    "        gpu = torch.cuda.get_device_properties(i)\n",
    "        print(f\"GPU {i}: {gpu.name}, Compute Capability: {gpu.major}.{gpu.minor}\")\n",
    "    \n",
    "    # Get the currently selected GPU:\n",
    "    current_gpu = torch.cuda.current_device()\n",
    "    print(f\"Currently selected GPU number: {current_gpu}\")\n",
    "else:\n",
    "    print(\"CUDA is not available.\")"
   ]
  },
  {
   "cell_type": "markdown",
   "metadata": {
    "collapsed": false
   },
   "source": [
    "# Tabular dataset preparation"
   ]
  },
  {
   "cell_type": "markdown",
   "metadata": {
    "collapsed": false
   },
   "source": [
    "## Data loading"
   ]
  },
  {
   "cell_type": "code",
   "execution_count": 3,
   "metadata": {
    "ExecuteTime": {
     "end_time": "2024-01-14T18:43:24.608041400Z",
     "start_time": "2024-01-14T18:43:22.917563800Z"
    },
    "collapsed": false
   },
   "outputs": [
    {
     "data": {
      "text/plain": [
       "(45466, 24)"
      ]
     },
     "execution_count": 3,
     "metadata": {},
     "output_type": "execute_result"
    }
   ],
   "source": [
    "# Define a tabular dataset handler\n",
    "tdh = TabularDatasetHandler(data_path)\n",
    "\n",
    "# Load movies_df\n",
    "tdh.load_datasets()\n",
    "tdh.get_movies_df_deepcopy().shape"
   ]
  },
  {
   "cell_type": "code",
   "execution_count": 4,
   "metadata": {
    "ExecuteTime": {
     "end_time": "2024-01-14T18:43:24.647930Z",
     "start_time": "2024-01-14T18:43:24.605045500Z"
    },
    "collapsed": false
   },
   "outputs": [
    {
     "data": {
      "text/html": [
       "<div>\n",
       "<style scoped>\n",
       "    .dataframe tbody tr th:only-of-type {\n",
       "        vertical-align: middle;\n",
       "    }\n",
       "\n",
       "    .dataframe tbody tr th {\n",
       "        vertical-align: top;\n",
       "    }\n",
       "\n",
       "    .dataframe thead th {\n",
       "        text-align: right;\n",
       "    }\n",
       "</style>\n",
       "<table border=\"1\" class=\"dataframe\">\n",
       "  <thead>\n",
       "    <tr style=\"text-align: right;\">\n",
       "      <th></th>\n",
       "      <th>adult</th>\n",
       "      <th>belongs_to_collection</th>\n",
       "      <th>budget</th>\n",
       "      <th>genres</th>\n",
       "      <th>homepage</th>\n",
       "      <th>id</th>\n",
       "      <th>imdb_id</th>\n",
       "      <th>original_language</th>\n",
       "      <th>original_title</th>\n",
       "      <th>overview</th>\n",
       "      <th>...</th>\n",
       "      <th>release_date</th>\n",
       "      <th>revenue</th>\n",
       "      <th>runtime</th>\n",
       "      <th>spoken_languages</th>\n",
       "      <th>status</th>\n",
       "      <th>tagline</th>\n",
       "      <th>title</th>\n",
       "      <th>video</th>\n",
       "      <th>vote_average</th>\n",
       "      <th>vote_count</th>\n",
       "    </tr>\n",
       "  </thead>\n",
       "  <tbody>\n",
       "    <tr>\n",
       "      <th>0</th>\n",
       "      <td>False</td>\n",
       "      <td>{'id': 10194, 'name': 'Toy Story Collection', ...</td>\n",
       "      <td>30000000</td>\n",
       "      <td>[{'id': 16, 'name': 'Animation'}, {'id': 35, '...</td>\n",
       "      <td>http://toystory.disney.com/toy-story</td>\n",
       "      <td>862</td>\n",
       "      <td>tt0114709</td>\n",
       "      <td>en</td>\n",
       "      <td>Toy Story</td>\n",
       "      <td>Led by Woody, Andy's toys live happily in his ...</td>\n",
       "      <td>...</td>\n",
       "      <td>1995-10-30</td>\n",
       "      <td>373554033.0</td>\n",
       "      <td>81.0</td>\n",
       "      <td>[{'iso_639_1': 'en', 'name': 'English'}]</td>\n",
       "      <td>Released</td>\n",
       "      <td>NaN</td>\n",
       "      <td>Toy Story</td>\n",
       "      <td>False</td>\n",
       "      <td>7.7</td>\n",
       "      <td>5415.0</td>\n",
       "    </tr>\n",
       "    <tr>\n",
       "      <th>1</th>\n",
       "      <td>False</td>\n",
       "      <td>NaN</td>\n",
       "      <td>65000000</td>\n",
       "      <td>[{'id': 12, 'name': 'Adventure'}, {'id': 14, '...</td>\n",
       "      <td>NaN</td>\n",
       "      <td>8844</td>\n",
       "      <td>tt0113497</td>\n",
       "      <td>en</td>\n",
       "      <td>Jumanji</td>\n",
       "      <td>When siblings Judy and Peter discover an encha...</td>\n",
       "      <td>...</td>\n",
       "      <td>1995-12-15</td>\n",
       "      <td>262797249.0</td>\n",
       "      <td>104.0</td>\n",
       "      <td>[{'iso_639_1': 'en', 'name': 'English'}, {'iso...</td>\n",
       "      <td>Released</td>\n",
       "      <td>Roll the dice and unleash the excitement!</td>\n",
       "      <td>Jumanji</td>\n",
       "      <td>False</td>\n",
       "      <td>6.9</td>\n",
       "      <td>2413.0</td>\n",
       "    </tr>\n",
       "    <tr>\n",
       "      <th>2</th>\n",
       "      <td>False</td>\n",
       "      <td>{'id': 119050, 'name': 'Grumpy Old Men Collect...</td>\n",
       "      <td>0</td>\n",
       "      <td>[{'id': 10749, 'name': 'Romance'}, {'id': 35, ...</td>\n",
       "      <td>NaN</td>\n",
       "      <td>15602</td>\n",
       "      <td>tt0113228</td>\n",
       "      <td>en</td>\n",
       "      <td>Grumpier Old Men</td>\n",
       "      <td>A family wedding reignites the ancient feud be...</td>\n",
       "      <td>...</td>\n",
       "      <td>1995-12-22</td>\n",
       "      <td>0.0</td>\n",
       "      <td>101.0</td>\n",
       "      <td>[{'iso_639_1': 'en', 'name': 'English'}]</td>\n",
       "      <td>Released</td>\n",
       "      <td>Still Yelling. Still Fighting. Still Ready for...</td>\n",
       "      <td>Grumpier Old Men</td>\n",
       "      <td>False</td>\n",
       "      <td>6.5</td>\n",
       "      <td>92.0</td>\n",
       "    </tr>\n",
       "    <tr>\n",
       "      <th>3</th>\n",
       "      <td>False</td>\n",
       "      <td>NaN</td>\n",
       "      <td>16000000</td>\n",
       "      <td>[{'id': 35, 'name': 'Comedy'}, {'id': 18, 'nam...</td>\n",
       "      <td>NaN</td>\n",
       "      <td>31357</td>\n",
       "      <td>tt0114885</td>\n",
       "      <td>en</td>\n",
       "      <td>Waiting to Exhale</td>\n",
       "      <td>Cheated on, mistreated and stepped on, the wom...</td>\n",
       "      <td>...</td>\n",
       "      <td>1995-12-22</td>\n",
       "      <td>81452156.0</td>\n",
       "      <td>127.0</td>\n",
       "      <td>[{'iso_639_1': 'en', 'name': 'English'}]</td>\n",
       "      <td>Released</td>\n",
       "      <td>Friends are the people who let you be yourself...</td>\n",
       "      <td>Waiting to Exhale</td>\n",
       "      <td>False</td>\n",
       "      <td>6.1</td>\n",
       "      <td>34.0</td>\n",
       "    </tr>\n",
       "    <tr>\n",
       "      <th>4</th>\n",
       "      <td>False</td>\n",
       "      <td>{'id': 96871, 'name': 'Father of the Bride Col...</td>\n",
       "      <td>0</td>\n",
       "      <td>[{'id': 35, 'name': 'Comedy'}]</td>\n",
       "      <td>NaN</td>\n",
       "      <td>11862</td>\n",
       "      <td>tt0113041</td>\n",
       "      <td>en</td>\n",
       "      <td>Father of the Bride Part II</td>\n",
       "      <td>Just when George Banks has recovered from his ...</td>\n",
       "      <td>...</td>\n",
       "      <td>1995-02-10</td>\n",
       "      <td>76578911.0</td>\n",
       "      <td>106.0</td>\n",
       "      <td>[{'iso_639_1': 'en', 'name': 'English'}]</td>\n",
       "      <td>Released</td>\n",
       "      <td>Just When His World Is Back To Normal... He's ...</td>\n",
       "      <td>Father of the Bride Part II</td>\n",
       "      <td>False</td>\n",
       "      <td>5.7</td>\n",
       "      <td>173.0</td>\n",
       "    </tr>\n",
       "  </tbody>\n",
       "</table>\n",
       "<p>5 rows × 24 columns</p>\n",
       "</div>"
      ],
      "text/plain": [
       "   adult                              belongs_to_collection    budget  \\\n",
       "0  False  {'id': 10194, 'name': 'Toy Story Collection', ...  30000000   \n",
       "1  False                                                NaN  65000000   \n",
       "2  False  {'id': 119050, 'name': 'Grumpy Old Men Collect...         0   \n",
       "3  False                                                NaN  16000000   \n",
       "4  False  {'id': 96871, 'name': 'Father of the Bride Col...         0   \n",
       "\n",
       "                                              genres  \\\n",
       "0  [{'id': 16, 'name': 'Animation'}, {'id': 35, '...   \n",
       "1  [{'id': 12, 'name': 'Adventure'}, {'id': 14, '...   \n",
       "2  [{'id': 10749, 'name': 'Romance'}, {'id': 35, ...   \n",
       "3  [{'id': 35, 'name': 'Comedy'}, {'id': 18, 'nam...   \n",
       "4                     [{'id': 35, 'name': 'Comedy'}]   \n",
       "\n",
       "                               homepage     id    imdb_id original_language  \\\n",
       "0  http://toystory.disney.com/toy-story    862  tt0114709                en   \n",
       "1                                   NaN   8844  tt0113497                en   \n",
       "2                                   NaN  15602  tt0113228                en   \n",
       "3                                   NaN  31357  tt0114885                en   \n",
       "4                                   NaN  11862  tt0113041                en   \n",
       "\n",
       "                original_title  \\\n",
       "0                    Toy Story   \n",
       "1                      Jumanji   \n",
       "2             Grumpier Old Men   \n",
       "3            Waiting to Exhale   \n",
       "4  Father of the Bride Part II   \n",
       "\n",
       "                                            overview  ... release_date  \\\n",
       "0  Led by Woody, Andy's toys live happily in his ...  ...   1995-10-30   \n",
       "1  When siblings Judy and Peter discover an encha...  ...   1995-12-15   \n",
       "2  A family wedding reignites the ancient feud be...  ...   1995-12-22   \n",
       "3  Cheated on, mistreated and stepped on, the wom...  ...   1995-12-22   \n",
       "4  Just when George Banks has recovered from his ...  ...   1995-02-10   \n",
       "\n",
       "       revenue runtime                                   spoken_languages  \\\n",
       "0  373554033.0    81.0           [{'iso_639_1': 'en', 'name': 'English'}]   \n",
       "1  262797249.0   104.0  [{'iso_639_1': 'en', 'name': 'English'}, {'iso...   \n",
       "2          0.0   101.0           [{'iso_639_1': 'en', 'name': 'English'}]   \n",
       "3   81452156.0   127.0           [{'iso_639_1': 'en', 'name': 'English'}]   \n",
       "4   76578911.0   106.0           [{'iso_639_1': 'en', 'name': 'English'}]   \n",
       "\n",
       "     status                                            tagline  \\\n",
       "0  Released                                                NaN   \n",
       "1  Released          Roll the dice and unleash the excitement!   \n",
       "2  Released  Still Yelling. Still Fighting. Still Ready for...   \n",
       "3  Released  Friends are the people who let you be yourself...   \n",
       "4  Released  Just When His World Is Back To Normal... He's ...   \n",
       "\n",
       "                         title  video vote_average vote_count  \n",
       "0                    Toy Story  False          7.7     5415.0  \n",
       "1                      Jumanji  False          6.9     2413.0  \n",
       "2             Grumpier Old Men  False          6.5       92.0  \n",
       "3            Waiting to Exhale  False          6.1       34.0  \n",
       "4  Father of the Bride Part II  False          5.7      173.0  \n",
       "\n",
       "[5 rows x 24 columns]"
      ]
     },
     "execution_count": 4,
     "metadata": {},
     "output_type": "execute_result"
    }
   ],
   "source": [
    "tdh.get_movies_df_deepcopy().head()"
   ]
  },
  {
   "cell_type": "code",
   "execution_count": 5,
   "metadata": {
    "ExecuteTime": {
     "end_time": "2024-01-14T18:43:24.686830300Z",
     "start_time": "2024-01-14T18:43:24.635967300Z"
    },
    "collapsed": false
   },
   "outputs": [
    {
     "data": {
      "text/plain": [
       "adult                     object\n",
       "belongs_to_collection     object\n",
       "budget                    object\n",
       "genres                    object\n",
       "homepage                  object\n",
       "id                        object\n",
       "imdb_id                   object\n",
       "original_language         object\n",
       "original_title            object\n",
       "overview                  object\n",
       "popularity                object\n",
       "poster_path               object\n",
       "production_companies      object\n",
       "production_countries      object\n",
       "release_date              object\n",
       "revenue                  float64\n",
       "runtime                  float64\n",
       "spoken_languages          object\n",
       "status                    object\n",
       "tagline                   object\n",
       "title                     object\n",
       "video                     object\n",
       "vote_average             float64\n",
       "vote_count               float64\n",
       "dtype: object"
      ]
     },
     "execution_count": 5,
     "metadata": {},
     "output_type": "execute_result"
    }
   ],
   "source": [
    "tdh.get_movies_df_deepcopy().dtypes"
   ]
  },
  {
   "cell_type": "markdown",
   "metadata": {
    "collapsed": false
   },
   "source": [
    "## Data preprocessing"
   ]
  },
  {
   "cell_type": "code",
   "execution_count": 6,
   "metadata": {
    "ExecuteTime": {
     "end_time": "2024-01-14T18:43:27.682839600Z",
     "start_time": "2024-01-14T18:43:24.667884500Z"
    },
    "collapsed": false
   },
   "outputs": [
    {
     "data": {
      "text/plain": [
       "(45433, 22)"
      ]
     },
     "execution_count": 6,
     "metadata": {},
     "output_type": "execute_result"
    }
   ],
   "source": [
    "# Tabular dataset preprocessing\n",
    "tdh.preprocess_datasets()\n",
    "tdh.get_movies_df_deepcopy().shape"
   ]
  },
  {
   "cell_type": "code",
   "execution_count": 7,
   "metadata": {
    "ExecuteTime": {
     "end_time": "2024-01-14T18:43:27.750626Z",
     "start_time": "2024-01-14T18:43:27.683802600Z"
    },
    "collapsed": false
   },
   "outputs": [
    {
     "data": {
      "text/html": [
       "<div>\n",
       "<style scoped>\n",
       "    .dataframe tbody tr th:only-of-type {\n",
       "        vertical-align: middle;\n",
       "    }\n",
       "\n",
       "    .dataframe tbody tr th {\n",
       "        vertical-align: top;\n",
       "    }\n",
       "\n",
       "    .dataframe thead th {\n",
       "        text-align: right;\n",
       "    }\n",
       "</style>\n",
       "<table border=\"1\" class=\"dataframe\">\n",
       "  <thead>\n",
       "    <tr style=\"text-align: right;\">\n",
       "      <th></th>\n",
       "      <th>adult</th>\n",
       "      <th>belongs_to_collection</th>\n",
       "      <th>budget</th>\n",
       "      <th>genres</th>\n",
       "      <th>homepage</th>\n",
       "      <th>id</th>\n",
       "      <th>original_language</th>\n",
       "      <th>original_title</th>\n",
       "      <th>overview</th>\n",
       "      <th>popularity</th>\n",
       "      <th>...</th>\n",
       "      <th>release_date</th>\n",
       "      <th>revenue</th>\n",
       "      <th>runtime</th>\n",
       "      <th>spoken_languages</th>\n",
       "      <th>status</th>\n",
       "      <th>tagline</th>\n",
       "      <th>title</th>\n",
       "      <th>vote_average</th>\n",
       "      <th>vote_count</th>\n",
       "      <th>year</th>\n",
       "    </tr>\n",
       "  </thead>\n",
       "  <tbody>\n",
       "    <tr>\n",
       "      <th>0</th>\n",
       "      <td>False</td>\n",
       "      <td>Toy Story Collection</td>\n",
       "      <td>30000000</td>\n",
       "      <td>[Animation, Comedy, Family]</td>\n",
       "      <td>http://toystory.disney.com/toy-story</td>\n",
       "      <td>862</td>\n",
       "      <td>en</td>\n",
       "      <td>Toy Story</td>\n",
       "      <td>Led by Woody, Andy's toys live happily in his ...</td>\n",
       "      <td>21.946943</td>\n",
       "      <td>...</td>\n",
       "      <td>1995-10-30</td>\n",
       "      <td>373554033.0</td>\n",
       "      <td>81.0</td>\n",
       "      <td>[{'iso_639_1': 'en', 'name': 'English'}]</td>\n",
       "      <td>Released</td>\n",
       "      <td>NaN</td>\n",
       "      <td>Toy Story</td>\n",
       "      <td>7.7</td>\n",
       "      <td>5415.0</td>\n",
       "      <td>1995</td>\n",
       "    </tr>\n",
       "    <tr>\n",
       "      <th>1</th>\n",
       "      <td>False</td>\n",
       "      <td>None</td>\n",
       "      <td>65000000</td>\n",
       "      <td>[Adventure, Fantasy, Family]</td>\n",
       "      <td>NaN</td>\n",
       "      <td>8844</td>\n",
       "      <td>en</td>\n",
       "      <td>Jumanji</td>\n",
       "      <td>When siblings Judy and Peter discover an encha...</td>\n",
       "      <td>17.015539</td>\n",
       "      <td>...</td>\n",
       "      <td>1995-12-15</td>\n",
       "      <td>262797249.0</td>\n",
       "      <td>104.0</td>\n",
       "      <td>[{'iso_639_1': 'en', 'name': 'English'}, {'iso...</td>\n",
       "      <td>Released</td>\n",
       "      <td>Roll the dice and unleash the excitement!</td>\n",
       "      <td>Jumanji</td>\n",
       "      <td>6.9</td>\n",
       "      <td>2413.0</td>\n",
       "      <td>1995</td>\n",
       "    </tr>\n",
       "    <tr>\n",
       "      <th>2</th>\n",
       "      <td>False</td>\n",
       "      <td>Grumpy Old Men Collection</td>\n",
       "      <td>0</td>\n",
       "      <td>[Romance, Comedy]</td>\n",
       "      <td>NaN</td>\n",
       "      <td>15602</td>\n",
       "      <td>en</td>\n",
       "      <td>Grumpier Old Men</td>\n",
       "      <td>A family wedding reignites the ancient feud be...</td>\n",
       "      <td>11.7129</td>\n",
       "      <td>...</td>\n",
       "      <td>1995-12-22</td>\n",
       "      <td>0.0</td>\n",
       "      <td>101.0</td>\n",
       "      <td>[{'iso_639_1': 'en', 'name': 'English'}]</td>\n",
       "      <td>Released</td>\n",
       "      <td>Still Yelling. Still Fighting. Still Ready for...</td>\n",
       "      <td>Grumpier Old Men</td>\n",
       "      <td>6.5</td>\n",
       "      <td>92.0</td>\n",
       "      <td>1995</td>\n",
       "    </tr>\n",
       "    <tr>\n",
       "      <th>3</th>\n",
       "      <td>False</td>\n",
       "      <td>None</td>\n",
       "      <td>16000000</td>\n",
       "      <td>[Comedy, Drama, Romance]</td>\n",
       "      <td>NaN</td>\n",
       "      <td>31357</td>\n",
       "      <td>en</td>\n",
       "      <td>Waiting to Exhale</td>\n",
       "      <td>Cheated on, mistreated and stepped on, the wom...</td>\n",
       "      <td>3.859495</td>\n",
       "      <td>...</td>\n",
       "      <td>1995-12-22</td>\n",
       "      <td>81452156.0</td>\n",
       "      <td>127.0</td>\n",
       "      <td>[{'iso_639_1': 'en', 'name': 'English'}]</td>\n",
       "      <td>Released</td>\n",
       "      <td>Friends are the people who let you be yourself...</td>\n",
       "      <td>Waiting to Exhale</td>\n",
       "      <td>6.1</td>\n",
       "      <td>34.0</td>\n",
       "      <td>1995</td>\n",
       "    </tr>\n",
       "    <tr>\n",
       "      <th>4</th>\n",
       "      <td>False</td>\n",
       "      <td>Father of the Bride Collection</td>\n",
       "      <td>0</td>\n",
       "      <td>[Comedy]</td>\n",
       "      <td>NaN</td>\n",
       "      <td>11862</td>\n",
       "      <td>en</td>\n",
       "      <td>Father of the Bride Part II</td>\n",
       "      <td>Just when George Banks has recovered from his ...</td>\n",
       "      <td>8.387519</td>\n",
       "      <td>...</td>\n",
       "      <td>1995-02-10</td>\n",
       "      <td>76578911.0</td>\n",
       "      <td>106.0</td>\n",
       "      <td>[{'iso_639_1': 'en', 'name': 'English'}]</td>\n",
       "      <td>Released</td>\n",
       "      <td>Just When His World Is Back To Normal... He's ...</td>\n",
       "      <td>Father of the Bride Part II</td>\n",
       "      <td>5.7</td>\n",
       "      <td>173.0</td>\n",
       "      <td>1995</td>\n",
       "    </tr>\n",
       "  </tbody>\n",
       "</table>\n",
       "<p>5 rows × 22 columns</p>\n",
       "</div>"
      ],
      "text/plain": [
       "   adult           belongs_to_collection    budget  \\\n",
       "0  False            Toy Story Collection  30000000   \n",
       "1  False                            None  65000000   \n",
       "2  False       Grumpy Old Men Collection         0   \n",
       "3  False                            None  16000000   \n",
       "4  False  Father of the Bride Collection         0   \n",
       "\n",
       "                         genres                              homepage     id  \\\n",
       "0   [Animation, Comedy, Family]  http://toystory.disney.com/toy-story    862   \n",
       "1  [Adventure, Fantasy, Family]                                   NaN   8844   \n",
       "2             [Romance, Comedy]                                   NaN  15602   \n",
       "3      [Comedy, Drama, Romance]                                   NaN  31357   \n",
       "4                      [Comedy]                                   NaN  11862   \n",
       "\n",
       "  original_language               original_title  \\\n",
       "0                en                    Toy Story   \n",
       "1                en                      Jumanji   \n",
       "2                en             Grumpier Old Men   \n",
       "3                en            Waiting to Exhale   \n",
       "4                en  Father of the Bride Part II   \n",
       "\n",
       "                                            overview popularity  ...  \\\n",
       "0  Led by Woody, Andy's toys live happily in his ...  21.946943  ...   \n",
       "1  When siblings Judy and Peter discover an encha...  17.015539  ...   \n",
       "2  A family wedding reignites the ancient feud be...    11.7129  ...   \n",
       "3  Cheated on, mistreated and stepped on, the wom...   3.859495  ...   \n",
       "4  Just when George Banks has recovered from his ...   8.387519  ...   \n",
       "\n",
       "  release_date      revenue runtime  \\\n",
       "0   1995-10-30  373554033.0    81.0   \n",
       "1   1995-12-15  262797249.0   104.0   \n",
       "2   1995-12-22          0.0   101.0   \n",
       "3   1995-12-22   81452156.0   127.0   \n",
       "4   1995-02-10   76578911.0   106.0   \n",
       "\n",
       "                                    spoken_languages    status  \\\n",
       "0           [{'iso_639_1': 'en', 'name': 'English'}]  Released   \n",
       "1  [{'iso_639_1': 'en', 'name': 'English'}, {'iso...  Released   \n",
       "2           [{'iso_639_1': 'en', 'name': 'English'}]  Released   \n",
       "3           [{'iso_639_1': 'en', 'name': 'English'}]  Released   \n",
       "4           [{'iso_639_1': 'en', 'name': 'English'}]  Released   \n",
       "\n",
       "                                             tagline  \\\n",
       "0                                                NaN   \n",
       "1          Roll the dice and unleash the excitement!   \n",
       "2  Still Yelling. Still Fighting. Still Ready for...   \n",
       "3  Friends are the people who let you be yourself...   \n",
       "4  Just When His World Is Back To Normal... He's ...   \n",
       "\n",
       "                         title vote_average vote_count  year  \n",
       "0                    Toy Story          7.7     5415.0  1995  \n",
       "1                      Jumanji          6.9     2413.0  1995  \n",
       "2             Grumpier Old Men          6.5       92.0  1995  \n",
       "3            Waiting to Exhale          6.1       34.0  1995  \n",
       "4  Father of the Bride Part II          5.7      173.0  1995  \n",
       "\n",
       "[5 rows x 22 columns]"
      ]
     },
     "execution_count": 7,
     "metadata": {},
     "output_type": "execute_result"
    }
   ],
   "source": [
    "tdh.get_movies_df_deepcopy().head()"
   ]
  },
  {
   "cell_type": "code",
   "execution_count": 8,
   "metadata": {
    "ExecuteTime": {
     "end_time": "2024-01-14T18:43:27.853348300Z",
     "start_time": "2024-01-14T18:43:27.746636600Z"
    },
    "collapsed": false
   },
   "outputs": [
    {
     "data": {
      "text/plain": [
       "adult                     object\n",
       "belongs_to_collection     object\n",
       "budget                    object\n",
       "genres                    object\n",
       "homepage                  object\n",
       "id                         int32\n",
       "original_language         object\n",
       "original_title            object\n",
       "overview                  object\n",
       "popularity                object\n",
       "production_companies      object\n",
       "production_countries      object\n",
       "release_date              object\n",
       "revenue                  float64\n",
       "runtime                  float64\n",
       "spoken_languages          object\n",
       "status                    object\n",
       "tagline                   object\n",
       "title                     object\n",
       "vote_average             float64\n",
       "vote_count               float64\n",
       "year                      object\n",
       "dtype: object"
      ]
     },
     "execution_count": 8,
     "metadata": {},
     "output_type": "execute_result"
    }
   ],
   "source": [
    "tdh.get_movies_df_deepcopy().dtypes"
   ]
  },
  {
   "cell_type": "code",
   "execution_count": 9,
   "metadata": {},
   "outputs": [
    {
     "name": "stdout",
     "output_type": "stream",
     "text": [
      "Class instance saved to 'D:\\Internship\\resources\\movielens_processed\\tdh_instance.pkl'\n"
     ]
    }
   ],
   "source": [
    "# Store the TabularDatasetHandler instance locally\n",
    "tdh.store_class_instance(filepath=tdh_filepath)"
   ]
  },
  {
   "cell_type": "markdown",
   "metadata": {
    "collapsed": false
   },
   "source": [
    "# Collaborative filtering: GNN-based"
   ]
  },
  {
   "cell_type": "markdown",
   "metadata": {
    "collapsed": false
   },
   "source": [
    "## Create a new user to suggest movies to"
   ]
  },
  {
   "cell_type": "code",
   "execution_count": 10,
   "metadata": {
    "ExecuteTime": {
     "end_time": "2024-01-14T18:43:27.949091800Z",
     "start_time": "2024-01-14T18:43:27.794506500Z"
    },
    "collapsed": false
   },
   "outputs": [
    {
     "name": "stdout",
     "output_type": "stream",
     "text": [
      "Most rated movies:\n",
      "                                                    title\n",
      "id                                                       \n",
      "19404                         Dilwale Dulhania Le Jayenge\n",
      "27205                                           Inception\n",
      "155                                       The Dark Knight\n",
      "157336                                       Interstellar\n",
      "550                                            Fight Club\n",
      "120     The Lord of the Rings: The Fellowship of the Ring\n",
      "680                                          Pulp Fiction\n",
      "278                              The Shawshank Redemption\n",
      "122         The Lord of the Rings: The Return of the King\n",
      "13                                           Forrest Gump\n",
      "121                 The Lord of the Rings: The Two Towers\n",
      "11                                              Star Wars\n",
      "105                                    Back to the Future\n",
      "238                                         The Godfather\n",
      "1891                              The Empire Strikes Back\n"
     ]
    }
   ],
   "source": [
    "from movie_recommender.recommenders.popularity_ranking import PopularityRanking\n",
    "\n",
    "users_ratings_df = tdh.get_users_ratings_df_deepcopy()\n",
    "movies_df = tdh.get_movies_df_deepcopy()\n",
    "\n",
    "# Create a new user\n",
    "new_user_id = users_ratings_df['userId'].max() + 1\n",
    "\n",
    "# Popularity Ranking in this case is one good possible solution to solve the cold-start problem\n",
    "print('Most rated movies:')\n",
    "most_rated_movies = PopularityRanking.top_movies_IMDB_wr_formula(tdh, 15)\n",
    "most_rated_movies = most_rated_movies[['id', 'title']].set_index('id')\n",
    "print(most_rated_movies)\n",
    "\n",
    "# Initialize the movies ratings list\n",
    "ratings = []"
   ]
  },
  {
   "cell_type": "code",
   "execution_count": 11,
   "metadata": {
    "ExecuteTime": {
     "end_time": "2024-01-14T18:43:27.973030800Z",
     "start_time": "2024-01-14T18:43:27.955081300Z"
    },
    "collapsed": false
   },
   "outputs": [
    {
     "data": {
      "text/plain": [
       "[{'movieId': 19404, 'rating': 1.5, 'userId': 672},\n",
       " {'movieId': 27205, 'rating': 2, 'userId': 672},\n",
       " {'movieId': 155, 'rating': 3.5, 'userId': 672},\n",
       " {'movieId': 157336, 'rating': 3, 'userId': 672},\n",
       " {'movieId': 550, 'rating': 3, 'userId': 672},\n",
       " {'movieId': 120, 'rating': 5, 'userId': 672},\n",
       " {'movieId': 680, 'rating': 2, 'userId': 672},\n",
       " {'movieId': 278, 'rating': 1.5, 'userId': 672},\n",
       " {'movieId': 122, 'rating': 5, 'userId': 672},\n",
       " {'movieId': 13, 'rating': 5, 'userId': 672},\n",
       " {'movieId': 121, 'rating': 5, 'userId': 672},\n",
       " {'movieId': 11, 'rating': 2.5, 'userId': 672},\n",
       " {'movieId': 105, 'rating': 3.5, 'userId': 672},\n",
       " {'movieId': 238, 'rating': 3.5, 'userId': 672},\n",
       " {'movieId': 1891, 'rating': 2.5, 'userId': 672}]"
      ]
     },
     "execution_count": 11,
     "metadata": {},
     "output_type": "execute_result"
    }
   ],
   "source": [
    "# Set the new_user's ratings for the 'most_rated_movies', to avoid the cold-start problem\n",
    "ratings.append({'movieId': 19404, 'rating': 1.5, 'userId': new_user_id})\n",
    "ratings.append({'movieId': 27205, 'rating': 2, 'userId': new_user_id})\n",
    "ratings.append({'movieId': 155, 'rating': 3.5, 'userId': new_user_id})\n",
    "ratings.append({'movieId': 157336, 'rating': 3, 'userId': new_user_id})\n",
    "ratings.append({'movieId': 550, 'rating': 3, 'userId': new_user_id})\n",
    "ratings.append({'movieId': 120, 'rating': 5, 'userId': new_user_id})\n",
    "ratings.append({'movieId': 680, 'rating': 2, 'userId': new_user_id})\n",
    "ratings.append({'movieId': 278, 'rating': 1.5, 'userId': new_user_id})\n",
    "ratings.append({'movieId': 122, 'rating': 5, 'userId': new_user_id})\n",
    "ratings.append({'movieId': 13, 'rating': 5, 'userId': new_user_id})\n",
    "ratings.append({'movieId': 121, 'rating': 5, 'userId': new_user_id})\n",
    "ratings.append({'movieId': 11, 'rating': 2.5, 'userId': new_user_id})\n",
    "ratings.append({'movieId': 105, 'rating': 3.5, 'userId': new_user_id})\n",
    "ratings.append({'movieId': 238, 'rating': 3.5, 'userId': new_user_id})\n",
    "ratings.append({'movieId': 1891, 'rating': 2.5, 'userId': new_user_id})\n",
    "ratings"
   ]
  },
  {
   "cell_type": "markdown",
   "metadata": {
    "collapsed": false
   },
   "source": [
    "## Graph dataset construction"
   ]
  },
  {
   "cell_type": "code",
   "execution_count": 12,
   "metadata": {
    "ExecuteTime": {
     "end_time": "2024-01-14T18:43:27.998962600Z",
     "start_time": "2024-01-14T18:43:27.964052200Z"
    },
    "collapsed": false
   },
   "outputs": [],
   "source": [
    "# Define a graph dataset handler\n",
    "gdh = HeterogeneousGraphDatasetHandler(preprocessed_tdh=tdh)"
   ]
  },
  {
   "cell_type": "code",
   "execution_count": 13,
   "metadata": {},
   "outputs": [],
   "source": [
    "# Add the new user and its ratings to the graph dataset (before building the graph)\n",
    "gdh._users_ratings_df = pd.concat([gdh._users_ratings_df, pd.DataFrame(ratings)], ignore_index=True)"
   ]
  },
  {
   "cell_type": "code",
   "execution_count": 14,
   "metadata": {},
   "outputs": [],
   "source": [
    "# Build the graph dataset\n",
    "gdh.build_graph_dataset()"
   ]
  },
  {
   "cell_type": "code",
   "execution_count": 15,
   "metadata": {},
   "outputs": [
    {
     "data": {
      "text/plain": [
       "HeteroData(\n",
       "  user={\n",
       "    node_id=[672],\n",
       "    x=[672, 600],\n",
       "  },\n",
       "  movie={\n",
       "    node_id=[45433],\n",
       "    x=[45433, 405],\n",
       "  },\n",
       "  (user, rating, movie)={\n",
       "    edge_index=[2, 45004],\n",
       "    edge_label=[45004],\n",
       "    y=[45004],\n",
       "  },\n",
       "  (movie, rev_rating, user)={\n",
       "    edge_index=[2, 45004],\n",
       "    edge_label=[45004],\n",
       "    y=[45004],\n",
       "  }\n",
       ")"
      ]
     },
     "execution_count": 15,
     "metadata": {},
     "output_type": "execute_result"
    }
   ],
   "source": [
    "dataset = gdh.get_graph_dataset()\n",
    "dataset"
   ]
  },
  {
   "cell_type": "code",
   "execution_count": 16,
   "metadata": {
    "ExecuteTime": {
     "end_time": "2024-01-14T18:43:43.686956Z",
     "start_time": "2024-01-14T18:43:43.654044600Z"
    },
    "collapsed": false
   },
   "outputs": [
    {
     "name": "stdout",
     "output_type": "stream",
     "text": [
      "Dataset size:  (46105, 46105)\n",
      "\n",
      "Dataset type:  <class 'torch_geometric.data.hetero_data.HeteroData'>\n",
      "\n",
      "Dataset metadata:  (['user', 'movie'], [('user', 'rating', 'movie'), ('movie', 'rev_rating', 'user')])\n",
      "\n",
      "Dataset to dict:  {'_global_store': {}, 'user': {'node_id': tensor([  0,   1,   2,   3,   4,   5,   6,   7,   8,   9,  10,  11,  12,  13,\n",
      "         14,  15,  16,  17,  18,  19,  20,  21,  22,  23,  24,  25,  26,  27,\n",
      "         28,  29,  30,  31,  32,  33,  34,  35,  36,  37,  38,  39,  40,  41,\n",
      "         42,  43,  44,  45,  46,  47,  48,  49,  50,  51,  52,  53,  54,  55,\n",
      "         56,  57,  58,  59,  60,  61,  62,  63,  64,  65,  66,  67,  68,  69,\n",
      "         70,  71,  72,  73,  74,  75,  76,  77,  78,  79,  80,  81,  82,  83,\n",
      "         84,  85,  86,  87,  88,  89,  90,  91,  92,  93,  94,  95,  96,  97,\n",
      "         98,  99, 100, 101, 102, 103, 104, 105, 106, 107, 108, 109, 110, 111,\n",
      "        112, 113, 114, 115, 116, 117, 118, 119, 120, 121, 122, 123, 124, 125,\n",
      "        126, 127, 128, 129, 130, 131, 132, 133, 134, 135, 136, 137, 138, 139,\n",
      "        140, 141, 142, 143, 144, 145, 146, 147, 148, 149, 150, 151, 152, 153,\n",
      "        154, 155, 156, 157, 158, 159, 160, 161, 162, 163, 164, 165, 166, 167,\n",
      "        168, 169, 170, 171, 172, 173, 174, 175, 176, 177, 178, 179, 180, 181,\n",
      "        182, 183, 184, 185, 186, 187, 188, 189, 190, 191, 192, 193, 194, 195,\n",
      "        196, 197, 198, 199, 200, 201, 202, 203, 204, 205, 206, 207, 208, 209,\n",
      "        210, 211, 212, 213, 214, 215, 216, 217, 218, 219, 220, 221, 222, 223,\n",
      "        224, 225, 226, 227, 228, 229, 230, 231, 232, 233, 234, 235, 236, 237,\n",
      "        238, 239, 240, 241, 242, 243, 244, 245, 246, 247, 248, 249, 250, 251,\n",
      "        252, 253, 254, 255, 256, 257, 258, 259, 260, 261, 262, 263, 264, 265,\n",
      "        266, 267, 268, 269, 270, 271, 272, 273, 274, 275, 276, 277, 278, 279,\n",
      "        280, 281, 282, 283, 284, 285, 286, 287, 288, 289, 290, 291, 292, 293,\n",
      "        294, 295, 296, 297, 298, 299, 300, 301, 302, 303, 304, 305, 306, 307,\n",
      "        308, 309, 310, 311, 312, 313, 314, 315, 316, 317, 318, 319, 320, 321,\n",
      "        322, 323, 324, 325, 326, 327, 328, 329, 330, 331, 332, 333, 334, 335,\n",
      "        336, 337, 338, 339, 340, 341, 342, 343, 344, 345, 346, 347, 348, 349,\n",
      "        350, 351, 352, 353, 354, 355, 356, 357, 358, 359, 360, 361, 362, 363,\n",
      "        364, 365, 366, 367, 368, 369, 370, 371, 372, 373, 374, 375, 376, 377,\n",
      "        378, 379, 380, 381, 382, 383, 384, 385, 386, 387, 388, 389, 390, 391,\n",
      "        392, 393, 394, 395, 396, 397, 398, 399, 400, 401, 402, 403, 404, 405,\n",
      "        406, 407, 408, 409, 410, 411, 412, 413, 414, 415, 416, 417, 418, 419,\n",
      "        420, 421, 422, 423, 424, 425, 426, 427, 428, 429, 430, 431, 432, 433,\n",
      "        434, 435, 436, 437, 438, 439, 440, 441, 442, 443, 444, 445, 446, 447,\n",
      "        448, 449, 450, 451, 452, 453, 454, 455, 456, 457, 458, 459, 460, 461,\n",
      "        462, 463, 464, 465, 466, 467, 468, 469, 470, 471, 472, 473, 474, 475,\n",
      "        476, 477, 478, 479, 480, 481, 482, 483, 484, 485, 486, 487, 488, 489,\n",
      "        490, 491, 492, 493, 494, 495, 496, 497, 498, 499, 500, 501, 502, 503,\n",
      "        504, 505, 506, 507, 508, 509, 510, 511, 512, 513, 514, 515, 516, 517,\n",
      "        518, 519, 520, 521, 522, 523, 524, 525, 526, 527, 528, 529, 530, 531,\n",
      "        532, 533, 534, 535, 536, 537, 538, 539, 540, 541, 542, 543, 544, 545,\n",
      "        546, 547, 548, 549, 550, 551, 552, 553, 554, 555, 556, 557, 558, 559,\n",
      "        560, 561, 562, 563, 564, 565, 566, 567, 568, 569, 570, 571, 572, 573,\n",
      "        574, 575, 576, 577, 578, 579, 580, 581, 582, 583, 584, 585, 586, 587,\n",
      "        588, 589, 590, 591, 592, 593, 594, 595, 596, 597, 598, 599, 600, 601,\n",
      "        602, 603, 604, 605, 606, 607, 608, 609, 610, 611, 612, 613, 614, 615,\n",
      "        616, 617, 618, 619, 620, 621, 622, 623, 624, 625, 626, 627, 628, 629,\n",
      "        630, 631, 632, 633, 634, 635, 636, 637, 638, 639, 640, 641, 642, 643,\n",
      "        644, 645, 646, 647, 648, 649, 650, 651, 652, 653, 654, 655, 656, 657,\n",
      "        658, 659, 660, 661, 662, 663, 664, 665, 666, 667, 668, 669, 670, 671]), 'x': tensor([[0., 0., 0.,  ..., 0., 0., 0.],\n",
      "        [0., 0., 0.,  ..., 0., 0., 0.],\n",
      "        [0., 0., 0.,  ..., 0., 0., 0.],\n",
      "        ...,\n",
      "        [0., 0., 0.,  ..., 0., 0., 0.],\n",
      "        [0., 0., 0.,  ..., 0., 0., 0.],\n",
      "        [0., 0., 0.,  ..., 0., 0., 0.]])}, 'movie': {'node_id': tensor([    0,     1,     2,  ..., 45430, 45431, 45432]), 'x': tensor([[-2.4423e-02,  4.6019e-02,  5.7362e-02,  ...,  0.0000e+00,\n",
      "          0.0000e+00,  0.0000e+00],\n",
      "        [-3.8774e-02,  1.2518e-01, -2.2672e-02,  ...,  0.0000e+00,\n",
      "          0.0000e+00,  0.0000e+00],\n",
      "        [-3.8435e-02,  1.7164e-02, -8.8085e-04,  ...,  0.0000e+00,\n",
      "          0.0000e+00,  0.0000e+00],\n",
      "        ...,\n",
      "        [-5.0737e-02,  4.5414e-02,  3.5840e-02,  ...,  1.0000e+00,\n",
      "          0.0000e+00,  0.0000e+00],\n",
      "        [ 4.0051e-02,  1.0203e-01, -3.8808e-02,  ...,  0.0000e+00,\n",
      "          0.0000e+00,  0.0000e+00],\n",
      "        [-7.0779e-02,  3.3397e-02, -9.7845e-02,  ...,  0.0000e+00,\n",
      "          0.0000e+00,  0.0000e+00]])}, ('user', 'rating', 'movie'): {'edge_index': tensor([[   0,    0,    0,  ...,  671,  671,  671],\n",
      "        [2296, 8309, 2590,  ..., 1225,  834, 1154]]), 'edge_label': tensor([2.5000, 1.0000, 4.0000,  ..., 3.5000, 3.5000, 2.5000]), 'y': tensor([2.5000, 1.0000, 4.0000,  ..., 3.5000, 3.5000, 2.5000])}, ('movie', 'rev_rating', 'user'): {'edge_index': tensor([[2296, 8309, 2590,  ..., 1225,  834, 1154],\n",
      "        [   0,    0,    0,  ...,  671,  671,  671]]), 'edge_label': tensor([2.5000, 1.0000, 4.0000,  ..., 3.5000, 3.5000, 2.5000]), 'y': tensor([2.5000, 1.0000, 4.0000,  ..., 3.5000, 3.5000, 2.5000])}}\n"
     ]
    }
   ],
   "source": [
    "# Print dataset information\n",
    "print(\"Dataset size: \", dataset.size())\n",
    "print(\"\\nDataset type: \", type(dataset))\n",
    "print(\"\\nDataset metadata: \", dataset.metadata())\n",
    "print(\"\\nDataset to dict: \", dataset.to_dict())"
   ]
  },
  {
   "cell_type": "code",
   "execution_count": 17,
   "metadata": {
    "ExecuteTime": {
     "end_time": "2024-01-14T18:43:45.527028600Z",
     "start_time": "2024-01-14T18:43:43.667009300Z"
    },
    "collapsed": false
   },
   "outputs": [
    {
     "data": {
      "image/png": "[encoded data removed]",
      "text/plain": [
       "<Figure size 640x480 with 1 Axes>"
      ]
     },
     "metadata": {},
     "output_type": "display_data"
    }
   ],
   "source": [
    "# Visualize a sampled (sub)graph dataset (for better visualization reasons)\n",
    "gdh.plot_graph_dataset(node_sample_ratio=0.05, with_labels=False)"
   ]
  },
  {
   "cell_type": "code",
   "execution_count": 18,
   "metadata": {},
   "outputs": [
    {
     "name": "stdout",
     "output_type": "stream",
     "text": [
      "Class instance saved to D:\\Internship\\resources\\movielens_processed\\gdh_instance.pkl\n"
     ]
    }
   ],
   "source": [
    "# Store the HeterogeneousGraphDatasetHandler instance locally\n",
    "gdh.store_class_instance(filepath=gdh_filepath)"
   ]
  },
  {
   "cell_type": "code",
   "execution_count": 19,
   "metadata": {
    "ExecuteTime": {
     "end_time": "2024-01-14T18:43:45.598884400Z",
     "start_time": "2024-01-14T18:43:45.527028600Z"
    },
    "collapsed": false
   },
   "outputs": [],
   "source": [
    "# Save the dataset locally on disk\n",
    "#gdh.save_graph_dataset()"
   ]
  },
  {
   "cell_type": "code",
   "execution_count": 20,
   "metadata": {
    "ExecuteTime": {
     "end_time": "2024-01-14T18:43:45.599834100Z",
     "start_time": "2024-01-14T18:43:45.542985700Z"
    },
    "collapsed": false
   },
   "outputs": [],
   "source": [
    "# Load the dataset from disk\n",
    "#dataset = gdh.load_graph_dataset()\n",
    "#dataset"
   ]
  },
  {
   "cell_type": "markdown",
   "metadata": {
    "collapsed": false
   },
   "source": [
    "## GNN models training and evaluation"
   ]
  },
  {
   "cell_type": "markdown",
   "metadata": {
    "collapsed": false
   },
   "source": [
    "### GCN"
   ]
  },
  {
   "cell_type": "code",
   "execution_count": 21,
   "metadata": {},
   "outputs": [],
   "source": [
    "GCN_model = GNNModelHandler(\n",
    "    graph_dataset_handler=gdh,\n",
    "    gnn_encoder=GCNEncoder(hidden_channels=64, out_channels=64)\n",
    ")"
   ]
  },
  {
   "cell_type": "code",
   "execution_count": 22,
   "metadata": {
    "ExecuteTime": {
     "end_time": "2024-01-14T18:44:22.133056800Z",
     "start_time": "2024-01-14T18:43:45.576894400Z"
    },
    "collapsed": false
   },
   "outputs": [
    {
     "data": {
      "image/png": "[encoded data removed]",
      "text/plain": [
       "<Figure size 1000x600 with 1 Axes>"
      ]
     },
     "metadata": {},
     "output_type": "display_data"
    },
    {
     "name": "stdout",
     "output_type": "stream",
     "text": [
      "Best model with lowest validation RMSE restored from epoch 1997.\n",
      "\n",
      "TensorBoard training information of model GCN_based_model saved at path: D:\\Internship\\trained_models\\runs\\training_plot_GCN_based_model_2000_epochs_0.001_lr\n",
      "\n",
      "Trained model GCN_based_model saved at path: D:\\Internship\\trained_models\n"
     ]
    }
   ],
   "source": [
    "GCN_model.train(num_epochs=2000, lr=0.001, trained_model_path=trained_models_path, plot_train_loop=True)"
   ]
  },
  {
   "cell_type": "code",
   "execution_count": 23,
   "metadata": {
    "ExecuteTime": {
     "end_time": "2024-01-14T18:44:22.192862400Z",
     "start_time": "2024-01-14T18:44:22.122056500Z"
    },
    "collapsed": false
   },
   "outputs": [
    {
     "name": "stdout",
     "output_type": "stream",
     "text": [
      "Device: 'cuda\n",
      "'\n",
      "Test RMSE: 1.0150, Test MAE: 0.7699\n",
      "\n",
      "      userId  movieId  pred_rating  gt_rating\n",
      "0        486     6770     4.376434        3.0\n",
      "1        387     7877     3.302312        3.0\n",
      "2        533    33193     5.000000        4.0\n",
      "3        267    13312     3.372128        3.5\n",
      "4        653    22120     4.006218        4.0\n",
      "...      ...      ...          ...        ...\n",
      "4495     212     2718     2.516619        1.0\n",
      "4496     121    10119     3.667731        4.0\n",
      "4497     508     6770     3.168895        3.0\n",
      "4498     549     3381     4.466164        4.0\n",
      "4499     563      459     5.000000        4.0\n",
      "\n",
      "[4500 rows x 4 columns]\n"
     ]
    }
   ],
   "source": [
    "GCN_model.evaluate_performance()"
   ]
  },
  {
   "cell_type": "code",
   "execution_count": 24,
   "metadata": {},
   "outputs": [],
   "source": [
    "GCN_recommender = CollaborativeFiltering(model_handler=GCN_model)"
   ]
  },
  {
   "cell_type": "markdown",
   "metadata": {
    "collapsed": false
   },
   "source": [
    "### SAGEGraph"
   ]
  },
  {
   "cell_type": "code",
   "execution_count": 25,
   "metadata": {},
   "outputs": [],
   "source": [
    "GraphSAGE_model = GNNModelHandler(\n",
    "    graph_dataset_handler=gdh,\n",
    "    gnn_encoder=GraphSAGEEncoder(hidden_channels=64, out_channels=64)\n",
    ")"
   ]
  },
  {
   "cell_type": "code",
   "execution_count": 26,
   "metadata": {
    "ExecuteTime": {
     "end_time": "2024-01-14T18:44:59.343399800Z",
     "start_time": "2024-01-14T18:44:22.197845600Z"
    },
    "collapsed": false
   },
   "outputs": [
    {
     "data": {
      "image/png": "[encoded data removed]",
      "text/plain": [
       "<Figure size 1000x600 with 1 Axes>"
      ]
     },
     "metadata": {},
     "output_type": "display_data"
    },
    {
     "name": "stdout",
     "output_type": "stream",
     "text": [
      "Early stopping triggered at epoch 225. Best validation RMSE: 0.8941 at epoch 193.\n",
      "Best model with lowest validation RMSE restored from epoch 193.\n",
      "\n",
      "TensorBoard training information of model GraphSAGE_based_model saved at path: D:\\Internship\\trained_models\\runs\\training_plot_GraphSAGE_based_model_350_epochs_0.01_lr\n",
      "\n",
      "Trained model GraphSAGE_based_model saved at path: D:\\Internship\\trained_models\n"
     ]
    }
   ],
   "source": [
    "GraphSAGE_model.train(num_epochs=350, trained_model_path=trained_models_path, plot_train_loop=True)"
   ]
  },
  {
   "cell_type": "code",
   "execution_count": 27,
   "metadata": {
    "ExecuteTime": {
     "end_time": "2024-01-14T18:44:59.385316300Z",
     "start_time": "2024-01-14T18:44:59.340406200Z"
    },
    "collapsed": false
   },
   "outputs": [
    {
     "name": "stdout",
     "output_type": "stream",
     "text": [
      "Device: 'cuda\n",
      "'\n",
      "Test RMSE: 0.9062, Test MAE: 0.6929\n",
      "\n",
      "      userId  movieId  pred_rating  gt_rating\n",
      "0        514     9645     4.013831        2.5\n",
      "1         26      286     4.526161        5.0\n",
      "2        599    44114     3.709818        5.0\n",
      "3        101     7008     4.106010        4.0\n",
      "4        101    11443     4.212234        3.0\n",
      "...      ...      ...          ...        ...\n",
      "4495     246     2244     3.143507        2.0\n",
      "4496     104    10299     2.995813        3.0\n",
      "4497     469     5044     3.402698        3.0\n",
      "4498     129    36979     3.533116        4.0\n",
      "4499     563    10009     1.483210        1.0\n",
      "\n",
      "[4500 rows x 4 columns]\n"
     ]
    }
   ],
   "source": [
    "GraphSAGE_model.evaluate_performance()"
   ]
  },
  {
   "cell_type": "code",
   "execution_count": 28,
   "metadata": {},
   "outputs": [],
   "source": [
    "GraphSAGE_recommender = CollaborativeFiltering(model_handler=GraphSAGE_model)"
   ]
  },
  {
   "cell_type": "markdown",
   "metadata": {
    "collapsed": false
   },
   "source": [
    "### GAT"
   ]
  },
  {
   "cell_type": "code",
   "execution_count": 29,
   "metadata": {
    "ExecuteTime": {
     "end_time": "2024-01-14T18:44:59.437143300Z",
     "start_time": "2024-01-14T18:44:59.386279200Z"
    },
    "collapsed": false
   },
   "outputs": [],
   "source": [
    "GAT_model = GNNModelHandler(\n",
    "    graph_dataset_handler=gdh,\n",
    "    gnn_encoder=GATEncoder(hidden_channels=64, out_channels=64)\n",
    ")"
   ]
  },
  {
   "cell_type": "code",
   "execution_count": 30,
   "metadata": {
    "ExecuteTime": {
     "end_time": "2024-01-14T18:45:25.448499200Z",
     "start_time": "2024-01-14T18:44:59.417194800Z"
    },
    "collapsed": false
   },
   "outputs": [
    {
     "data": {
      "image/png": "[encoded data removed]",
      "text/plain": [
       "<Figure size 1000x600 with 1 Axes>"
      ]
     },
     "metadata": {},
     "output_type": "display_data"
    },
    {
     "name": "stdout",
     "output_type": "stream",
     "text": [
      "Early stopping triggered at epoch 242. Best validation RMSE: 0.9171 at epoch 213.\n",
      "Best model with lowest validation RMSE restored from epoch 213.\n",
      "\n",
      "TensorBoard training information of model GAT_based_model saved at path: D:\\Internship\\trained_models\\runs\\training_plot_GAT_based_model_250_epochs_0.01_lr\n",
      "\n",
      "Trained model GAT_based_model saved at path: D:\\Internship\\trained_models\n"
     ]
    }
   ],
   "source": [
    "GAT_model.train(num_epochs=250, trained_model_path=trained_models_path, plot_train_loop=True)"
   ]
  },
  {
   "cell_type": "code",
   "execution_count": 31,
   "metadata": {
    "ExecuteTime": {
     "end_time": "2024-01-14T18:45:25.488445Z",
     "start_time": "2024-01-14T18:45:25.449496400Z"
    },
    "collapsed": false
   },
   "outputs": [
    {
     "name": "stdout",
     "output_type": "stream",
     "text": [
      "Device: 'cuda\n",
      "'\n",
      "Test RMSE: 0.9252, Test MAE: 0.6969\n",
      "\n",
      "      userId  movieId  pred_rating  gt_rating\n",
      "0        521    10370     3.655915        2.5\n",
      "1         72     8055     3.809354        3.0\n",
      "2        646     3295     4.123598        3.0\n",
      "3        620    12280     3.702146        4.0\n",
      "4        147     7206     4.115911        5.0\n",
      "...      ...      ...          ...        ...\n",
      "4495     164     6151     3.404258        2.0\n",
      "4496     326     4597     3.854416        4.0\n",
      "4497     344     1299     3.788615        2.0\n",
      "4498     102     1902     2.591087        1.5\n",
      "4499     411     8569     2.831781        2.0\n",
      "\n",
      "[4500 rows x 4 columns]\n"
     ]
    }
   ],
   "source": [
    "GAT_model.evaluate_performance()"
   ]
  },
  {
   "cell_type": "code",
   "execution_count": 32,
   "metadata": {},
   "outputs": [],
   "source": [
    "GAT_recommender = CollaborativeFiltering(model_handler=GAT_model)"
   ]
  },
  {
   "cell_type": "code",
   "execution_count": 33,
   "metadata": {
    "ExecuteTime": {
     "end_time": "2024-01-14T18:45:25.507345900Z",
     "start_time": "2024-01-14T18:45:25.484403600Z"
    },
    "collapsed": false
   },
   "outputs": [],
   "source": [
    "# MY COMMENT: RMSE = 1 means that the mean error on rating predictions is around [-1, +1] \n",
    "# on a rate that goes from [1, 5] "
   ]
  },
  {
   "cell_type": "markdown",
   "metadata": {
    "collapsed": false
   },
   "source": [
    "## Movie prediction"
   ]
  },
  {
   "cell_type": "code",
   "execution_count": 34,
   "metadata": {
    "ExecuteTime": {
     "end_time": "2024-01-14T18:45:25.548265100Z",
     "start_time": "2024-01-14T18:45:25.495374300Z"
    },
    "collapsed": false
   },
   "outputs": [
    {
     "name": "stdout",
     "output_type": "stream",
     "text": [
      "Ground truth ratings of new_user:\n"
     ]
    },
    {
     "data": {
      "text/plain": [
       "[{'movieId': 19404, 'rating': 1.5, 'userId': 672},\n",
       " {'movieId': 27205, 'rating': 2, 'userId': 672},\n",
       " {'movieId': 155, 'rating': 3.5, 'userId': 672},\n",
       " {'movieId': 157336, 'rating': 3, 'userId': 672},\n",
       " {'movieId': 550, 'rating': 3, 'userId': 672},\n",
       " {'movieId': 120, 'rating': 5, 'userId': 672},\n",
       " {'movieId': 680, 'rating': 2, 'userId': 672},\n",
       " {'movieId': 278, 'rating': 1.5, 'userId': 672},\n",
       " {'movieId': 122, 'rating': 5, 'userId': 672},\n",
       " {'movieId': 13, 'rating': 5, 'userId': 672},\n",
       " {'movieId': 121, 'rating': 5, 'userId': 672},\n",
       " {'movieId': 11, 'rating': 2.5, 'userId': 672},\n",
       " {'movieId': 105, 'rating': 3.5, 'userId': 672},\n",
       " {'movieId': 238, 'rating': 3.5, 'userId': 672},\n",
       " {'movieId': 1891, 'rating': 2.5, 'userId': 672}]"
      ]
     },
     "execution_count": 34,
     "metadata": {},
     "output_type": "execute_result"
    }
   ],
   "source": [
    "print(\"Ground truth ratings of new_user:\")\n",
    "ratings"
   ]
  },
  {
   "cell_type": "code",
   "execution_count": 35,
   "metadata": {
    "ExecuteTime": {
     "end_time": "2024-01-14T18:45:25.572200500Z",
     "start_time": "2024-01-14T18:45:25.513325700Z"
    },
    "collapsed": false
   },
   "outputs": [
    {
     "name": "stdout",
     "output_type": "stream",
     "text": [
      "Movie: The Empire Strikes Back, Pred rating: 2.8277, Ground truth rating: 2.5000\n"
     ]
    }
   ],
   "source": [
    "user_id = new_user_id\n",
    "movie_id = 1891\n",
    "pred_rating, gt_rating = GCN_model.predict(user_id, movie_id)\n",
    "\n",
    "# Extract movie titles as a list\n",
    "movie_titles = gdh.movies_df.loc[gdh.movies_df['id'] == movie_id, 'title'].tolist()\n",
    "\n",
    "# Check if any titles were found\n",
    "if movie_titles:\n",
    "    movie_title = movie_titles[0]   # Display the first title\n",
    "    print(f\"Movie: {movie_title}, Pred rating: {pred_rating:.4f}, Ground truth rating: {gt_rating:.4f}\")\n",
    "else:\n",
    "    print(f\"No movie found with id {movie_id}\")"
   ]
  },
  {
   "cell_type": "code",
   "execution_count": 36,
   "metadata": {
    "ExecuteTime": {
     "end_time": "2024-01-14T18:45:25.628019100Z",
     "start_time": "2024-01-14T18:45:25.575160800Z"
    },
    "collapsed": false
   },
   "outputs": [
    {
     "name": "stdout",
     "output_type": "stream",
     "text": [
      "Movie: The Empire Strikes Back, Pred rating: 2.6529, Ground truth rating: 2.5000\n"
     ]
    }
   ],
   "source": [
    "user_id = new_user_id\n",
    "movie_id = 1891\n",
    "pred_rating, gt_rating = GraphSAGE_model.predict(user_id, movie_id)\n",
    "\n",
    "# Extract movie titles as a list\n",
    "movie_titles = gdh.movies_df.loc[gdh.movies_df['id'] == movie_id, 'title'].tolist()\n",
    "\n",
    "# Check if any titles were found\n",
    "if movie_titles:\n",
    "    movie_title = movie_titles[0]   # Display the first title\n",
    "    print(f\"Movie: {movie_title}, Pred rating: {pred_rating:.4f}, Ground truth rating: {gt_rating:.4f}\")\n",
    "else:\n",
    "    print(f\"No movie found with id {movie_id}\")"
   ]
  },
  {
   "cell_type": "code",
   "execution_count": 37,
   "metadata": {
    "ExecuteTime": {
     "end_time": "2024-01-14T18:45:25.684897400Z",
     "start_time": "2024-01-14T18:45:25.622034500Z"
    },
    "collapsed": false
   },
   "outputs": [
    {
     "name": "stdout",
     "output_type": "stream",
     "text": [
      "Movie: The Empire Strikes Back, Pred rating: 2.5692, Ground truth rating: 2.5000\n"
     ]
    }
   ],
   "source": [
    "user_id = new_user_id\n",
    "movie_id = 1891\n",
    "pred_rating, gt_rating = GAT_model.predict(user_id, movie_id)\n",
    "\n",
    "# Extract movie titles as a list\n",
    "movie_titles = gdh.movies_df.loc[gdh.movies_df['id'] == movie_id, 'title'].tolist()\n",
    "\n",
    "# Check if any titles were found\n",
    "if movie_titles:\n",
    "    movie_title = movie_titles[0]   # Display the first title\n",
    "    print(f\"Movie: {movie_title}, Pred rating: {pred_rating:.4f}, Ground truth rating: {gt_rating:.4f}\")\n",
    "else:\n",
    "    print(f\"No movie found with id {movie_id}\")"
   ]
  },
  {
   "cell_type": "markdown",
   "metadata": {
    "collapsed": false
   },
   "source": [
    "## Movie recommendation"
   ]
  },
  {
   "cell_type": "code",
   "execution_count": 38,
   "metadata": {
    "ExecuteTime": {
     "end_time": "2024-01-14T18:45:25.754719600Z",
     "start_time": "2024-01-14T18:45:25.653950600Z"
    },
    "collapsed": false
   },
   "outputs": [
    {
     "name": "stdout",
     "output_type": "stream",
     "text": [
      "New movie:  Without Knowing Anything About Her, Predicted rating: 3.0478\n"
     ]
    }
   ],
   "source": [
    "# Suggest a new movie to the user\n",
    "pred_movie, pred_rating = GraphSAGE_recommender.suggest_new_movie(new_user_id)\n",
    "movie_title = pred_movie['title'].item()\n",
    "movie_id = pred_movie['movieId'].item()\n",
    "\n",
    "print(f\"New movie:  {movie_title}, Predicted rating: {pred_rating:.4f}\")"
   ]
  },
  {
   "cell_type": "code",
   "execution_count": 39,
   "metadata": {},
   "outputs": [
    {
     "name": "stdout",
     "output_type": "stream",
     "text": [
      "Movie: Without Knowing Anything About Her, Pred rating: 3.0478, Ground truth rating: nan\n"
     ]
    }
   ],
   "source": [
    "# Prediciton on the previously suggested movie (to check that the predicted rating matches)\n",
    "movie_titles = gdh.movies_df.loc[gdh.movies_df['id'] == movie_id, 'title'].tolist()\n",
    "pred_rating, gt_rating = GraphSAGE_recommender.predict(new_user_id, movie_id)\n",
    "\n",
    "print(f\"Movie: {movie_title}, Pred rating: {pred_rating:.4f}, Ground truth rating: {gt_rating:.4f}\")"
   ]
  },
  {
   "cell_type": "code",
   "execution_count": 40,
   "metadata": {},
   "outputs": [
    {
     "name": "stdout",
     "output_type": "stream",
     "text": [
      "Predicted ratings for a subset of 10 movies:\n"
     ]
    },
    {
     "data": {
      "text/html": [
       "<div>\n",
       "<style scoped>\n",
       "    .dataframe tbody tr th:only-of-type {\n",
       "        vertical-align: middle;\n",
       "    }\n",
       "\n",
       "    .dataframe tbody tr th {\n",
       "        vertical-align: top;\n",
       "    }\n",
       "\n",
       "    .dataframe thead th {\n",
       "        text-align: right;\n",
       "    }\n",
       "</style>\n",
       "<table border=\"1\" class=\"dataframe\">\n",
       "  <thead>\n",
       "    <tr style=\"text-align: right;\">\n",
       "      <th></th>\n",
       "      <th>movieId</th>\n",
       "      <th>predicted_rating</th>\n",
       "      <th>ground_truth_rating</th>\n",
       "    </tr>\n",
       "  </thead>\n",
       "  <tbody>\n",
       "    <tr>\n",
       "      <th>0</th>\n",
       "      <td>862</td>\n",
       "      <td>3.010473</td>\n",
       "      <td>NaN</td>\n",
       "    </tr>\n",
       "    <tr>\n",
       "      <th>1</th>\n",
       "      <td>8844</td>\n",
       "      <td>2.828910</td>\n",
       "      <td>NaN</td>\n",
       "    </tr>\n",
       "    <tr>\n",
       "      <th>2</th>\n",
       "      <td>15602</td>\n",
       "      <td>3.196267</td>\n",
       "      <td>NaN</td>\n",
       "    </tr>\n",
       "    <tr>\n",
       "      <th>3</th>\n",
       "      <td>31357</td>\n",
       "      <td>3.103937</td>\n",
       "      <td>NaN</td>\n",
       "    </tr>\n",
       "    <tr>\n",
       "      <th>4</th>\n",
       "      <td>11862</td>\n",
       "      <td>3.085480</td>\n",
       "      <td>NaN</td>\n",
       "    </tr>\n",
       "    <tr>\n",
       "      <th>5</th>\n",
       "      <td>949</td>\n",
       "      <td>3.904911</td>\n",
       "      <td>NaN</td>\n",
       "    </tr>\n",
       "    <tr>\n",
       "      <th>6</th>\n",
       "      <td>11860</td>\n",
       "      <td>2.947244</td>\n",
       "      <td>NaN</td>\n",
       "    </tr>\n",
       "    <tr>\n",
       "      <th>7</th>\n",
       "      <td>45325</td>\n",
       "      <td>3.261975</td>\n",
       "      <td>NaN</td>\n",
       "    </tr>\n",
       "    <tr>\n",
       "      <th>8</th>\n",
       "      <td>9091</td>\n",
       "      <td>3.017239</td>\n",
       "      <td>NaN</td>\n",
       "    </tr>\n",
       "    <tr>\n",
       "      <th>9</th>\n",
       "      <td>710</td>\n",
       "      <td>2.149533</td>\n",
       "      <td>NaN</td>\n",
       "    </tr>\n",
       "  </tbody>\n",
       "</table>\n",
       "</div>"
      ],
      "text/plain": [
       "   movieId  predicted_rating  ground_truth_rating\n",
       "0      862          3.010473                  NaN\n",
       "1     8844          2.828910                  NaN\n",
       "2    15602          3.196267                  NaN\n",
       "3    31357          3.103937                  NaN\n",
       "4    11862          3.085480                  NaN\n",
       "5      949          3.904911                  NaN\n",
       "6    11860          2.947244                  NaN\n",
       "7    45325          3.261975                  NaN\n",
       "8     9091          3.017239                  NaN\n",
       "9      710          2.149533                  NaN"
      ]
     },
     "execution_count": 40,
     "metadata": {},
     "output_type": "execute_result"
    }
   ],
   "source": [
    "# Predict ratings for a subset of movies sequentially (slow on large datasets)\n",
    "subset_movies_df = movies_df.head(10)\n",
    "pred_ratings = GraphSAGE_recommender.predict_ratings(new_user_id, subset_movies_df)\n",
    "print(f\"Predicted ratings for a subset of {pred_ratings.shape[0]} movies:\")\n",
    "pred_ratings"
   ]
  },
  {
   "cell_type": "code",
   "execution_count": 41,
   "metadata": {},
   "outputs": [
    {
     "name": "stdout",
     "output_type": "stream",
     "text": [
      "Predicted ratings for all 45433 movies:\n"
     ]
    },
    {
     "data": {
      "text/html": [
       "<div>\n",
       "<style scoped>\n",
       "    .dataframe tbody tr th:only-of-type {\n",
       "        vertical-align: middle;\n",
       "    }\n",
       "\n",
       "    .dataframe tbody tr th {\n",
       "        vertical-align: top;\n",
       "    }\n",
       "\n",
       "    .dataframe thead th {\n",
       "        text-align: right;\n",
       "    }\n",
       "</style>\n",
       "<table border=\"1\" class=\"dataframe\">\n",
       "  <thead>\n",
       "    <tr style=\"text-align: right;\">\n",
       "      <th></th>\n",
       "      <th>movieId</th>\n",
       "      <th>predicted_rating</th>\n",
       "      <th>ground_truth_rating</th>\n",
       "    </tr>\n",
       "  </thead>\n",
       "  <tbody>\n",
       "    <tr>\n",
       "      <th>0</th>\n",
       "      <td>862</td>\n",
       "      <td>3.010473</td>\n",
       "      <td>NaN</td>\n",
       "    </tr>\n",
       "    <tr>\n",
       "      <th>1</th>\n",
       "      <td>8844</td>\n",
       "      <td>2.828910</td>\n",
       "      <td>NaN</td>\n",
       "    </tr>\n",
       "    <tr>\n",
       "      <th>2</th>\n",
       "      <td>15602</td>\n",
       "      <td>3.196267</td>\n",
       "      <td>NaN</td>\n",
       "    </tr>\n",
       "    <tr>\n",
       "      <th>3</th>\n",
       "      <td>31357</td>\n",
       "      <td>3.103936</td>\n",
       "      <td>NaN</td>\n",
       "    </tr>\n",
       "    <tr>\n",
       "      <th>4</th>\n",
       "      <td>11862</td>\n",
       "      <td>3.085480</td>\n",
       "      <td>NaN</td>\n",
       "    </tr>\n",
       "    <tr>\n",
       "      <th>5</th>\n",
       "      <td>949</td>\n",
       "      <td>3.904911</td>\n",
       "      <td>NaN</td>\n",
       "    </tr>\n",
       "    <tr>\n",
       "      <th>6</th>\n",
       "      <td>11860</td>\n",
       "      <td>2.947244</td>\n",
       "      <td>NaN</td>\n",
       "    </tr>\n",
       "    <tr>\n",
       "      <th>7</th>\n",
       "      <td>45325</td>\n",
       "      <td>3.261976</td>\n",
       "      <td>NaN</td>\n",
       "    </tr>\n",
       "    <tr>\n",
       "      <th>8</th>\n",
       "      <td>9091</td>\n",
       "      <td>3.017239</td>\n",
       "      <td>NaN</td>\n",
       "    </tr>\n",
       "    <tr>\n",
       "      <th>9</th>\n",
       "      <td>710</td>\n",
       "      <td>2.149533</td>\n",
       "      <td>NaN</td>\n",
       "    </tr>\n",
       "  </tbody>\n",
       "</table>\n",
       "</div>"
      ],
      "text/plain": [
       "   movieId  predicted_rating  ground_truth_rating\n",
       "0      862          3.010473                  NaN\n",
       "1     8844          2.828910                  NaN\n",
       "2    15602          3.196267                  NaN\n",
       "3    31357          3.103936                  NaN\n",
       "4    11862          3.085480                  NaN\n",
       "5      949          3.904911                  NaN\n",
       "6    11860          2.947244                  NaN\n",
       "7    45325          3.261976                  NaN\n",
       "8     9091          3.017239                  NaN\n",
       "9      710          2.149533                  NaN"
      ]
     },
     "execution_count": 41,
     "metadata": {},
     "output_type": "execute_result"
    }
   ],
   "source": [
    "# Predict ratings for all movies with batched inference optimization (super fast on large datasets)\n",
    "subset_movies_df = movies_df\n",
    "pred_ratings = GraphSAGE_recommender.predict_ratings(\n",
    "    user_id=new_user_id,\n",
    "    subset_movies_df=subset_movies_df,\n",
    "    use_batch=True,\n",
    ")\n",
    "print(f\"Predicted ratings for all {pred_ratings.shape[0]} movies:\")\n",
    "pred_ratings.head(10)"
   ]
  },
  {
   "cell_type": "markdown",
   "metadata": {
    "collapsed": false
   },
   "source": [
    "# Hybrid filtering: GNN-based"
   ]
  },
  {
   "cell_type": "markdown",
   "metadata": {
    "collapsed": false
   },
   "source": [
    "## CGN"
   ]
  },
  {
   "cell_type": "code",
   "execution_count": 42,
   "metadata": {
    "ExecuteTime": {
     "end_time": "2024-01-14T18:46:05.614964800Z",
     "start_time": "2024-01-14T18:45:25.713789200Z"
    },
    "collapsed": false
   },
   "outputs": [
    {
     "data": {
      "text/html": [
       "<div>\n",
       "<style scoped>\n",
       "    .dataframe tbody tr th:only-of-type {\n",
       "        vertical-align: middle;\n",
       "    }\n",
       "\n",
       "    .dataframe tbody tr th {\n",
       "        vertical-align: top;\n",
       "    }\n",
       "\n",
       "    .dataframe thead th {\n",
       "        text-align: right;\n",
       "    }\n",
       "</style>\n",
       "<table border=\"1\" class=\"dataframe\">\n",
       "  <thead>\n",
       "    <tr style=\"text-align: right;\">\n",
       "      <th></th>\n",
       "      <th>id</th>\n",
       "      <th>title</th>\n",
       "      <th>year</th>\n",
       "      <th>soup</th>\n",
       "      <th>est_rating</th>\n",
       "      <th>gt_rating</th>\n",
       "    </tr>\n",
       "  </thead>\n",
       "  <tbody>\n",
       "    <tr>\n",
       "      <th>10158</th>\n",
       "      <td>272</td>\n",
       "      <td>Batman Begins</td>\n",
       "      <td>2005</td>\n",
       "      <td>christianbale michaelcaine liamneeson christop...</td>\n",
       "      <td>3.638576</td>\n",
       "      <td>NaN</td>\n",
       "    </tr>\n",
       "    <tr>\n",
       "      <th>11399</th>\n",
       "      <td>1124</td>\n",
       "      <td>The Prestige</td>\n",
       "      <td>2006</td>\n",
       "      <td>hughjackman christianbale michaelcaine christo...</td>\n",
       "      <td>3.553869</td>\n",
       "      <td>NaN</td>\n",
       "    </tr>\n",
       "    <tr>\n",
       "      <th>15547</th>\n",
       "      <td>27205</td>\n",
       "      <td>Inception</td>\n",
       "      <td>2010</td>\n",
       "      <td>leonardodicaprio josephgordon-levitt ellenpage...</td>\n",
       "      <td>3.205535</td>\n",
       "      <td>NaN</td>\n",
       "    </tr>\n",
       "    <tr>\n",
       "      <th>22952</th>\n",
       "      <td>157336</td>\n",
       "      <td>Interstellar</td>\n",
       "      <td>2014</td>\n",
       "      <td>matthewmcconaughey jessicachastain annehathawa...</td>\n",
       "      <td>3.086689</td>\n",
       "      <td>NaN</td>\n",
       "    </tr>\n",
       "    <tr>\n",
       "      <th>2474</th>\n",
       "      <td>11660</td>\n",
       "      <td>Following</td>\n",
       "      <td>1998</td>\n",
       "      <td>jeremytheobald alexhaw lucyrussell christopher...</td>\n",
       "      <td>2.958448</td>\n",
       "      <td>NaN</td>\n",
       "    </tr>\n",
       "    <tr>\n",
       "      <th>18326</th>\n",
       "      <td>49026</td>\n",
       "      <td>The Dark Knight Rises</td>\n",
       "      <td>2012</td>\n",
       "      <td>christianbale michaelcaine garyoldman christop...</td>\n",
       "      <td>2.907404</td>\n",
       "      <td>NaN</td>\n",
       "    </tr>\n",
       "    <tr>\n",
       "      <th>11460</th>\n",
       "      <td>7873</td>\n",
       "      <td>Harsh Times</td>\n",
       "      <td>2005</td>\n",
       "      <td>christianbale freddyrodríguez evalongoria davi...</td>\n",
       "      <td>2.862168</td>\n",
       "      <td>NaN</td>\n",
       "    </tr>\n",
       "    <tr>\n",
       "      <th>9177</th>\n",
       "      <td>13428</td>\n",
       "      <td>Two Hands</td>\n",
       "      <td>1999</td>\n",
       "      <td>heathledger bryanbrown rosebyrne gregorjordan ...</td>\n",
       "      <td>2.857138</td>\n",
       "      <td>NaN</td>\n",
       "    </tr>\n",
       "    <tr>\n",
       "      <th>7248</th>\n",
       "      <td>10544</td>\n",
       "      <td>Ned Kelly</td>\n",
       "      <td>2003</td>\n",
       "      <td>heathledger orlandobloom geoffreyrush gregorjo...</td>\n",
       "      <td>2.788651</td>\n",
       "      <td>NaN</td>\n",
       "    </tr>\n",
       "    <tr>\n",
       "      <th>45711</th>\n",
       "      <td>374720</td>\n",
       "      <td>Dunkirk</td>\n",
       "      <td>2017</td>\n",
       "      <td>fionnwhitehead tomglynn-carney jacklowden chri...</td>\n",
       "      <td>2.756338</td>\n",
       "      <td>NaN</td>\n",
       "    </tr>\n",
       "  </tbody>\n",
       "</table>\n",
       "</div>"
      ],
      "text/plain": [
       "           id                  title  year  \\\n",
       "10158     272          Batman Begins  2005   \n",
       "11399    1124           The Prestige  2006   \n",
       "15547   27205              Inception  2010   \n",
       "22952  157336           Interstellar  2014   \n",
       "2474    11660              Following  1998   \n",
       "18326   49026  The Dark Knight Rises  2012   \n",
       "11460    7873            Harsh Times  2005   \n",
       "9177    13428              Two Hands  1999   \n",
       "7248    10544              Ned Kelly  2003   \n",
       "45711  374720                Dunkirk  2017   \n",
       "\n",
       "                                                    soup  est_rating  \\\n",
       "10158  christianbale michaelcaine liamneeson christop...    3.638576   \n",
       "11399  hughjackman christianbale michaelcaine christo...    3.553869   \n",
       "15547  leonardodicaprio josephgordon-levitt ellenpage...    3.205535   \n",
       "22952  matthewmcconaughey jessicachastain annehathawa...    3.086689   \n",
       "2474   jeremytheobald alexhaw lucyrussell christopher...    2.958448   \n",
       "18326  christianbale michaelcaine garyoldman christop...    2.907404   \n",
       "11460  christianbale freddyrodríguez evalongoria davi...    2.862168   \n",
       "9177   heathledger bryanbrown rosebyrne gregorjordan ...    2.857138   \n",
       "7248   heathledger orlandobloom geoffreyrush gregorjo...    2.788651   \n",
       "45711  fionnwhitehead tomglynn-carney jacklowden chri...    2.756338   \n",
       "\n",
       "       gt_rating  \n",
       "10158        NaN  \n",
       "11399        NaN  \n",
       "15547        NaN  \n",
       "22952        NaN  \n",
       "2474         NaN  \n",
       "18326        NaN  \n",
       "11460        NaN  \n",
       "9177         NaN  \n",
       "7248         NaN  \n",
       "45711        NaN  "
      ]
     },
     "execution_count": 42,
     "metadata": {},
     "output_type": "execute_result"
    }
   ],
   "source": [
    "user_id = 1\n",
    "movie_title = 'The Dark Knight'\n",
    "\n",
    "hybrid_GCN_recommender = HybridFiltering(collaborative_filtering=GCN_recommender)\n",
    "hybrid_GCN_recommender.suggest_similar_movies(user_id, movie_title, 25).head(10)"
   ]
  },
  {
   "cell_type": "markdown",
   "metadata": {
    "collapsed": false
   },
   "source": [
    "## GraphSAGE"
   ]
  },
  {
   "cell_type": "code",
   "execution_count": 43,
   "metadata": {
    "ExecuteTime": {
     "end_time": "2024-01-14T18:46:45.696686100Z",
     "start_time": "2024-01-14T18:46:05.616952600Z"
    },
    "collapsed": false
   },
   "outputs": [
    {
     "data": {
      "text/html": [
       "<div>\n",
       "<style scoped>\n",
       "    .dataframe tbody tr th:only-of-type {\n",
       "        vertical-align: middle;\n",
       "    }\n",
       "\n",
       "    .dataframe tbody tr th {\n",
       "        vertical-align: top;\n",
       "    }\n",
       "\n",
       "    .dataframe thead th {\n",
       "        text-align: right;\n",
       "    }\n",
       "</style>\n",
       "<table border=\"1\" class=\"dataframe\">\n",
       "  <thead>\n",
       "    <tr style=\"text-align: right;\">\n",
       "      <th></th>\n",
       "      <th>id</th>\n",
       "      <th>title</th>\n",
       "      <th>year</th>\n",
       "      <th>soup</th>\n",
       "      <th>est_rating</th>\n",
       "      <th>gt_rating</th>\n",
       "    </tr>\n",
       "  </thead>\n",
       "  <tbody>\n",
       "    <tr>\n",
       "      <th>10358</th>\n",
       "      <td>4442</td>\n",
       "      <td>The Brothers Grimm</td>\n",
       "      <td>2005</td>\n",
       "      <td>heathledger mattdamon mackenziecrook terrygill...</td>\n",
       "      <td>3.789355</td>\n",
       "      <td>NaN</td>\n",
       "    </tr>\n",
       "    <tr>\n",
       "      <th>10158</th>\n",
       "      <td>272</td>\n",
       "      <td>Batman Begins</td>\n",
       "      <td>2005</td>\n",
       "      <td>christianbale michaelcaine liamneeson christop...</td>\n",
       "      <td>3.527051</td>\n",
       "      <td>NaN</td>\n",
       "    </tr>\n",
       "    <tr>\n",
       "      <th>11399</th>\n",
       "      <td>1124</td>\n",
       "      <td>The Prestige</td>\n",
       "      <td>2006</td>\n",
       "      <td>hughjackman christianbale michaelcaine christo...</td>\n",
       "      <td>3.069911</td>\n",
       "      <td>NaN</td>\n",
       "    </tr>\n",
       "    <tr>\n",
       "      <th>4110</th>\n",
       "      <td>77</td>\n",
       "      <td>Memento</td>\n",
       "      <td>2000</td>\n",
       "      <td>guypearce carrie-annemoss joepantoliano christ...</td>\n",
       "      <td>2.767081</td>\n",
       "      <td>NaN</td>\n",
       "    </tr>\n",
       "    <tr>\n",
       "      <th>19247</th>\n",
       "      <td>32050</td>\n",
       "      <td>The Black Windmill</td>\n",
       "      <td>1974</td>\n",
       "      <td>michaelcaine donaldpleasence delphineseyrig do...</td>\n",
       "      <td>2.594522</td>\n",
       "      <td>NaN</td>\n",
       "    </tr>\n",
       "    <tr>\n",
       "      <th>11460</th>\n",
       "      <td>7873</td>\n",
       "      <td>Harsh Times</td>\n",
       "      <td>2005</td>\n",
       "      <td>christianbale freddyrodríguez evalongoria davi...</td>\n",
       "      <td>2.589165</td>\n",
       "      <td>NaN</td>\n",
       "    </tr>\n",
       "    <tr>\n",
       "      <th>18326</th>\n",
       "      <td>49026</td>\n",
       "      <td>The Dark Knight Rises</td>\n",
       "      <td>2012</td>\n",
       "      <td>christianbale michaelcaine garyoldman christop...</td>\n",
       "      <td>2.488619</td>\n",
       "      <td>NaN</td>\n",
       "    </tr>\n",
       "    <tr>\n",
       "      <th>5274</th>\n",
       "      <td>320</td>\n",
       "      <td>Insomnia</td>\n",
       "      <td>2002</td>\n",
       "      <td>alpacino robinwilliams hilaryswank christopher...</td>\n",
       "      <td>2.473668</td>\n",
       "      <td>NaN</td>\n",
       "    </tr>\n",
       "    <tr>\n",
       "      <th>18094</th>\n",
       "      <td>123334</td>\n",
       "      <td>TV Junkie</td>\n",
       "      <td>2006</td>\n",
       "      <td>rickkirkham michaelcaine michaelcaine michaelc...</td>\n",
       "      <td>2.288608</td>\n",
       "      <td>NaN</td>\n",
       "    </tr>\n",
       "    <tr>\n",
       "      <th>40201</th>\n",
       "      <td>112767</td>\n",
       "      <td>Shadow Run</td>\n",
       "      <td>1998</td>\n",
       "      <td>michaelcaine jamesfox matthewpochin nan nan na...</td>\n",
       "      <td>2.256264</td>\n",
       "      <td>NaN</td>\n",
       "    </tr>\n",
       "  </tbody>\n",
       "</table>\n",
       "</div>"
      ],
      "text/plain": [
       "           id                  title  year  \\\n",
       "10358    4442     The Brothers Grimm  2005   \n",
       "10158     272          Batman Begins  2005   \n",
       "11399    1124           The Prestige  2006   \n",
       "4110       77                Memento  2000   \n",
       "19247   32050     The Black Windmill  1974   \n",
       "11460    7873            Harsh Times  2005   \n",
       "18326   49026  The Dark Knight Rises  2012   \n",
       "5274      320               Insomnia  2002   \n",
       "18094  123334              TV Junkie  2006   \n",
       "40201  112767             Shadow Run  1998   \n",
       "\n",
       "                                                    soup  est_rating  \\\n",
       "10358  heathledger mattdamon mackenziecrook terrygill...    3.789355   \n",
       "10158  christianbale michaelcaine liamneeson christop...    3.527051   \n",
       "11399  hughjackman christianbale michaelcaine christo...    3.069911   \n",
       "4110   guypearce carrie-annemoss joepantoliano christ...    2.767081   \n",
       "19247  michaelcaine donaldpleasence delphineseyrig do...    2.594522   \n",
       "11460  christianbale freddyrodríguez evalongoria davi...    2.589165   \n",
       "18326  christianbale michaelcaine garyoldman christop...    2.488619   \n",
       "5274   alpacino robinwilliams hilaryswank christopher...    2.473668   \n",
       "18094  rickkirkham michaelcaine michaelcaine michaelc...    2.288608   \n",
       "40201  michaelcaine jamesfox matthewpochin nan nan na...    2.256264   \n",
       "\n",
       "       gt_rating  \n",
       "10358        NaN  \n",
       "10158        NaN  \n",
       "11399        NaN  \n",
       "4110         NaN  \n",
       "19247        NaN  \n",
       "11460        NaN  \n",
       "18326        NaN  \n",
       "5274         NaN  \n",
       "18094        NaN  \n",
       "40201        NaN  "
      ]
     },
     "execution_count": 43,
     "metadata": {},
     "output_type": "execute_result"
    }
   ],
   "source": [
    "user_id = 1\n",
    "movie_title = 'The Dark Knight'\n",
    "\n",
    "hybrid_GraphSAGE_recommender = HybridFiltering(collaborative_filtering=GraphSAGE_recommender)\n",
    "hybrid_GraphSAGE_recommender.suggest_similar_movies(user_id, movie_title, 25).head(10)"
   ]
  },
  {
   "cell_type": "markdown",
   "metadata": {
    "collapsed": false
   },
   "source": [
    "## GAT"
   ]
  },
  {
   "cell_type": "code",
   "execution_count": 44,
   "metadata": {
    "ExecuteTime": {
     "end_time": "2024-01-14T18:47:18.971554900Z",
     "start_time": "2024-01-14T18:46:45.699640600Z"
    },
    "collapsed": false
   },
   "outputs": [
    {
     "data": {
      "text/html": [
       "<div>\n",
       "<style scoped>\n",
       "    .dataframe tbody tr th:only-of-type {\n",
       "        vertical-align: middle;\n",
       "    }\n",
       "\n",
       "    .dataframe tbody tr th {\n",
       "        vertical-align: top;\n",
       "    }\n",
       "\n",
       "    .dataframe thead th {\n",
       "        text-align: right;\n",
       "    }\n",
       "</style>\n",
       "<table border=\"1\" class=\"dataframe\">\n",
       "  <thead>\n",
       "    <tr style=\"text-align: right;\">\n",
       "      <th></th>\n",
       "      <th>id</th>\n",
       "      <th>title</th>\n",
       "      <th>year</th>\n",
       "      <th>soup</th>\n",
       "      <th>est_rating</th>\n",
       "      <th>gt_rating</th>\n",
       "    </tr>\n",
       "  </thead>\n",
       "  <tbody>\n",
       "    <tr>\n",
       "      <th>10358</th>\n",
       "      <td>4442</td>\n",
       "      <td>The Brothers Grimm</td>\n",
       "      <td>2005</td>\n",
       "      <td>heathledger mattdamon mackenziecrook terrygill...</td>\n",
       "      <td>4.888023</td>\n",
       "      <td>NaN</td>\n",
       "    </tr>\n",
       "    <tr>\n",
       "      <th>4110</th>\n",
       "      <td>77</td>\n",
       "      <td>Memento</td>\n",
       "      <td>2000</td>\n",
       "      <td>guypearce carrie-annemoss joepantoliano christ...</td>\n",
       "      <td>3.710649</td>\n",
       "      <td>NaN</td>\n",
       "    </tr>\n",
       "    <tr>\n",
       "      <th>3642</th>\n",
       "      <td>2024</td>\n",
       "      <td>The Patriot</td>\n",
       "      <td>2000</td>\n",
       "      <td>melgibson heathledger joelyrichardson rolandem...</td>\n",
       "      <td>3.611728</td>\n",
       "      <td>NaN</td>\n",
       "    </tr>\n",
       "    <tr>\n",
       "      <th>10158</th>\n",
       "      <td>272</td>\n",
       "      <td>Batman Begins</td>\n",
       "      <td>2005</td>\n",
       "      <td>christianbale michaelcaine liamneeson christop...</td>\n",
       "      <td>3.480677</td>\n",
       "      <td>NaN</td>\n",
       "    </tr>\n",
       "    <tr>\n",
       "      <th>11399</th>\n",
       "      <td>1124</td>\n",
       "      <td>The Prestige</td>\n",
       "      <td>2006</td>\n",
       "      <td>hughjackman christianbale michaelcaine christo...</td>\n",
       "      <td>3.382837</td>\n",
       "      <td>NaN</td>\n",
       "    </tr>\n",
       "    <tr>\n",
       "      <th>40201</th>\n",
       "      <td>112767</td>\n",
       "      <td>Shadow Run</td>\n",
       "      <td>1998</td>\n",
       "      <td>michaelcaine jamesfox matthewpochin nan nan na...</td>\n",
       "      <td>2.843785</td>\n",
       "      <td>NaN</td>\n",
       "    </tr>\n",
       "    <tr>\n",
       "      <th>5274</th>\n",
       "      <td>320</td>\n",
       "      <td>Insomnia</td>\n",
       "      <td>2002</td>\n",
       "      <td>alpacino robinwilliams hilaryswank christopher...</td>\n",
       "      <td>2.779907</td>\n",
       "      <td>NaN</td>\n",
       "    </tr>\n",
       "    <tr>\n",
       "      <th>3633</th>\n",
       "      <td>479</td>\n",
       "      <td>Shaft</td>\n",
       "      <td>2000</td>\n",
       "      <td>samuell.jackson jeffreywright christianbale jo...</td>\n",
       "      <td>2.771131</td>\n",
       "      <td>NaN</td>\n",
       "    </tr>\n",
       "    <tr>\n",
       "      <th>4185</th>\n",
       "      <td>9476</td>\n",
       "      <td>A Knight's Tale</td>\n",
       "      <td>2001</td>\n",
       "      <td>heathledger rufussewell shannynsossamon brianh...</td>\n",
       "      <td>2.573134</td>\n",
       "      <td>NaN</td>\n",
       "    </tr>\n",
       "    <tr>\n",
       "      <th>11460</th>\n",
       "      <td>7873</td>\n",
       "      <td>Harsh Times</td>\n",
       "      <td>2005</td>\n",
       "      <td>christianbale freddyrodríguez evalongoria davi...</td>\n",
       "      <td>2.247184</td>\n",
       "      <td>NaN</td>\n",
       "    </tr>\n",
       "  </tbody>\n",
       "</table>\n",
       "</div>"
      ],
      "text/plain": [
       "           id               title  year  \\\n",
       "10358    4442  The Brothers Grimm  2005   \n",
       "4110       77             Memento  2000   \n",
       "3642     2024         The Patriot  2000   \n",
       "10158     272       Batman Begins  2005   \n",
       "11399    1124        The Prestige  2006   \n",
       "40201  112767          Shadow Run  1998   \n",
       "5274      320            Insomnia  2002   \n",
       "3633      479               Shaft  2000   \n",
       "4185     9476     A Knight's Tale  2001   \n",
       "11460    7873         Harsh Times  2005   \n",
       "\n",
       "                                                    soup  est_rating  \\\n",
       "10358  heathledger mattdamon mackenziecrook terrygill...    4.888023   \n",
       "4110   guypearce carrie-annemoss joepantoliano christ...    3.710649   \n",
       "3642   melgibson heathledger joelyrichardson rolandem...    3.611728   \n",
       "10158  christianbale michaelcaine liamneeson christop...    3.480677   \n",
       "11399  hughjackman christianbale michaelcaine christo...    3.382837   \n",
       "40201  michaelcaine jamesfox matthewpochin nan nan na...    2.843785   \n",
       "5274   alpacino robinwilliams hilaryswank christopher...    2.779907   \n",
       "3633   samuell.jackson jeffreywright christianbale jo...    2.771131   \n",
       "4185   heathledger rufussewell shannynsossamon brianh...    2.573134   \n",
       "11460  christianbale freddyrodríguez evalongoria davi...    2.247184   \n",
       "\n",
       "       gt_rating  \n",
       "10358        NaN  \n",
       "4110         NaN  \n",
       "3642         NaN  \n",
       "10158        NaN  \n",
       "11399        NaN  \n",
       "40201        NaN  \n",
       "5274         NaN  \n",
       "3633         NaN  \n",
       "4185         NaN  \n",
       "11460        NaN  "
      ]
     },
     "execution_count": 44,
     "metadata": {},
     "output_type": "execute_result"
    }
   ],
   "source": [
    "user_id = 1\n",
    "movie_title = 'The Dark Knight'\n",
    "\n",
    "hybrid_GAT_recommender = HybridFiltering(collaborative_filtering=GAT_recommender)\n",
    "hybrid_GAT_recommender.suggest_similar_movies(user_id, movie_title, 25).head(10)"
   ]
  },
  {
   "cell_type": "code",
   "execution_count": 45,
   "metadata": {
    "ExecuteTime": {
     "end_time": "2024-01-14T18:47:18.987511500Z",
     "start_time": "2024-01-14T18:47:18.961582100Z"
    },
    "collapsed": false
   },
   "outputs": [],
   "source": [
    "# Check training plots running:\n",
    "#   D:\\Internship\\trained_models> tensorboard --logdir=runs"
   ]
  }
 ],
 "metadata": {
  "kernelspec": {
   "display_name": "tf-gpu",
   "language": "python",
   "name": "python3"
  },
  "language_info": {
   "codemirror_mode": {
    "name": "ipython",
    "version": 3
   },
   "file_extension": ".py",
   "mimetype": "text/x-python",
   "name": "python",
   "nbconvert_exporter": "python",
   "pygments_lexer": "ipython3",
   "version": "3.12.3"
  }
 },
 "nbformat": 4,
 "nbformat_minor": 0
}
