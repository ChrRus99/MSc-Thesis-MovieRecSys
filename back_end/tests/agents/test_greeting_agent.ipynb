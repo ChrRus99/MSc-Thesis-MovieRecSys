{
 "cells": [
  {
   "cell_type": "code",
   "execution_count": 1,
   "metadata": {},
   "outputs": [
    {
     "data": {
      "text/plain": [
       "True"
      ]
     },
     "execution_count": 1,
     "metadata": {},
     "output_type": "execute_result"
    }
   ],
   "source": [
    "import os\n",
    "import sys\n",
    "from dotenv import load_dotenv\n",
    "\n",
    "# Add the path to the root directory of the project to the system path\n",
    "ROOT_PATH = \"D:\\\\Internship\"\n",
    "sys.path.append(os.path.join(ROOT_PATH, \"recsys\\\\back_end\"))\n",
    "\n",
    "# Load environment variables from .env file\n",
    "load_dotenv()"
   ]
  },
  {
   "cell_type": "code",
   "execution_count": null,
   "metadata": {},
   "outputs": [],
   "source": [
    "from app.app_graph.state import AppAgentState\n",
    "\n",
    "# Define a dummy state\n",
    "state = AppAgentState(messages=[])\n",
    "state.user_id = \"673db2c7-2f25-473e-8d7f-5315bead3410\""
   ]
  },
  {
   "cell_type": "code",
   "execution_count": 3,
   "metadata": {},
   "outputs": [],
   "source": [
    "from app.agents.greeting_agent import create_greeting_agent\n",
    "from langchain_openai import ChatOpenAI\n",
    "\n",
    "llm = ChatOpenAI(model=\"gpt-4o-mini\", temperature=0)\n",
    "\n",
    "agent_executor = create_greeting_agent(llm=llm, state=state, verbose=True)"
   ]
  },
  {
   "cell_type": "code",
   "execution_count": 4,
   "metadata": {},
   "outputs": [
    {
     "name": "stdout",
     "output_type": "stream",
     "text": [
      "\n",
      "\n",
      "\u001b[1m> Entering new GreetingAgent chain...\u001b[0m\n",
      "\u001b[32;1m\u001b[1;3m```\n",
      "Thought: I need to check if the user is registered. To do that I need to use the adapted tool.\n",
      "Action: CheckUserRegistration\n",
      "Action Input: \n",
      "```\u001b[0mCheckUserRegistration is not a valid tool, try one of [tool_func].\u001b[32;1m\u001b[1;3m```\n",
      "Thought: I need to check if the user is registered. To do that I need to use the correct tool.\n",
      "Action: tool_func\n",
      "Action Input: \n",
      "```\u001b[0m\n",
      "~~~~~~~~~~~~~~~~~~~~~~~~~~~~~~~~~~~~~~~~~~~~~~~~~~~~~~~~~~~~~~~~~~~~~~~~~~~~~~~~~~~~~~~~\n",
      "Modality: DEBUG\n",
      "CALLED TOOL function: \"check_user_registration_tool\"\n",
      "~~~~~~~~~~~~~~~~~~~~~~~~~~~~~~~~~~~~~~~~~~~~~~~~~~~~~~~~~~~~~~~~~~~~~~~~~~~~~~~~~~~~~~~~\n",
      "Prints:\n",
      "\tCalled Tool: [check_user_registration_tool]\n",
      "\tChecking registration status for user ID: 673db2c7-2f25-473e-8d7f-5315bead3410\n",
      "~~~~~~~~~~~~~~~~~~~~~~~~~~~~~~~~~~~~~~~~~~~~~~~~~~~~~~~~~~~~~~~~~~~~~~~~~~~~~~~~~~~~~~~~\n",
      "\n",
      "\u001b[36;1m\u001b[1;3mUser 673db2c7-2f25-473e-8d7f-5315bead3410 is not registered.\u001b[0m\u001b[32;1m\u001b[1;3mI have the registration status and can now respond to the user.\n",
      "Final Answer: ```json\n",
      "{\n",
      "  \"messages\": [\"Hi there! Looks like you're new. Please sign up to get started.\"],\n",
      "  \"route\": \"sign_up\"\n",
      "}\n",
      "```\u001b[0m\n",
      "\n",
      "\u001b[1m> Finished chain.\u001b[0m\n"
     ]
    }
   ],
   "source": [
    "from langchain.schema import AIMessage, HumanMessage\n",
    "\n",
    "original_query = \"Hi\"\n",
    "chat_history = []\n",
    "# agent_scratchpad is handled internally by the AgentExecutor for ReAct agents.\n",
    "result = await agent_executor.ainvoke({\n",
    "    \"input\": HumanMessage(content=original_query),\n",
    "    \"chat_history\": chat_history\n",
    "})"
   ]
  },
  {
   "cell_type": "code",
   "execution_count": 5,
   "metadata": {},
   "outputs": [
    {
     "name": "stdout",
     "output_type": "stream",
     "text": [
      "{'input': HumanMessage(content='Hi', additional_kwargs={}, response_metadata={}), 'chat_history': [], 'output': '```json\\n{\\n  \"messages\": [\"Hi there! Looks like you\\'re new. Please sign up to get started.\"],\\n  \"route\": \"sign_up\"\\n}\\n```', 'intermediate_steps': [(AgentAction(tool='CheckUserRegistration', tool_input='```', log='```\\nThought: I need to check if the user is registered. To do that I need to use the adapted tool.\\nAction: CheckUserRegistration\\nAction Input: \\n```'), 'CheckUserRegistration is not a valid tool, try one of [tool_func].'), (AgentAction(tool='tool_func', tool_input='```', log='```\\nThought: I need to check if the user is registered. To do that I need to use the correct tool.\\nAction: tool_func\\nAction Input: \\n```'), 'User 673db2c7-2f25-473e-8d7f-5315bead3410 is not registered.')]}\n"
     ]
    }
   ],
   "source": [
    "print(result)"
   ]
  },
  {
   "cell_type": "code",
   "execution_count": 6,
   "metadata": {},
   "outputs": [
    {
     "data": {
      "text/plain": [
       "{'messages': [AIMessage(content=\"Hi there! Looks like you're new. Please sign up to get started.\", additional_kwargs={}, response_metadata={})],\n",
       " 'route': 'sign_up'}"
      ]
     },
     "execution_count": 6,
     "metadata": {},
     "output_type": "execute_result"
    }
   ],
   "source": [
    "from app.agents.utils import format_agent_structured_output\n",
    "\n",
    "format_agent_structured_output(result[\"output\"])"
   ]
  }
 ],
 "metadata": {
  "kernelspec": {
   "display_name": "tf-gpu",
   "language": "python",
   "name": "python3"
  },
  "language_info": {
   "codemirror_mode": {
    "name": "ipython",
    "version": 3
   },
   "file_extension": ".py",
   "mimetype": "text/x-python",
   "name": "python",
   "nbconvert_exporter": "python",
   "pygments_lexer": "ipython3",
   "version": "3.12.3"
  }
 },
 "nbformat": 4,
 "nbformat_minor": 2
}
