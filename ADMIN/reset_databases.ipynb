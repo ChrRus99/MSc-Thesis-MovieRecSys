{
 "cells": [
  {
   "cell_type": "markdown",
   "metadata": {},
   "source": [
    "# ADMIN Control Pannel\n",
    "This notebook contains operations for:\n",
    "- Resetting user's databases\n",
    "- Generating synthetic user data for test purposes\n",
    "- ..."
   ]
  },
  {
   "cell_type": "code",
   "execution_count": 1,
   "metadata": {},
   "outputs": [],
   "source": [
    "import sys\n",
    "\n",
    "# Set the path to the directory containing the project\n",
    "sys.path.append('D:\\\\Internship\\\\recsys\\\\db_handlers')\n",
    "\n",
    "RESET_DATABASES = True\n",
    "DROP_DATABASES = True"
   ]
  },
  {
   "cell_type": "code",
   "execution_count": 2,
   "metadata": {},
   "outputs": [
    {
     "name": "stderr",
     "output_type": "stream",
     "text": [
      "c:\\Users\\Public\\anaconda3\\envs\\tf-gpu\\Lib\\site-packages\\airflow\\__init__.py:36: RuntimeWarning: Airflow currently can be run on POSIX-compliant Operating Systems. For development, it is regularly tested on fairly modern Linux Distros and recent versions of macOS. On Windows you can run it via WSL2 (Windows Subsystem for Linux 2) or via Linux Containers. The work to add Windows support is tracked via https://github.com/apache/airflow/issues/10388, but it is not a high priority.\n",
      "  warnings.warn(\n",
      "OSError while attempting to symlink the latest log directory\n"
     ]
    },
    {
     "name": "stdout",
     "output_type": "stream",
     "text": [
      "[LOG] Detected local environment, with Docker: [False]\n",
      "[LOG] Detected local environment, with Docker: [False]\n",
      "[LOG] Detected local environment, with Docker: [False]\n",
      "[LOG] Detected local environment, with Docker: [False]\n",
      "[LOG] Detected local environment, with Docker: [False]\n"
     ]
    }
   ],
   "source": [
    "from db_handlers.movie_cast_and_crew_postgres_sql_db_handler import (\n",
    "    reset_movie_cast_and_crew_tables,\n",
    "    drop_movie_cast_and_crew_tables,\n",
    ")\n",
    "from db_handlers.user_postgres_sql_db_handler import (\n",
    "    reset_user_tables,\n",
    "    drop_user_tables,\n",
    ")\n",
    "from db_handlers.user_mongodb_nosql_db_handler import (\n",
    "    reset_user_collections,\n",
    "    drop_user_collections,\n",
    ")\n",
    "from db_handlers.trained_models_minio_storage_db_handler import (\n",
    "    reset_buckets,\n",
    "    drop_buckets,\n",
    ")\n",
    "from db_handlers.user_movie_hbase_table_db_handler import (\n",
    "    reset_user_movie_ratings_table,\n",
    "    drop_user_movie_ratings_table,\n",
    ")"
   ]
  },
  {
   "cell_type": "markdown",
   "metadata": {},
   "source": [
    "## Reset/Drop databases"
   ]
  },
  {
   "cell_type": "code",
   "execution_count": 3,
   "metadata": {},
   "outputs": [
    {
     "name": "stdout",
     "output_type": "stream",
     "text": [
      "[LOG] Tables 'movies_metadata' and 'cast_and_crew' reset successfully.\n",
      "[LOG] Table 'user_register' reset successfully.\n",
      "[LOG] Collections 'user_movie_ratings' and 'user_preferences' reset successfully.\n",
      "[LOG] Bucket 'initial-model' has been emptied.\n",
      "[LOG] Bucket 'offline-updated-models' has been emptied.\n",
      "[LOG] Bucket 'online-updated-user-models' has been emptied.\n",
      "[ERROR] Table 'user_movie_ratings' does not exist.\n",
      "[LOG] Table 'user_movie_ratings' created successfully.\n"
     ]
    }
   ],
   "source": [
    "if RESET_DATABASES:\n",
    "    reset_movie_cast_and_crew_tables()\n",
    "    reset_user_tables()\n",
    "    reset_user_collections()\n",
    "    reset_buckets()\n",
    "    reset_user_movie_ratings_table()"
   ]
  },
  {
   "cell_type": "code",
   "execution_count": 4,
   "metadata": {},
   "outputs": [
    {
     "name": "stdout",
     "output_type": "stream",
     "text": [
      "[LOG] Tables 'cast_and_crew' and 'movies_metadata' dropped successfully.\n",
      "[LOG] Tables 'user_register' dropped successfully.\n",
      "[LOG] Collections 'user_movie_ratings' and 'user_preferences' dropped successfully.\n",
      "[LOG] Bucket 'initial-model' and its contents deleted.\n",
      "[LOG] Bucket 'offline-updated-models' and its contents deleted.\n",
      "[LOG] Bucket 'online-updated-user-models' and its contents deleted.\n",
      "[LOG] Table 'user_movie_ratings' dropped.\n"
     ]
    }
   ],
   "source": [
    "if DROP_DATABASES:\n",
    "    drop_movie_cast_and_crew_tables()\n",
    "    drop_user_tables()\n",
    "    drop_user_collections()\n",
    "    drop_buckets()\n",
    "    drop_user_movie_ratings_table()"
   ]
  }
 ],
 "metadata": {
  "kernelspec": {
   "display_name": "tf-gpu",
   "language": "python",
   "name": "python3"
  },
  "language_info": {
   "codemirror_mode": {
    "name": "ipython",
    "version": 3
   },
   "file_extension": ".py",
   "mimetype": "text/x-python",
   "name": "python",
   "nbconvert_exporter": "python",
   "pygments_lexer": "ipython3",
   "version": "3.12.3"
  }
 },
 "nbformat": 4,
 "nbformat_minor": 2
}
