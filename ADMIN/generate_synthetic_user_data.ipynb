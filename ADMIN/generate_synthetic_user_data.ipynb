{
 "cells": [
  {
   "cell_type": "markdown",
   "metadata": {},
   "source": [
    "# ADMIN Control Pannel\n",
    "This notebook contains operations for:\n",
    "- Resetting user's databases\n",
    "- Generating synthetic user data for test purposes\n",
    "- ..."
   ]
  },
  {
   "cell_type": "code",
   "execution_count": 51,
   "metadata": {},
   "outputs": [],
   "source": [
    "import sys\n",
    "import os\n",
    "from dotenv import load_dotenv\n",
    "\n",
    "# Set the path to the directory containing the project\n",
    "sys.path.append('D:\\\\Internship\\\\recsys\\\\movie_recommendation_system\\\\src')\n",
    "sys.path.append('D:\\\\Internship\\\\recsys\\\\db_handlers')\n",
    "sys.path.append('D:\\\\Internship\\\\recsys\\\\microservices')\n",
    "\n",
    "# Load environment variables from .env file\n",
    "load_dotenv()\n",
    "\n",
    "# Set the base URL for the API\n",
    "BASE_URL = \"http://localhost:\" + os.getenv(\"USER_MICROSERVICE_PORT\")"
   ]
  },
  {
   "cell_type": "code",
   "execution_count": 52,
   "metadata": {},
   "outputs": [],
   "source": [
    "from utils import *\n",
    "\n",
    "from movie_recommender.data.tabular_dataset_handler import TabularDatasetHandler\n",
    "\n",
    "from db_handlers.user_postgres_sql_db_handler import (\n",
    "    reset_user_tables,\n",
    "    store_new_user\n",
    ")\n",
    "from db_handlers.user_mongodb_nosql_db_handler import (\n",
    "    reset_user_collections,\n",
    "    store_user_movie_rating,\n",
    "    store_user_preference,\n",
    ")"
   ]
  },
  {
   "cell_type": "markdown",
   "metadata": {},
   "source": [
    "## Clear user's databases"
   ]
  },
  {
   "cell_type": "code",
   "execution_count": 53,
   "metadata": {},
   "outputs": [
    {
     "name": "stdout",
     "output_type": "stream",
     "text": [
      "[LOG] Tables 'user_register' and 'user_model_lookup' reset successfully.\n",
      "[LOG] Collections 'user_movie_ratings' and 'user_preferences' reset successfully.\n"
     ]
    }
   ],
   "source": [
    "reset_user_tables()\n",
    "reset_user_collections()"
   ]
  },
  {
   "cell_type": "markdown",
   "metadata": {},
   "source": [
    "## Check whether titles are present in 'movies_df' "
   ]
  },
  {
   "cell_type": "code",
   "execution_count": 54,
   "metadata": {},
   "outputs": [],
   "source": [
    "# Retrieve the movies_df DataFrame\n",
    "tdh_filepath = \"D:\\\\Internship\\\\recsys\\\\data\\\\movielens_processed\\\\tdh_instance.pkl\"\n",
    "tdh = TabularDatasetHandler.load_class_instance(tdh_filepath)"
   ]
  },
  {
   "cell_type": "code",
   "execution_count": 55,
   "metadata": {},
   "outputs": [],
   "source": [
    "# Get the movies_df DataFrame\n",
    "movies_df = tdh.get_movies_df_deepcopy()"
   ]
  },
  {
   "cell_type": "code",
   "execution_count": 56,
   "metadata": {},
   "outputs": [
    {
     "data": {
      "text/html": [
       "<div>\n",
       "<style scoped>\n",
       "    .dataframe tbody tr th:only-of-type {\n",
       "        vertical-align: middle;\n",
       "    }\n",
       "\n",
       "    .dataframe tbody tr th {\n",
       "        vertical-align: top;\n",
       "    }\n",
       "\n",
       "    .dataframe thead th {\n",
       "        text-align: right;\n",
       "    }\n",
       "</style>\n",
       "<table border=\"1\" class=\"dataframe\">\n",
       "  <thead>\n",
       "    <tr style=\"text-align: right;\">\n",
       "      <th></th>\n",
       "      <th>id</th>\n",
       "      <th>original_title</th>\n",
       "      <th>title</th>\n",
       "      <th>year</th>\n",
       "    </tr>\n",
       "  </thead>\n",
       "  <tbody>\n",
       "    <tr>\n",
       "      <th>24876</th>\n",
       "      <td>41077</td>\n",
       "      <td>Fehérlófia</td>\n",
       "      <td>Son of the White Mare</td>\n",
       "      <td>1981</td>\n",
       "    </tr>\n",
       "    <tr>\n",
       "      <th>13875</th>\n",
       "      <td>47104</td>\n",
       "      <td>زیر درختان زیتون</td>\n",
       "      <td>Through the Olive Trees</td>\n",
       "      <td>1994</td>\n",
       "    </tr>\n",
       "    <tr>\n",
       "      <th>41135</th>\n",
       "      <td>296344</td>\n",
       "      <td>Πολυτεχνίτης και Ερημοσπίτης</td>\n",
       "      <td>Politexnitis and Erimospitis</td>\n",
       "      <td>1963</td>\n",
       "    </tr>\n",
       "    <tr>\n",
       "      <th>31217</th>\n",
       "      <td>301368</td>\n",
       "      <td>Spilt Milk</td>\n",
       "      <td>Spilt Milk</td>\n",
       "      <td>2011</td>\n",
       "    </tr>\n",
       "    <tr>\n",
       "      <th>22572</th>\n",
       "      <td>255576</td>\n",
       "      <td>Yanco</td>\n",
       "      <td>Yanco</td>\n",
       "      <td>1961</td>\n",
       "    </tr>\n",
       "    <tr>\n",
       "      <th>11771</th>\n",
       "      <td>13067</td>\n",
       "      <td>In the Land of Women</td>\n",
       "      <td>In the Land of Women</td>\n",
       "      <td>2007</td>\n",
       "    </tr>\n",
       "    <tr>\n",
       "      <th>43936</th>\n",
       "      <td>111913</td>\n",
       "      <td>A2</td>\n",
       "      <td>A2</td>\n",
       "      <td>2001</td>\n",
       "    </tr>\n",
       "    <tr>\n",
       "      <th>17190</th>\n",
       "      <td>83345</td>\n",
       "      <td>La Mosquitera</td>\n",
       "      <td>The Mosquito Net</td>\n",
       "      <td>2010</td>\n",
       "    </tr>\n",
       "    <tr>\n",
       "      <th>3518</th>\n",
       "      <td>28973</td>\n",
       "      <td>A King in New York</td>\n",
       "      <td>A King in New York</td>\n",
       "      <td>1957</td>\n",
       "    </tr>\n",
       "    <tr>\n",
       "      <th>41846</th>\n",
       "      <td>318794</td>\n",
       "      <td>Vehshi Jatt</td>\n",
       "      <td>Vehshi Jatt</td>\n",
       "      <td>1975</td>\n",
       "    </tr>\n",
       "  </tbody>\n",
       "</table>\n",
       "</div>"
      ],
      "text/plain": [
       "           id                original_title                         title  \\\n",
       "24876   41077                    Fehérlófia         Son of the White Mare   \n",
       "13875   47104              زیر درختان زیتون       Through the Olive Trees   \n",
       "41135  296344  Πολυτεχνίτης και Ερημοσπίτης  Politexnitis and Erimospitis   \n",
       "31217  301368                    Spilt Milk                    Spilt Milk   \n",
       "22572  255576                         Yanco                         Yanco   \n",
       "11771   13067          In the Land of Women          In the Land of Women   \n",
       "43936  111913                            A2                            A2   \n",
       "17190   83345                 La Mosquitera              The Mosquito Net   \n",
       "3518    28973            A King in New York            A King in New York   \n",
       "41846  318794                   Vehshi Jatt                   Vehshi Jatt   \n",
       "\n",
       "       year  \n",
       "24876  1981  \n",
       "13875  1994  \n",
       "41135  1963  \n",
       "31217  2011  \n",
       "22572  1961  \n",
       "11771  2007  \n",
       "43936  2001  \n",
       "17190  2010  \n",
       "3518   1957  \n",
       "41846  1975  "
      ]
     },
     "execution_count": 56,
     "metadata": {},
     "output_type": "execute_result"
    }
   ],
   "source": [
    "# Sample 10 random movies from the movies_df DataFrame\n",
    "movies_df.sample(10)[[\"id\", \"original_title\", \"title\", \"year\"]]"
   ]
  },
  {
   "cell_type": "code",
   "execution_count": 57,
   "metadata": {},
   "outputs": [],
   "source": [
    "# List of rated movies\n",
    "movies_list = [\n",
    "    {\"title\": \"Top Gun\", \"rating\": 5},\n",
    "    {\"title\": \"Titanic\", \"rating\": 4.5},\n",
    "    {\"title\": \"Jumanji\", \"rating\": 4.5},\n",
    "    {\"title\": \"Toy Story\", \"rating\": 3.5},\n",
    "    {\"title\": \"Pulp Fiction\", \"rating\": 2},\n",
    "    # {\"title\": \"Pirates of the Caribbean: The Curse of the Black Pearl\", \"rating\": 4},\n",
    "    # {\"title\": \"The Lord of the Rings: The Fellowship of the Ring\", \"rating\": 5},\n",
    "    # {\"title\": \"The Lord of the Rings: The Two Towers\", \"rating\": 5},\n",
    "    # {\"title\": \"The Lord of the Rings: The Return of the King\", \"rating\": 5},\n",
    "    # {\"title\": \"The Hobbit: An Unexpected Journey\", \"rating\": 5},\n",
    "    # {\"title\": \"The Hobbit: The Desolation of Smaug\", \"rating\": 5},\n",
    "    # {\"title\": \"The Hobbit: The Battle of the Five Armies\", \"rating\": 5},\n",
    "    # {\"title\": \"The Notebook\", \"rating\": 3.5},\n",
    "    # {\"title\": \"Mean Girls\", \"rating\": 3.5},\n",
    "    # {\"title\": \"The Social Network\", \"rating\": 4.5},\n",
    "    # {\"title\": \"Grease\", \"rating\": 2},\n",
    "    # {\"title\": \"Rocky\", \"rating\": 3.5},\n",
    "    # {\"title\": \"La La Land\", \"rating\": 1.5},\n",
    "    # {\"title\": \"Dirty Dancing\", \"rating\": 2.5},\n",
    "]"
   ]
  },
  {
   "cell_type": "code",
   "execution_count": 58,
   "metadata": {},
   "outputs": [],
   "source": [
    "# for movie in movies_list:\n",
    "#     print(is_title_present(movies_df, movie[\"title\"]))"
   ]
  },
  {
   "cell_type": "markdown",
   "metadata": {},
   "source": [
    "## Generate user synthetic data (for tests purposes)"
   ]
  },
  {
   "cell_type": "code",
   "execution_count": 59,
   "metadata": {},
   "outputs": [
    {
     "name": "stdout",
     "output_type": "stream",
     "text": [
      "[LOG] Assigned new model ID 1000 to user bdd62e39-8999-468b-be8a-c36277a93bdc in 'user_model_lookup' table.\n",
      "[LOG] New user bdd62e39-8999-468b-be8a-c36277a93bdc stored successfully in 'user_register' table\n"
     ]
    }
   ],
   "source": [
    "import uuid\n",
    "\n",
    "# Create a new test user\n",
    "user_id = \"bdd62e39-8999-468b-be8a-c36277a93bdc\" #str(uuid.uuid4())\n",
    "user_name = \"Christian Francesco\"\n",
    "user_surname = \"Russo\"\n",
    "user_email = \"rus.chr.20499@gmail.com\"\n",
    "\n",
    "# Store the new user in the PostgreSQL database\n",
    "store_new_user(user_id, user_name, user_surname, user_email) "
   ]
  },
  {
   "cell_type": "code",
   "execution_count": 60,
   "metadata": {},
   "outputs": [
    {
     "name": "stdout",
     "output_type": "stream",
     "text": [
      "[LOG] New user rating stored successfully in 'user_movie_ratings' collection.\n",
      "[LOG] New user rating stored successfully in 'user_movie_ratings' collection.\n",
      "[LOG] New user rating stored successfully in 'user_movie_ratings' collection.\n",
      "[LOG] New user rating stored successfully in 'user_movie_ratings' collection.\n",
      "[LOG] New user rating stored successfully in 'user_movie_ratings' collection.\n"
     ]
    }
   ],
   "source": [
    "# Add the ratings to the user's profile\n",
    "for movie in movies_list:\n",
    "    store_user_movie_rating(\n",
    "        user_id=user_id,\n",
    "        movie_id=int(movies_df[movies_df[\"title\"] == movie[\"title\"]][\"id\"].values[0]),\n",
    "        rating=movie[\"rating\"]\n",
    "    )"
   ]
  },
  {
   "cell_type": "code",
   "execution_count": null,
   "metadata": {},
   "outputs": [],
   "source": []
  }
 ],
 "metadata": {
  "kernelspec": {
   "display_name": "tf-gpu",
   "language": "python",
   "name": "python3"
  },
  "language_info": {
   "codemirror_mode": {
    "name": "ipython",
    "version": 3
   },
   "file_extension": ".py",
   "mimetype": "text/x-python",
   "name": "python",
   "nbconvert_exporter": "python",
   "pygments_lexer": "ipython3",
   "version": "3.12.3"
  }
 },
 "nbformat": 4,
 "nbformat_minor": 2
}
