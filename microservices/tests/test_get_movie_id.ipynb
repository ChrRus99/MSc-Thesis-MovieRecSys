{
 "cells": [
  {
   "cell_type": "markdown",
   "id": "bc031f8c",
   "metadata": {},
   "source": [
    "# Test `_get_movie_id_from_title` Function\n",
    "\n",
    "This notebook tests the `_get_movie_id_from_title` function from the user info microservice (`service.py`). It loads the necessary data and runs several test cases."
   ]
  },
  {
   "cell_type": "code",
   "execution_count": 1,
   "id": "b074d2c8",
   "metadata": {},
   "outputs": [
    {
     "name": "stdout",
     "output_type": "stream",
     "text": [
      "[INFO] Running locally\n"
     ]
    },
    {
     "name": "stderr",
     "output_type": "stream",
     "text": [
      "c:\\Users\\Public\\anaconda3\\envs\\tf-gpu\\Lib\\site-packages\\airflow\\__init__.py:36: RuntimeWarning: Airflow currently can be run on POSIX-compliant Operating Systems. For development, it is regularly tested on fairly modern Linux Distros and recent versions of macOS. On Windows you can run it via WSL2 (Windows Subsystem for Linux 2) or via Linux Containers. The work to add Windows support is tracked via https://github.com/apache/airflow/issues/10388, but it is not a high priority.\n",
      "  warnings.warn(\n",
      "OSError while attempting to symlink the latest log directory\n",
      "OSError while attempting to symlink the latest log directory\n"
     ]
    },
    {
     "name": "stdout",
     "output_type": "stream",
     "text": [
      "[LOG] Detected local environment, with Docker: [False]\n",
      "[LOG] Detected local environment, with Docker: [False]\n",
      "Loaded movies_df with 45433 entries.\n",
      "Loaded movies_df with 45433 entries.\n"
     ]
    }
   ],
   "source": [
    "import os\n",
    "import sys\n",
    "from pathlib import Path\n",
    "import pandas as pd\n",
    "import difflib\n",
    "\n",
    "sys.path.append(\"D:\\\\Internship\\\\recsys\\\\microservices\\\\microservices\")\n",
    "from user_info.service import _get_movie_id_from_title, movies_df"
   ]
  },
  {
   "cell_type": "markdown",
   "id": "ad82158f",
   "metadata": {},
   "source": [
    "## Test Cases"
   ]
  },
  {
   "cell_type": "code",
   "execution_count": null,
   "id": "6901210b",
   "metadata": {},
   "outputs": [
    {
     "name": "stdout",
     "output_type": "stream",
     "text": [
      "Exact Match Test ('Titanic'): Found movie_id = 597\n",
      "Matched Row:\n",
      "adult                                                                False\n",
      "belongs_to_collection                                                 None\n",
      "budget                                                           200000000\n",
      "genres                                          [Drama, Romance, Thriller]\n",
      "homepage                                       http://www.titanicmovie.com\n",
      "id                                                                     597\n",
      "original_language                                                       en\n",
      "original_title                                                     Titanic\n",
      "overview                 84 years later, a 101-year-old woman named Ros...\n",
      "popularity                                                        26.88907\n",
      "production_companies     [Paramount Pictures, Twentieth Century Fox Fil...\n",
      "production_countries                            [United States of America]\n",
      "release_date                                                    1997-11-18\n",
      "revenue                                                       1845034188.0\n",
      "runtime                                                              194.0\n",
      "spoken_languages         [English, Français, Deutsch, svenska, Italiano...\n",
      "status                                                            Released\n",
      "tagline                          Nothing on Earth could come between them.\n",
      "title                                                              Titanic\n",
      "vote_average                                                           7.5\n",
      "vote_count                                                          7770.0\n",
      "year                                                                  1997\n",
      "title_norm                                                         titanic\n",
      "Name: 1639, dtype: object\n"
     ]
    }
   ],
   "source": [
    "# Test Case 1: Exact Match (assuming 'Toy Story (1995)' exists)\n",
    "test_title_exact = \"Toy Story\" # Updated title to include year\n",
    "try:\n",
    "    movie_id = _get_movie_id_from_title(test_title_exact)\n",
    "    matched_row = movies_df[movies_df['id'].astype(str) == str(movie_id)].iloc[0]\n",
    "    print(f\"Exact Match Test ('{test_title_exact}'): Found movie_id = {movie_id}\")\n",
    "    print(\"Matched Row:\")\n",
    "    print(matched_row)\n",
    "except Exception as e:\n",
    "    print(f\"Exact Match Test ('{test_title_exact}'): Error - {e}\")"
   ]
  },
  {
   "cell_type": "code",
   "execution_count": 3,
   "id": "21f732e7",
   "metadata": {},
   "outputs": [
    {
     "name": "stdout",
     "output_type": "stream",
     "text": [
      "Fuzzy Match Test ('Toy Stary'): Found movie_id = 862\n",
      "Matched Row:\n",
      "adult                                                                False\n",
      "belongs_to_collection                                 Toy Story Collection\n",
      "budget                                                            30000000\n",
      "genres                                         [Animation, Comedy, Family]\n",
      "homepage                              http://toystory.disney.com/toy-story\n",
      "id                                                                     862\n",
      "original_language                                                       en\n",
      "original_title                                                   Toy Story\n",
      "overview                 Led by Woody, Andy's toys live happily in his ...\n",
      "popularity                                                       21.946943\n",
      "production_companies                             [Pixar Animation Studios]\n",
      "production_countries                            [United States of America]\n",
      "release_date                                                    1995-10-30\n",
      "revenue                                                        373554033.0\n",
      "runtime                                                               81.0\n",
      "spoken_languages                                                 [English]\n",
      "status                                                            Released\n",
      "tagline                                                                NaN\n",
      "title                                                            Toy Story\n",
      "vote_average                                                           7.7\n",
      "vote_count                                                          5415.0\n",
      "year                                                                  1995\n",
      "title_norm                                                       toy story\n",
      "Name: 0, dtype: object\n"
     ]
    }
   ],
   "source": [
    "# Test Case 2: Fuzzy Match (e.g., slight typo or variation)\n",
    "test_title_fuzzy = \"Toy Stary\" # Intentional typo, updated title\n",
    "try:\n",
    "    movie_id = _get_movie_id_from_title(test_title_fuzzy)\n",
    "    matched_row = movies_df[movies_df['id'].astype(str) == str(movie_id)].iloc[0]\n",
    "    print(f\"Fuzzy Match Test ('{test_title_fuzzy}'): Found movie_id = {movie_id}\")\n",
    "    print(\"Matched Row:\")\n",
    "    print(matched_row)\n",
    "except Exception as e:\n",
    "    print(f\"Fuzzy Match Test ('{test_title_fuzzy}'): Error - {e}\")"
   ]
  },
  {
   "cell_type": "code",
   "execution_count": 4,
   "id": "f7ea5996",
   "metadata": {},
   "outputs": [
    {
     "name": "stdout",
     "output_type": "stream",
     "text": [
      "No Match Test ('This Movie Does Not Exist 12345'): Success - No match found for movie title 'This Movie Does Not Exist 12345'\n"
     ]
    }
   ],
   "source": [
    "# Test Case 3: No Match\n",
    "test_title_no_match = \"This Movie Does Not Exist 12345\"\n",
    "try:\n",
    "    movie_id = _get_movie_id_from_title(test_title_no_match)\n",
    "    matched_row = movies_df[movies_df['id'].astype(str) == str(movie_id)].iloc[0]\n",
    "    print(f\"No Match Test ('{test_title_no_match}'): Found movie_id = {movie_id} (Unexpected!)\")\n",
    "    print(\"Matched Row:\")\n",
    "    print(matched_row)\n",
    "except ValueError as e:\n",
    "    print(f\"No Match Test ('{test_title_no_match}'): Success - {e}\")\n",
    "except Exception as e:\n",
    "    print(f\"No Match Test ('{test_title_no_match}'): Error - {e}\")"
   ]
  },
  {
   "cell_type": "code",
   "execution_count": 5,
   "id": "36328401",
   "metadata": {},
   "outputs": [
    {
     "name": "stdout",
     "output_type": "stream",
     "text": [
      "Case/Whitespace Test ('  tOy sToRy   '): Found movie_id = 862\n",
      "Matched Row:\n",
      "adult                                                                False\n",
      "belongs_to_collection                                 Toy Story Collection\n",
      "budget                                                            30000000\n",
      "genres                                         [Animation, Comedy, Family]\n",
      "homepage                              http://toystory.disney.com/toy-story\n",
      "id                                                                     862\n",
      "original_language                                                       en\n",
      "original_title                                                   Toy Story\n",
      "overview                 Led by Woody, Andy's toys live happily in his ...\n",
      "popularity                                                       21.946943\n",
      "production_companies                             [Pixar Animation Studios]\n",
      "production_countries                            [United States of America]\n",
      "release_date                                                    1995-10-30\n",
      "revenue                                                        373554033.0\n",
      "runtime                                                               81.0\n",
      "spoken_languages                                                 [English]\n",
      "status                                                            Released\n",
      "tagline                                                                NaN\n",
      "title                                                            Toy Story\n",
      "vote_average                                                           7.7\n",
      "vote_count                                                          5415.0\n",
      "year                                                                  1995\n",
      "title_norm                                                       toy story\n",
      "Name: 0, dtype: object\n"
     ]
    }
   ],
   "source": [
    "# Test Case 4: Case Insensitivity and Whitespace\n",
    "test_title_case = \"  tOy sToRy   \"\n",
    "try:\n",
    "    movie_id = _get_movie_id_from_title(test_title_case)\n",
    "    matched_row = movies_df[movies_df['id'].astype(str) == str(movie_id)].iloc[0]\n",
    "    print(f\"Case/Whitespace Test ('{test_title_case}'): Found movie_id = {movie_id}\")\n",
    "    print(\"Matched Row:\")\n",
    "    print(matched_row)\n",
    "except Exception as e:\n",
    "    print(f\"Case/Whitespace Test ('{test_title_case}'): Error - {e}\")"
   ]
  },
  {
   "cell_type": "code",
   "execution_count": 6,
   "id": "d66569ed",
   "metadata": {},
   "outputs": [
    {
     "name": "stdout",
     "output_type": "stream",
     "text": [
      "Skipping Ambiguous Test - Requires specific data setup.\n"
     ]
    }
   ],
   "source": [
    "# Test Case 5: Ambiguous Title (if data contains duplicates or very similar titles)\n",
    "# Example: If 'Hamlet' exists multiple times with different years/IDs\n",
    "# test_title_ambiguous = \"Hamlet\"\n",
    "# try:\n",
    "#     movie_id = _get_movie_id_from_title(test_title_ambiguous)\n",
    "#     matched_row = movies_df[movies_df['id'].astype(str) == str(movie_id)].iloc[0]\n",
    "#     print(f\"Ambiguous Test ('{test_title_ambiguous}'): Found movie_id = {movie_id} (Unexpected!)\")\n",
    "#     print(\"Matched Row:\")\n",
    "#     print(matched_row)\n",
    "# except ValueError as e:\n",
    "#     print(f\"Ambiguous Test ('{test_title_ambiguous}'): Success - {e}\")\n",
    "# except Exception as e:\n",
    "#     print(f\"Ambiguous Test ('{test_title_ambiguous}'): Error - {e}\")\n",
    "print(\"Skipping Ambiguous Test - Requires specific data setup.\")"
   ]
  }
 ],
 "metadata": {
  "kernelspec": {
   "display_name": "tf-gpu",
   "language": "python",
   "name": "python3"
  },
  "language_info": {
   "codemirror_mode": {
    "name": "ipython",
    "version": 3
   },
   "file_extension": ".py",
   "mimetype": "text/x-python",
   "name": "python",
   "nbconvert_exporter": "python",
   "pygments_lexer": "ipython3",
   "version": "3.12.3"
  }
 },
 "nbformat": 4,
 "nbformat_minor": 5
}
