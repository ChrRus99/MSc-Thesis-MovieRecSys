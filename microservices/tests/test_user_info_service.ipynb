{
 "cells": [
  {
   "cell_type": "markdown",
   "metadata": {},
   "source": [
    "# User-info Service API tests\n",
    "\n",
    "This notebook contains tests for the User-Info Service API endpoints defined in `user_info/service.py`."
   ]
  },
  {
   "cell_type": "code",
   "execution_count": 1,
   "metadata": {},
   "outputs": [],
   "source": [
    "import sys\n",
    "import os\n",
    "import uuid\n",
    "import requests\n",
    "import json\n",
    "import time\n",
    "from dotenv import load_dotenv\n",
    "from pathlib import Path\n",
    "\n",
    "# Dynamically find the project root\n",
    "project_root = Path(os.getcwd()).resolve().parents[1]\n",
    "dotenv_path = project_root / \".env\"  # Path to .env\n",
    "\n",
    "# Load environment variables from .env file\n",
    "load_dotenv(dotenv_path)\n",
    "\n",
    "# Set the base URL for the API\n",
    "BASE_URL = \"http://localhost:\" + os.getenv(\"USER_MICROSERVICE_PORT\")"
   ]
  },
  {
   "cell_type": "markdown",
   "metadata": {},
   "source": [
    "## Helper Functions"
   ]
  },
  {
   "cell_type": "code",
   "execution_count": 2,
   "metadata": {},
   "outputs": [],
   "source": [
    "def print_response(response):\n",
    "    \"\"\"Print the response status code and content\"\"\"\n",
    "    print(f\"Status Code: {response.status_code}\")\n",
    "    try:\n",
    "        print(f\"Response: {json.dumps(response.json(), indent=2)}\")\n",
    "    except:\n",
    "        print(f\"Response: {response.text}\")"
   ]
  },
  {
   "cell_type": "code",
   "execution_count": 3,
   "metadata": {},
   "outputs": [],
   "source": [
    "from pydantic import BaseModel\n",
    "from typing import Tuple, List\n",
    "\n",
    "class UserMovieRatings(BaseModel):\n",
    "    ratings: List[Tuple[str, str, float, int]]\n",
    "\n",
    "class UserPreferences(BaseModel):\n",
    "    preferences: List[Tuple[str, str, int]]"
   ]
  },
  {
   "cell_type": "markdown",
   "metadata": {},
   "source": [
    "## Test user creation and retrieval"
   ]
  },
  {
   "cell_type": "code",
   "execution_count": 4,
   "metadata": {},
   "outputs": [
    {
     "name": "stdout",
     "output_type": "stream",
     "text": [
      "Creating user with ID: 7772d881-3a14-4741-a102-3d57398e7e9d\n",
      "Status Code: 200\n",
      "Response: {\n",
      "  \"user_id\": \"7772d881-3a14-4741-a102-3d57398e7e9d\"\n",
      "}\n",
      "Created user with ID: 7772d881-3a14-4741-a102-3d57398e7e9d\n"
     ]
    }
   ],
   "source": [
    "def test_create_user():\n",
    "    \"\"\"Test creating a new user\"\"\"\n",
    "    user_id = '7772d881-3a14-4741-a102-3d57398e7e9d' # Use the predefined user ID\n",
    "    print(f\"Creating user with ID: {user_id}\")\n",
    "\n",
    "    user_data = {\n",
    "        \"user_id\": user_id,\n",
    "        \"first_name\": \"Test\",\n",
    "        \"last_name\": \"User\",\n",
    "        \"email\": f\"test{user_id}@example.com\"\n",
    "    }\n",
    "    \n",
    "    response = requests.post(f\"{BASE_URL}/users\", json=user_data)\n",
    "    print_response(response)\n",
    "    \n",
    "    assert response.status_code == 200, \"Failed to create user\"\n",
    "    assert \"user_id\" in response.json(), \"Response doesn't contain user_id\"\n",
    "    \n",
    "    return response.json()[\"user_id\"]\n",
    "\n",
    "# Execute test\n",
    "user_id = test_create_user()\n",
    "print(f\"Created user with ID: {user_id}\")"
   ]
  },
  {
   "cell_type": "code",
   "execution_count": 5,
   "metadata": {},
   "outputs": [
    {
     "name": "stdout",
     "output_type": "stream",
     "text": [
      "Status Code: 200\n",
      "Response: {\n",
      "  \"exists\": true\n",
      "}\n"
     ]
    }
   ],
   "source": [
    "def test_user_exists(user_id):\n",
    "    \"\"\"Test checking if a user exists\"\"\"\n",
    "    response = requests.get(f\"{BASE_URL}/users/{user_id}/exists\")\n",
    "    print_response(response)\n",
    "    \n",
    "    assert response.status_code == 200, \"Failed to check if user exists\"\n",
    "    assert \"exists\" in response.json(), \"Response doesn't contain 'exists' field\"\n",
    "    assert response.json()[\"exists\"] is True, \"User should exist but 'exists' is False\"\n",
    "\n",
    "# Execute test\n",
    "test_user_exists(user_id)"
   ]
  },
  {
   "cell_type": "code",
   "execution_count": 6,
   "metadata": {},
   "outputs": [
    {
     "name": "stdout",
     "output_type": "stream",
     "text": [
      "Status Code: 200\n",
      "Response: {\n",
      "  \"exists\": false\n",
      "}\n"
     ]
    }
   ],
   "source": [
    "def test_non_existent_user_exists():\n",
    "    \"\"\"Test checking if a non-existent user exists\"\"\"\n",
    "    fake_user_id = str(uuid.uuid4())\n",
    "    response = requests.get(f\"{BASE_URL}/users/{fake_user_id}/exists\")\n",
    "    print_response(response)\n",
    "    \n",
    "    assert response.status_code == 200, \"Failed to check if user exists\"\n",
    "    assert \"exists\" in response.json(), \"Response doesn't contain 'exists' field\"\n",
    "    assert response.json()[\"exists\"] is False, \"User should not exist but 'exists' is True\"\n",
    "\n",
    "# Execute test\n",
    "test_non_existent_user_exists()"
   ]
  },
  {
   "cell_type": "code",
   "execution_count": 7,
   "metadata": {},
   "outputs": [
    {
     "name": "stdout",
     "output_type": "stream",
     "text": [
      "Status Code: 200\n",
      "Response: {\n",
      "  \"user_id\": \"7772d881-3a14-4741-a102-3d57398e7e9d\",\n",
      "  \"first_name\": \"Test\",\n",
      "  \"last_name\": \"User\",\n",
      "  \"email\": \"testbb690173-51d0-4ec5-abbd-07b707582ef3@example.com\",\n",
      "  \"timestamp\": 1745449636\n",
      "}\n"
     ]
    }
   ],
   "source": [
    "def test_get_user(user_id):\n",
    "    \"\"\"Test retrieving user information\"\"\"\n",
    "    response = requests.get(f\"{BASE_URL}/users/{user_id}\")\n",
    "    print_response(response)\n",
    "    \n",
    "    assert response.status_code == 200, \"Failed to retrieve user\"\n",
    "    user_data = response.json()\n",
    "    assert user_data[\"user_id\"] == user_id, \"User ID mismatch\"\n",
    "    assert \"first_name\" in user_data, \"Missing first_name field\"\n",
    "    assert \"last_name\" in user_data, \"Missing last_name field\"\n",
    "    assert \"email\" in user_data, \"Missing email field\"\n",
    "    \n",
    "    return user_data\n",
    "\n",
    "# Execute test\n",
    "user_data = test_get_user(user_id)"
   ]
  },
  {
   "cell_type": "code",
   "execution_count": 8,
   "metadata": {},
   "outputs": [
    {
     "name": "stdout",
     "output_type": "stream",
     "text": [
      "Status Code: 404\n",
      "Response: {\n",
      "  \"detail\": \"User not found\"\n",
      "}\n"
     ]
    }
   ],
   "source": [
    "def test_get_nonexistent_user():\n",
    "    \"\"\"Test retrieving a user that doesn't exist\"\"\"\n",
    "    fake_user_id = str(uuid.uuid4())\n",
    "    response = requests.get(f\"{BASE_URL}/users/{fake_user_id}\")\n",
    "    print_response(response)\n",
    "    \n",
    "    assert response.status_code == 404, \"Expected 404 error for nonexistent user\"\n",
    "\n",
    "# Execute test\n",
    "test_get_nonexistent_user()"
   ]
  },
  {
   "cell_type": "code",
   "execution_count": 9,
   "metadata": {},
   "outputs": [
    {
     "name": "stdout",
     "output_type": "stream",
     "text": [
      "Status Code: 200\n",
      "Response: {\n",
      "  \"user_ids\": [\n",
      "    \"455465e4-2e80-468d-abd4-e9a75678f81c\",\n",
      "    \"7772d881-3a14-4741-a102-3d57398e7e9d\",\n",
      "    \"f5743244-f522-457e-a3d4-91130785f3f1\",\n",
      "    \"9a9316a3-5ffb-498e-b761-a7b93c3847b5\",\n",
      "    \"d6b32a84-aff1-4f06-85b0-396d4c3432d1\",\n",
      "    \"ff5382f6-6605-4f5e-aaa5-555a0153d63a\"\n",
      "  ]\n",
      "}\n"
     ]
    }
   ],
   "source": [
    "def test_list_users():\n",
    "    \"\"\"Test retrieving a list of all users\"\"\"\n",
    "    response = requests.get(f\"{BASE_URL}/users\")\n",
    "    print_response(response)\n",
    "    \n",
    "    assert response.status_code == 200, \"Failed to retrieve users list\"\n",
    "    assert \"user_ids\" in response.json(), \"Response doesn't contain user_ids list\"\n",
    "    \n",
    "    # Check if our new user is in the list\n",
    "    assert user_id in response.json()[\"user_ids\"], \"Newly created user not in users list\"\n",
    "\n",
    "# Execute test\n",
    "test_list_users()"
   ]
  },
  {
   "cell_type": "markdown",
   "metadata": {},
   "source": [
    "## Test user-movie ratings storage and retrieval"
   ]
  },
  {
   "cell_type": "code",
   "execution_count": 10,
   "metadata": {},
   "outputs": [
    {
     "name": "stdout",
     "output_type": "stream",
     "text": [
      "Status Code: 200\n",
      "Response: {\n",
      "  \"message\": \"Movie rating stored successfully\",\n",
      "  \"movie_id\": \"597\"\n",
      "}\n"
     ]
    }
   ],
   "source": [
    "def test_add_movie_rating(user_id):\n",
    "    \"\"\"Test adding a movie rating for a user\"\"\"\n",
    "    rating_data = {\n",
    "        \"user_id\": user_id,\n",
    "        \"movie_title\": \"Titanic\",\n",
    "        \"rating\": 4.5\n",
    "    }\n",
    "    \n",
    "    response = requests.post(f\"{BASE_URL}/users/{user_id}/ratings\", json=rating_data)\n",
    "    print_response(response)\n",
    "    \n",
    "    assert response.status_code == 200, \"Failed to add movie rating\"\n",
    "\n",
    "# Execute test\n",
    "test_add_movie_rating(user_id)"
   ]
  },
  {
   "cell_type": "code",
   "execution_count": 11,
   "metadata": {},
   "outputs": [
    {
     "name": "stdout",
     "output_type": "stream",
     "text": [
      "Status Code: 200\n",
      "Response: {\n",
      "  \"ratings\": [\n",
      "    [\n",
      "      \"7772d881-3a14-4741-a102-3d57398e7e9d\",\n",
      "      \"597\",\n",
      "      4.5,\n",
      "      1745490234\n",
      "    ]\n",
      "  ]\n",
      "}\n",
      "\n",
      "Parsed Response:\n",
      "ratings=[('7772d881-3a14-4741-a102-3d57398e7e9d', '597', 4.5, 1745490234)]\n"
     ]
    }
   ],
   "source": [
    "def test_get_movie_ratings(user_id):\n",
    "    \"\"\"Test retrieving movie ratings for a user\"\"\"\n",
    "    response = requests.get(f\"{BASE_URL}/users/{user_id}/ratings\")\n",
    "    print_response(response)\n",
    "\n",
    "    parsed_response = UserMovieRatings(**response.json())\n",
    "    print(\"\\nParsed Response:\")\n",
    "    print(parsed_response)\n",
    "    \n",
    "    assert response.status_code == 200, \"Failed to retrieve movie ratings\"\n",
    "    assert \"ratings\" in response.json(), \"Response doesn't contain ratings list\"\n",
    "    \n",
    "    # Check if our rating is in the list (by user_id and rating value)\n",
    "    ratings = response.json()[\"ratings\"]\n",
    "    assert len(ratings) > 0, \"No ratings found for user\"\n",
    "    \n",
    "    found = False\n",
    "    for rating in ratings:\n",
    "        user_id_from_db = rating[0]\n",
    "        rating_value_from_db = rating[2]\n",
    "        if user_id_from_db == user_id and rating_value_from_db == 4.5:\n",
    "            found = True\n",
    "    \n",
    "    assert found, \"Added rating not found in user's ratings\"\n",
    "\n",
    "# Execute test\n",
    "test_get_movie_ratings(user_id)"
   ]
  },
  {
   "cell_type": "markdown",
   "metadata": {},
   "source": [
    "## Test user preferences storage and retrieval"
   ]
  },
  {
   "cell_type": "code",
   "execution_count": 12,
   "metadata": {},
   "outputs": [
    {
     "name": "stdout",
     "output_type": "stream",
     "text": [
      "Status Code: 200\n",
      "Response: {\n",
      "  \"message\": \"User preference stored successfully\"\n",
      "}\n"
     ]
    }
   ],
   "source": [
    "def test_add_user_preference(user_id):\n",
    "    \"\"\"Test adding a preference for a user\"\"\"\n",
    "    preference_data = {\n",
    "        \"user_id\": user_id,\n",
    "        \"preference\": \"Action\"\n",
    "    }\n",
    "    \n",
    "    response = requests.post(f\"{BASE_URL}/users/{user_id}/preferences\", json=preference_data)\n",
    "    print_response(response)\n",
    "    \n",
    "    assert response.status_code == 200, \"Failed to add user preference\"\n",
    "    \n",
    "    # Add a second preference\n",
    "    preference_data[\"preference\"] = \"Comedy\"\n",
    "    response = requests.post(f\"{BASE_URL}/users/{user_id}/preferences\", json=preference_data)\n",
    "    assert response.status_code == 200, \"Failed to add second user preference\"\n",
    "\n",
    "# Execute test\n",
    "test_add_user_preference(user_id)"
   ]
  },
  {
   "cell_type": "code",
   "execution_count": 13,
   "metadata": {},
   "outputs": [
    {
     "name": "stdout",
     "output_type": "stream",
     "text": [
      "Status Code: 200\n",
      "Response: {\n",
      "  \"preferences\": [\n",
      "    [\n",
      "      \"7772d881-3a14-4741-a102-3d57398e7e9d\",\n",
      "      \"Action\",\n",
      "      1745490234\n",
      "    ],\n",
      "    [\n",
      "      \"7772d881-3a14-4741-a102-3d57398e7e9d\",\n",
      "      \"Comedy\",\n",
      "      1745490234\n",
      "    ]\n",
      "  ]\n",
      "}\n",
      "\n",
      "Parsed Response:\n",
      "preferences=[('7772d881-3a14-4741-a102-3d57398e7e9d', 'Action', 1745490234), ('7772d881-3a14-4741-a102-3d57398e7e9d', 'Comedy', 1745490234)]\n"
     ]
    }
   ],
   "source": [
    "def test_get_user_preferences(user_id):\n",
    "    \"\"\"Test retrieving preferences for a user\"\"\"\n",
    "    response = requests.get(f\"{BASE_URL}/users/{user_id}/preferences\")\n",
    "    print_response(response)\n",
    "\n",
    "    parsed_response = UserPreferences(**response.json())\n",
    "    print(\"\\nParsed Response:\")\n",
    "    print(parsed_response)\n",
    "    \n",
    "    assert response.status_code == 200, \"Failed to retrieve user preferences\"\n",
    "    assert \"preferences\" in response.json(), \"Response doesn't contain preferences list\"\n",
    "    \n",
    "    # Check if our preferences are in the list\n",
    "    preferences = response.json()[\"preferences\"]\n",
    "    preference_values = [p[1] for p in preferences]\n",
    "    \n",
    "    assert \"Action\" in preference_values, \"Action preference not found\"\n",
    "    assert \"Comedy\" in preference_values, \"Comedy preference not found\"\n",
    "\n",
    "# Execute test\n",
    "test_get_user_preferences(user_id)"
   ]
  }
 ],
 "metadata": {
  "kernelspec": {
   "display_name": "tf-gpu",
   "language": "python",
   "name": "python3"
  },
  "language_info": {
   "codemirror_mode": {
    "name": "ipython",
    "version": 3
   },
   "file_extension": ".py",
   "mimetype": "text/x-python",
   "name": "python",
   "nbconvert_exporter": "python",
   "pygments_lexer": "ipython3",
   "version": "3.12.3"
  }
 },
 "nbformat": 4,
 "nbformat_minor": 2
}
