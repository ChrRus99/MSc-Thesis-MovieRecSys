{
 "cells": [
  {
   "cell_type": "markdown",
   "id": "40ce8f76",
   "metadata": {},
   "source": [
    "# Movie Cast and Crew Info API Tests\n",
    "\n",
    "This notebook contains for the Movie Recommendation Service API endpoints defined in `/kg_rag_neo4j_info` endpoint."
   ]
  },
  {
   "cell_type": "code",
   "execution_count": 1,
   "id": "dc9f4129",
   "metadata": {},
   "outputs": [],
   "source": [
    "import os\n",
    "import requests\n",
    "from IPython.display import display\n",
    "from dotenv import load_dotenv\n",
    "from pathlib import Path\n",
    "\n",
    "# Dynamically find the project root\n",
    "project_root = Path(os.getcwd()).resolve().parents[1]\n",
    "dotenv_path = project_root / \".env\"  # Path to .env\n",
    "\n",
    "# Load environment variables from .env file\n",
    "load_dotenv(dotenv_path)\n",
    "\n",
    "BASE_URL = \"http://localhost:\" + os.getenv(\"MOVIE_CAST_AND_CREW_MICROSERVICE_PORT\")\n",
    "#BASE_URL = \"http://host.docker.internal:\" + os.getenv(\"MOVIE_CAST_AND_CREW_MICROSERVICE_PORT\")"
   ]
  },
  {
   "cell_type": "markdown",
   "id": "f46107c9",
   "metadata": {},
   "source": [
    "## Test kg_rag_neo4j_info Endpoint"
   ]
  },
  {
   "cell_type": "code",
   "execution_count": 2,
   "id": "1a8039d9",
   "metadata": {},
   "outputs": [
    {
     "name": "stdout",
     "output_type": "stream",
     "text": [
      "Status Code: 200\n",
      "Response: \"Need additional information, which of these did you mean: \\n{'candidate': 'Titanica', 'label': 'Movie', 'id': '45929'}\\n{'candidate': 'Titanic', 'label': 'Movie', 'id': '597'}\\n{'candidate': 'Titanic', 'label': 'Movie', 'id': '16535'}\\nPlease call the function again providing the 'id' for the desired entity.\"\n"
     ]
    }
   ],
   "source": [
    "def test_kg_rag_neo4j_info():\n",
    "    \"\"\"Test the /kg_rag_neo4j_info endpoint\"\"\"\n",
    "    params = {\n",
    "        \"entity\": \"Titanic\",\n",
    "        \"type\": \"movie\"\n",
    "    }\n",
    "    response = requests.get(f\"{BASE_URL}/kg_rag_neo4j_info\", params=params)\n",
    "    print(f\"Status Code: {response.status_code}\")\n",
    "    print(f\"Response: {response.text}\")\n",
    "    assert response.status_code == 200, \"Failed to fetch movie info\"\n",
    "\n",
    "# Execute test\n",
    "test_kg_rag_neo4j_info()"
   ]
  },
  {
   "cell_type": "code",
   "execution_count": 3,
   "id": "d683ea8a",
   "metadata": {},
   "outputs": [
    {
     "name": "stdout",
     "output_type": "stream",
     "text": [
      "Status Code: 200\n",
      "Response: \"type:Movie\\ntitle: Titanic\\nyear: 1997\\nIN_GENRE: Drama, Romance, Thriller\\nACTED_IN: Miguel A. Lomelin, Nicholas Cascone, Tricia O'Neil, Mark Capri, James Lancaster, Brian Baines, John Slade, Mandana Marino, James Cameron, Greg Ellis, Paul Brightwell, Charlotte Chatton, Kate Winslet, Alexandrea Owens, Kevin De La Noy, Richard Fox, Vern Urich, Shay Duffin, Kathy Bates, Olivia Rosewood, Terry Forrestal, Edmond Alan Forsyth, Edward Fletcher, Alexandra Boyd, Jason Barry, Scott Hislop, Lew Palter, Reece P. Thompson III, Kris Andersson, Rocky Taylor, Eric Braeden, Richard Graham, Leonardo DiCaprio, Meghan McLeod, Bret Aaron Knower, Michael Ensign, Bernard Fox, Ioan Gruffudd, Marc Cass, Stephen Wolfe Smith, Camilla Overbye Roos, Kevyn Currie, Anne Fletcher, Martin East, Brian Walsh, Diana Morgan, Tony Kenny, Fannie Brett, Phil Parlapiano, Van Ling, Linda Kerns, Sean Howse, David Warner, Kevin Owers, Gloria Stuart, Martin Jarvis, Amy Gaipa, Billy Zane, Stan Mazin, Erik Holland, Richard Ashton, Anatoly M. Sagalevitch, John Leonhardt, Bernard Hill, Nick Meaney, Simon Crane, Ron Donachie, Don Lynch, Suzy Amis, Paul Herbert, Gregory Cooke, Lisa Ratzin, Dan Pettersson, George Kosty Jr., James Garrett, Griffin Howell, Mark Rafael Truitt, Rebecca Klingler, John Walcutt, Oliver Page, Jari Kinnunen, Julene Renee, Rochelle Rose, Garth Wilton, Frances Fisher, Steven Quale, Lucie Zolcerova, R. Gern Trowbridge, George Kosty III, Julian Oros, Seth Adkins, Lewis Abernathy, Emmett James, Bjørn Olsen, Mike Butters, Barry Dennen, Jonathan Hyde, Chris Cragnotti, Jonny Phillips, Laramie Landis, Jenette Goldstein, Victor Garber, Sean Nepita, Scott G. Anderson, Liam Tuohy, Bill Paxton, Ryan McClurkin, Jonathan Evans-Jones, Mark Lindsay Chapman, Andie Hicks, Craig Kelly, Judy Prestininzi, Bruno Campolo, Mike O'Neal, Johnny Martin, Sean Lawlor, Romeo Francis, Rosalind Ayres, Chris Byrne, Bobbie Bates, Elsa Raven, Martin Hub, Derek Lea, Brendan Connolly, David Cronnelly, Anders Falk, Aaron James Cash, Geoffrey C. Kosty, Thomas Fiss, Gregory Charles Kosty, Ewan Stewart, Francisco Váldez, Kathleen S. Dunn, Ellie Bensinger, Danny Nucci\\nDIRECTED: James Cameron\\nWORKED_ON: Simon Crane, Joe E. Rand, Laura Borselli, Tony Graysmark, Russell Carpenter, Merie Weismiller Wallace, Sharon Mann, Gwendolyn Yates Whittle, Charlotte Harper, Mike Amorelli, Martin Laing, Fabiola Perez Luna, Lisa Dennis Kennedy, Emily Schweber, Rae Sanchini, Richard Quinn, Giedra Rackauskas, Chris O'Connell, Peter Lamont, Murray Lantz, Claire Sanfilippo, James Horner, Amy Arnold, Richard A. Harris, Rudy Joffroy, Michael Ford, Al Giddings, Scott MacFarlane, James Cameron, Kay Georgiou, William Les Collins, Amanda Sallybanks, Tina Earnshaw, Leigh Leverett, Jesus Ignacio Santana, David Le Vey, Adolfo Ramírez, Magui Jimenez, Sarah Touaibi, Grant Hill, John H. Arrufat, Simon Thompson, Mali Finn, Gemma Joffroy, Deborah Lynn Scott, Greg Cannom, Ismael Jardon, John Bruno, Anna Roth, Conrad Buff IV, George Fisher, Brian N. Bentley, Jon Landau, Randy Gerston, Lahly Poore, Pamela Easley, Marcis Cole, Annie Townsend\\n\"\n"
     ]
    }
   ],
   "source": [
    "def test_kg_rag_neo4j_info():\n",
    "    \"\"\"Test the /kg_rag_neo4j_info endpoint\"\"\"\n",
    "    params = {\n",
    "        \"entity\": \"Titanic\",\n",
    "        \"type\": \"movie\",\n",
    "        \"entity_id\": \"597\"\n",
    "    }\n",
    "    response = requests.get(f\"{BASE_URL}/kg_rag_neo4j_info\", params=params)\n",
    "    print(f\"Status Code: {response.status_code}\")\n",
    "    print(f\"Response: {response.text}\")\n",
    "    assert response.status_code == 200, \"Failed to fetch movie info\"\n",
    "\n",
    "# Execute test\n",
    "test_kg_rag_neo4j_info()"
   ]
  },
  {
   "cell_type": "code",
   "execution_count": 4,
   "id": "001ded54",
   "metadata": {},
   "outputs": [
    {
     "name": "stdout",
     "output_type": "stream",
     "text": [
      "Status Code: 200\n",
      "Response: \"type:Person\\ntitle: Tom Hanks\\nyear: \\nACTED_IN: The Great Buck Howard, Band of Brothers, Prohibition, Inferno, Ithaca, Bridge of Spies, A Hologram for the King, The Extraordinary Voyage, Everything Is Copy, Sully, The Circle, The Sixties, And the Oscar Goes To..., Small Fry, Hawaiian Vacation, Elvis Has Left the Building, Toy Story That Time Forgot, Partysaurus Rex, Extremely Loud & Incredibly Close, Toy Story of Terror!, The War, The Rutles 2: Can't Buy Me Lunch, Killing Lincoln, Saving Mr. Banks, The Pixar Story, Captain Phillips, Larry Crowne, Cloud Atlas, Toy Story 3, The Da Vinci Code, Who Killed the Electric Car?, The Simpsons Movie, Toy Story, Bachelor Party, You've Got Mail, Apollo 13, Saving Private Ryan, Return with Honor, Dragnet, He Knows You're Alone, Toy Story 2, The Terminal, Sleepless in Seattle, A League of Their Own, Punchline, Nothing in Common, The Green Mile, Turner & Hooch, The 'Burbs, The Ladykillers, Catch Me If You Can, Big, Road to Perdition, Philadelphia, The Bonfire of the Vanities, The Celluloid Closet, Volunteers, The Money Pit, That Thing You Do!, Radio Flyer, Joe Versus the Volcano, Splash, Cast Away, Forrest Gump, Shooting War, Charlie Wilson's War, The Polar Express, Angels & Demons, The Man with One Red Shoe, From the Earth to the Moon, Cars\\nDIRECTED: That Thing You Do!, Band of Brothers, Larry Crowne\\nWORKED_ON: The Great Buck Howard, Band of Brothers, Ithaca, My Big Fat Greek Wedding 2, The Sixties, The Circle, Olive Kitteridge, The Pacific, Parkland, Larry Crowne, City of Ember, Where the Wild Things Are, Cast Away, My Big Fat Greek Wedding, That Thing You Do!, Evan Almighty, The Polar Express, The Ant Bully, We Stand Alone Together, Neil Young: Heart of Gold, Charlie Wilson's War, Mamma Mia!\\n\"\n"
     ]
    }
   ],
   "source": [
    "def test_kg_rag_neo4j_info():\n",
    "    \"\"\"Test the /kg_rag_neo4j_info endpoint\"\"\"\n",
    "    params = {\n",
    "        \"entity\": \"Tom Hanks\",\n",
    "        \"type\": \"person\"\n",
    "    }\n",
    "    response = requests.get(f\"{BASE_URL}/kg_rag_neo4j_info\", params=params)\n",
    "    print(f\"Status Code: {response.status_code}\")\n",
    "    print(f\"Response: {response.text}\")\n",
    "    assert response.status_code == 200, \"Failed to fetch cast/crew info\"\n",
    "\n",
    "# Execute test\n",
    "test_kg_rag_neo4j_info()"
   ]
  }
 ],
 "metadata": {
  "kernelspec": {
   "display_name": "tf-gpu",
   "language": "python",
   "name": "python3"
  },
  "language_info": {
   "codemirror_mode": {
    "name": "ipython",
    "version": 3
   },
   "file_extension": ".py",
   "mimetype": "text/x-python",
   "name": "python",
   "nbconvert_exporter": "python",
   "pygments_lexer": "ipython3",
   "version": "3.12.3"
  }
 },
 "nbformat": 4,
 "nbformat_minor": 5
}
